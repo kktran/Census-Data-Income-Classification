{
 "cells": [
  {
   "cell_type": "markdown",
   "metadata": {},
   "source": [
    "## Decision Tree "
   ]
  },
  {
   "cell_type": "code",
   "execution_count": 34,
   "metadata": {},
   "outputs": [
    {
     "data": {
      "text/plain": [
       "array(['Not-in-family', 'Husband', 'Wife', 'Own-child', 'Unmarried',\n",
       "       'Other-relative'], dtype=object)"
      ]
     },
     "execution_count": 34,
     "metadata": {},
     "output_type": "execute_result"
    }
   ],
   "source": [
    "adult['relationship'].unique()"
   ]
  },
  {
   "cell_type": "code",
   "execution_count": 35,
   "metadata": {},
   "outputs": [
    {
     "data": {
      "text/plain": [
       "array(['Never-married', 'Married', 'Not-married', 'Widowed'], dtype=object)"
      ]
     },
     "execution_count": 35,
     "metadata": {},
     "output_type": "execute_result"
    }
   ],
   "source": [
    "adult['marital_status'].unique()"
   ]
  },
  {
   "cell_type": "code",
   "execution_count": 1,
   "metadata": {},
   "outputs": [
    {
     "data": {
      "text/html": [
       "<div>\n",
       "<style>\n",
       "    .dataframe thead tr:only-child th {\n",
       "        text-align: right;\n",
       "    }\n",
       "\n",
       "    .dataframe thead th {\n",
       "        text-align: left;\n",
       "    }\n",
       "\n",
       "    .dataframe tbody tr th {\n",
       "        vertical-align: top;\n",
       "    }\n",
       "</style>\n",
       "<table border=\"1\" class=\"dataframe\">\n",
       "  <thead>\n",
       "    <tr style=\"text-align: right;\">\n",
       "      <th></th>\n",
       "      <th>age</th>\n",
       "      <th>workclass</th>\n",
       "      <th>education</th>\n",
       "      <th>marital_status</th>\n",
       "      <th>occupation</th>\n",
       "      <th>relationship</th>\n",
       "      <th>race</th>\n",
       "      <th>sex</th>\n",
       "      <th>capital_gain</th>\n",
       "      <th>capital_loss</th>\n",
       "      <th>hours_per_week</th>\n",
       "      <th>native_country</th>\n",
       "      <th>over_50k</th>\n",
       "    </tr>\n",
       "  </thead>\n",
       "  <tbody>\n",
       "    <tr>\n",
       "      <th>0</th>\n",
       "      <td>39</td>\n",
       "      <td>State-gov</td>\n",
       "      <td>Bachelors</td>\n",
       "      <td>Never-married</td>\n",
       "      <td>Adm-clerical</td>\n",
       "      <td>Not-in-family</td>\n",
       "      <td>White</td>\n",
       "      <td>Male</td>\n",
       "      <td>2174</td>\n",
       "      <td>0</td>\n",
       "      <td>40</td>\n",
       "      <td>United-States</td>\n",
       "      <td>&lt;=50K</td>\n",
       "    </tr>\n",
       "    <tr>\n",
       "      <th>1</th>\n",
       "      <td>50</td>\n",
       "      <td>Self-Employed</td>\n",
       "      <td>Bachelors</td>\n",
       "      <td>Married</td>\n",
       "      <td>Exec-managerial</td>\n",
       "      <td>Husband</td>\n",
       "      <td>White</td>\n",
       "      <td>Male</td>\n",
       "      <td>0</td>\n",
       "      <td>0</td>\n",
       "      <td>13</td>\n",
       "      <td>United-States</td>\n",
       "      <td>&lt;=50K</td>\n",
       "    </tr>\n",
       "    <tr>\n",
       "      <th>2</th>\n",
       "      <td>38</td>\n",
       "      <td>Private</td>\n",
       "      <td>HS-grad</td>\n",
       "      <td>Not-married</td>\n",
       "      <td>Handlers-cleaners</td>\n",
       "      <td>Not-in-family</td>\n",
       "      <td>White</td>\n",
       "      <td>Male</td>\n",
       "      <td>0</td>\n",
       "      <td>0</td>\n",
       "      <td>40</td>\n",
       "      <td>United-States</td>\n",
       "      <td>&lt;=50K</td>\n",
       "    </tr>\n",
       "    <tr>\n",
       "      <th>3</th>\n",
       "      <td>53</td>\n",
       "      <td>Private</td>\n",
       "      <td>Below-HS</td>\n",
       "      <td>Married</td>\n",
       "      <td>Handlers-cleaners</td>\n",
       "      <td>Husband</td>\n",
       "      <td>Black</td>\n",
       "      <td>Male</td>\n",
       "      <td>0</td>\n",
       "      <td>0</td>\n",
       "      <td>40</td>\n",
       "      <td>United-States</td>\n",
       "      <td>&lt;=50K</td>\n",
       "    </tr>\n",
       "    <tr>\n",
       "      <th>4</th>\n",
       "      <td>28</td>\n",
       "      <td>Private</td>\n",
       "      <td>Bachelors</td>\n",
       "      <td>Married</td>\n",
       "      <td>Prof-specialty</td>\n",
       "      <td>Wife</td>\n",
       "      <td>Black</td>\n",
       "      <td>Female</td>\n",
       "      <td>0</td>\n",
       "      <td>0</td>\n",
       "      <td>40</td>\n",
       "      <td>Cuba</td>\n",
       "      <td>&lt;=50K</td>\n",
       "    </tr>\n",
       "  </tbody>\n",
       "</table>\n",
       "</div>"
      ],
      "text/plain": [
       "   age      workclass  education marital_status         occupation  \\\n",
       "0   39      State-gov  Bachelors  Never-married       Adm-clerical   \n",
       "1   50  Self-Employed  Bachelors        Married    Exec-managerial   \n",
       "2   38        Private    HS-grad    Not-married  Handlers-cleaners   \n",
       "3   53        Private   Below-HS        Married  Handlers-cleaners   \n",
       "4   28        Private  Bachelors        Married     Prof-specialty   \n",
       "\n",
       "    relationship   race     sex  capital_gain  capital_loss  hours_per_week  \\\n",
       "0  Not-in-family  White    Male          2174             0              40   \n",
       "1        Husband  White    Male             0             0              13   \n",
       "2  Not-in-family  White    Male             0             0              40   \n",
       "3        Husband  Black    Male             0             0              40   \n",
       "4           Wife  Black  Female             0             0              40   \n",
       "\n",
       "  native_country over_50k  \n",
       "0  United-States    <=50K  \n",
       "1  United-States    <=50K  \n",
       "2  United-States    <=50K  \n",
       "3  United-States    <=50K  \n",
       "4           Cuba    <=50K  "
      ]
     },
     "execution_count": 1,
     "metadata": {},
     "output_type": "execute_result"
    }
   ],
   "source": [
    "import pandas as pd\n",
    "import numpy as np\n",
    "import seaborn as sns\n",
    "import matplotlib.pyplot as plt\n",
    "import sklearn as sk\n",
    "import sklearn.model_selection as model_selection\n",
    "\n",
    "adult = pd.read_csv('clean_census.csv', index_col = 0)\n",
    "adult.head()"
   ]
  },
  {
   "cell_type": "code",
   "execution_count": 2,
   "metadata": {},
   "outputs": [
    {
     "data": {
      "text/plain": [
       "0    False\n",
       "1    False\n",
       "2    False\n",
       "3    False\n",
       "4    False\n",
       "Name: over_50k, dtype: bool"
      ]
     },
     "execution_count": 2,
     "metadata": {},
     "output_type": "execute_result"
    }
   ],
   "source": [
    "y = adult['over_50k']== '>50K'\n",
    "y.head()"
   ]
  },
  {
   "cell_type": "code",
   "execution_count": 3,
   "metadata": {
    "scrolled": true
   },
   "outputs": [
    {
     "data": {
      "text/html": [
       "<div>\n",
       "<style>\n",
       "    .dataframe thead tr:only-child th {\n",
       "        text-align: right;\n",
       "    }\n",
       "\n",
       "    .dataframe thead th {\n",
       "        text-align: left;\n",
       "    }\n",
       "\n",
       "    .dataframe tbody tr th {\n",
       "        vertical-align: top;\n",
       "    }\n",
       "</style>\n",
       "<table border=\"1\" class=\"dataframe\">\n",
       "  <thead>\n",
       "    <tr style=\"text-align: right;\">\n",
       "      <th></th>\n",
       "      <th>age</th>\n",
       "      <th>capital_gain</th>\n",
       "      <th>capital_loss</th>\n",
       "      <th>hours_per_week</th>\n",
       "      <th>workclass_Federal-gov</th>\n",
       "      <th>workclass_Local-gov</th>\n",
       "      <th>workclass_Private</th>\n",
       "      <th>workclass_Self-Employed</th>\n",
       "      <th>workclass_State-gov</th>\n",
       "      <th>workclass_Without-pay</th>\n",
       "      <th>...</th>\n",
       "      <th>native_country_Portugal</th>\n",
       "      <th>native_country_Puerto-Rico</th>\n",
       "      <th>native_country_Scotland</th>\n",
       "      <th>native_country_South</th>\n",
       "      <th>native_country_Taiwan</th>\n",
       "      <th>native_country_Thailand</th>\n",
       "      <th>native_country_Trinadad&amp;Tobago</th>\n",
       "      <th>native_country_United-States</th>\n",
       "      <th>native_country_Vietnam</th>\n",
       "      <th>native_country_Yugoslavia</th>\n",
       "    </tr>\n",
       "  </thead>\n",
       "  <tbody>\n",
       "    <tr>\n",
       "      <th>0</th>\n",
       "      <td>39</td>\n",
       "      <td>2174</td>\n",
       "      <td>0</td>\n",
       "      <td>40</td>\n",
       "      <td>0</td>\n",
       "      <td>0</td>\n",
       "      <td>0</td>\n",
       "      <td>0</td>\n",
       "      <td>1</td>\n",
       "      <td>0</td>\n",
       "      <td>...</td>\n",
       "      <td>0</td>\n",
       "      <td>0</td>\n",
       "      <td>0</td>\n",
       "      <td>0</td>\n",
       "      <td>0</td>\n",
       "      <td>0</td>\n",
       "      <td>0</td>\n",
       "      <td>1</td>\n",
       "      <td>0</td>\n",
       "      <td>0</td>\n",
       "    </tr>\n",
       "    <tr>\n",
       "      <th>1</th>\n",
       "      <td>50</td>\n",
       "      <td>0</td>\n",
       "      <td>0</td>\n",
       "      <td>13</td>\n",
       "      <td>0</td>\n",
       "      <td>0</td>\n",
       "      <td>0</td>\n",
       "      <td>1</td>\n",
       "      <td>0</td>\n",
       "      <td>0</td>\n",
       "      <td>...</td>\n",
       "      <td>0</td>\n",
       "      <td>0</td>\n",
       "      <td>0</td>\n",
       "      <td>0</td>\n",
       "      <td>0</td>\n",
       "      <td>0</td>\n",
       "      <td>0</td>\n",
       "      <td>1</td>\n",
       "      <td>0</td>\n",
       "      <td>0</td>\n",
       "    </tr>\n",
       "    <tr>\n",
       "      <th>2</th>\n",
       "      <td>38</td>\n",
       "      <td>0</td>\n",
       "      <td>0</td>\n",
       "      <td>40</td>\n",
       "      <td>0</td>\n",
       "      <td>0</td>\n",
       "      <td>1</td>\n",
       "      <td>0</td>\n",
       "      <td>0</td>\n",
       "      <td>0</td>\n",
       "      <td>...</td>\n",
       "      <td>0</td>\n",
       "      <td>0</td>\n",
       "      <td>0</td>\n",
       "      <td>0</td>\n",
       "      <td>0</td>\n",
       "      <td>0</td>\n",
       "      <td>0</td>\n",
       "      <td>1</td>\n",
       "      <td>0</td>\n",
       "      <td>0</td>\n",
       "    </tr>\n",
       "    <tr>\n",
       "      <th>3</th>\n",
       "      <td>53</td>\n",
       "      <td>0</td>\n",
       "      <td>0</td>\n",
       "      <td>40</td>\n",
       "      <td>0</td>\n",
       "      <td>0</td>\n",
       "      <td>1</td>\n",
       "      <td>0</td>\n",
       "      <td>0</td>\n",
       "      <td>0</td>\n",
       "      <td>...</td>\n",
       "      <td>0</td>\n",
       "      <td>0</td>\n",
       "      <td>0</td>\n",
       "      <td>0</td>\n",
       "      <td>0</td>\n",
       "      <td>0</td>\n",
       "      <td>0</td>\n",
       "      <td>1</td>\n",
       "      <td>0</td>\n",
       "      <td>0</td>\n",
       "    </tr>\n",
       "    <tr>\n",
       "      <th>4</th>\n",
       "      <td>28</td>\n",
       "      <td>0</td>\n",
       "      <td>0</td>\n",
       "      <td>40</td>\n",
       "      <td>0</td>\n",
       "      <td>0</td>\n",
       "      <td>1</td>\n",
       "      <td>0</td>\n",
       "      <td>0</td>\n",
       "      <td>0</td>\n",
       "      <td>...</td>\n",
       "      <td>0</td>\n",
       "      <td>0</td>\n",
       "      <td>0</td>\n",
       "      <td>0</td>\n",
       "      <td>0</td>\n",
       "      <td>0</td>\n",
       "      <td>0</td>\n",
       "      <td>0</td>\n",
       "      <td>0</td>\n",
       "      <td>0</td>\n",
       "    </tr>\n",
       "  </tbody>\n",
       "</table>\n",
       "<p>5 rows × 89 columns</p>\n",
       "</div>"
      ],
      "text/plain": [
       "   age  capital_gain  capital_loss  hours_per_week  workclass_Federal-gov  \\\n",
       "0   39          2174             0              40                      0   \n",
       "1   50             0             0              13                      0   \n",
       "2   38             0             0              40                      0   \n",
       "3   53             0             0              40                      0   \n",
       "4   28             0             0              40                      0   \n",
       "\n",
       "   workclass_Local-gov  workclass_Private  workclass_Self-Employed  \\\n",
       "0                    0                  0                        0   \n",
       "1                    0                  0                        1   \n",
       "2                    0                  1                        0   \n",
       "3                    0                  1                        0   \n",
       "4                    0                  1                        0   \n",
       "\n",
       "   workclass_State-gov  workclass_Without-pay            ...              \\\n",
       "0                    1                      0            ...               \n",
       "1                    0                      0            ...               \n",
       "2                    0                      0            ...               \n",
       "3                    0                      0            ...               \n",
       "4                    0                      0            ...               \n",
       "\n",
       "   native_country_Portugal  native_country_Puerto-Rico  \\\n",
       "0                        0                           0   \n",
       "1                        0                           0   \n",
       "2                        0                           0   \n",
       "3                        0                           0   \n",
       "4                        0                           0   \n",
       "\n",
       "   native_country_Scotland  native_country_South  native_country_Taiwan  \\\n",
       "0                        0                     0                      0   \n",
       "1                        0                     0                      0   \n",
       "2                        0                     0                      0   \n",
       "3                        0                     0                      0   \n",
       "4                        0                     0                      0   \n",
       "\n",
       "   native_country_Thailand  native_country_Trinadad&Tobago  \\\n",
       "0                        0                               0   \n",
       "1                        0                               0   \n",
       "2                        0                               0   \n",
       "3                        0                               0   \n",
       "4                        0                               0   \n",
       "\n",
       "   native_country_United-States  native_country_Vietnam  \\\n",
       "0                             1                       0   \n",
       "1                             1                       0   \n",
       "2                             1                       0   \n",
       "3                             1                       0   \n",
       "4                             0                       0   \n",
       "\n",
       "   native_country_Yugoslavia  \n",
       "0                          0  \n",
       "1                          0  \n",
       "2                          0  \n",
       "3                          0  \n",
       "4                          0  \n",
       "\n",
       "[5 rows x 89 columns]"
      ]
     },
     "execution_count": 3,
     "metadata": {},
     "output_type": "execute_result"
    }
   ],
   "source": [
    "adultX = adult.iloc[:,:12]\n",
    "X = pd.get_dummies(adultX)\n",
    "X.head()"
   ]
  },
  {
   "cell_type": "code",
   "execution_count": 4,
   "metadata": {
    "collapsed": true
   },
   "outputs": [],
   "source": [
    "X_train, X_test, y_train, y_test = model_selection.train_test_split(X, y, test_size = .2, random_state = 3)"
   ]
  },
  {
   "cell_type": "code",
   "execution_count": 12,
   "metadata": {},
   "outputs": [
    {
     "data": {
      "text/plain": [
       "DecisionTreeClassifier(class_weight=None, criterion='gini', max_depth=None,\n",
       "            max_features=None, max_leaf_nodes=None,\n",
       "            min_impurity_split=1e-07, min_samples_leaf=1,\n",
       "            min_samples_split=2, min_weight_fraction_leaf=0.0,\n",
       "            presort=False, random_state=None, splitter='best')"
      ]
     },
     "execution_count": 12,
     "metadata": {},
     "output_type": "execute_result"
    }
   ],
   "source": [
    "import sklearn.tree as tree\n",
    "clf = tree.DecisionTreeClassifier()\n",
    "clf.fit(X_train,y_train)"
   ]
  },
  {
   "cell_type": "code",
   "execution_count": 13,
   "metadata": {},
   "outputs": [
    {
     "data": {
      "text/plain": [
       "0.81700646444554947"
      ]
     },
     "execution_count": 13,
     "metadata": {},
     "output_type": "execute_result"
    }
   ],
   "source": [
    "sk.metrics.accuracy_score(y_test, clf.predict(X_test))"
   ]
  },
  {
   "cell_type": "markdown",
   "metadata": {},
   "source": [
    "## Logistic Regression"
   ]
  },
  {
   "cell_type": "markdown",
   "metadata": {},
   "source": [
    "### Default Settings"
   ]
  },
  {
   "cell_type": "code",
   "execution_count": 5,
   "metadata": {},
   "outputs": [
    {
     "data": {
      "text/plain": [
       "LogisticRegression(C=1.0, class_weight=None, dual=False, fit_intercept=True,\n",
       "          intercept_scaling=1, max_iter=100, multi_class='ovr', n_jobs=1,\n",
       "          penalty='l2', random_state=None, solver='liblinear', tol=0.0001,\n",
       "          verbose=0, warm_start=False)"
      ]
     },
     "execution_count": 5,
     "metadata": {},
     "output_type": "execute_result"
    }
   ],
   "source": [
    "from sklearn import linear_model\n",
    "logRegModel = linear_model.LogisticRegression()\n",
    "logRegModel.fit(X_train,y_train)\n"
   ]
  },
  {
   "cell_type": "code",
   "execution_count": 87,
   "metadata": {},
   "outputs": [
    {
     "data": {
      "text/plain": [
       "0.84319575667163926"
      ]
     },
     "execution_count": 87,
     "metadata": {},
     "output_type": "execute_result"
    }
   ],
   "source": [
    "sk.metrics.accuracy_score(y_test, logRegModel.predict(X_test))"
   ]
  },
  {
   "cell_type": "code",
   "execution_count": 36,
   "metadata": {
    "scrolled": true
   },
   "outputs": [
    {
     "data": {
      "text/html": [
       "<div>\n",
       "<style>\n",
       "    .dataframe thead tr:only-child th {\n",
       "        text-align: right;\n",
       "    }\n",
       "\n",
       "    .dataframe thead th {\n",
       "        text-align: left;\n",
       "    }\n",
       "\n",
       "    .dataframe tbody tr th {\n",
       "        vertical-align: top;\n",
       "    }\n",
       "</style>\n",
       "<table border=\"1\" class=\"dataframe\">\n",
       "  <thead>\n",
       "    <tr style=\"text-align: right;\">\n",
       "      <th></th>\n",
       "      <th>0</th>\n",
       "      <th>1</th>\n",
       "    </tr>\n",
       "  </thead>\n",
       "  <tbody>\n",
       "    <tr>\n",
       "      <th>0</th>\n",
       "      <td>age</td>\n",
       "      <td>[0.0237305504387]</td>\n",
       "    </tr>\n",
       "    <tr>\n",
       "      <th>1</th>\n",
       "      <td>capital_gain</td>\n",
       "      <td>[0.000322944633378]</td>\n",
       "    </tr>\n",
       "    <tr>\n",
       "      <th>2</th>\n",
       "      <td>capital_loss</td>\n",
       "      <td>[0.00066041881271]</td>\n",
       "    </tr>\n",
       "    <tr>\n",
       "      <th>3</th>\n",
       "      <td>hours_per_week</td>\n",
       "      <td>[0.0287133679705]</td>\n",
       "    </tr>\n",
       "    <tr>\n",
       "      <th>4</th>\n",
       "      <td>workclass_Federal-gov</td>\n",
       "      <td>[0.241213600272]</td>\n",
       "    </tr>\n",
       "    <tr>\n",
       "      <th>5</th>\n",
       "      <td>workclass_Local-gov</td>\n",
       "      <td>[-0.460780750659]</td>\n",
       "    </tr>\n",
       "    <tr>\n",
       "      <th>6</th>\n",
       "      <td>workclass_Private</td>\n",
       "      <td>[-0.313320468364]</td>\n",
       "    </tr>\n",
       "    <tr>\n",
       "      <th>7</th>\n",
       "      <td>workclass_Self-Employed</td>\n",
       "      <td>[-0.560623770847]</td>\n",
       "    </tr>\n",
       "    <tr>\n",
       "      <th>8</th>\n",
       "      <td>workclass_State-gov</td>\n",
       "      <td>[-0.585106352572]</td>\n",
       "    </tr>\n",
       "    <tr>\n",
       "      <th>9</th>\n",
       "      <td>workclass_Without-pay</td>\n",
       "      <td>[-0.104970744817]</td>\n",
       "    </tr>\n",
       "    <tr>\n",
       "      <th>10</th>\n",
       "      <td>education_Associates</td>\n",
       "      <td>[-0.6950296893]</td>\n",
       "    </tr>\n",
       "    <tr>\n",
       "      <th>11</th>\n",
       "      <td>education_Bachelors</td>\n",
       "      <td>[-0.0523768273545]</td>\n",
       "    </tr>\n",
       "    <tr>\n",
       "      <th>12</th>\n",
       "      <td>education_Below-HS</td>\n",
       "      <td>[-2.09354747221]</td>\n",
       "    </tr>\n",
       "    <tr>\n",
       "      <th>13</th>\n",
       "      <td>education_Doctorate</td>\n",
       "      <td>[0.911312443213]</td>\n",
       "    </tr>\n",
       "    <tr>\n",
       "      <th>14</th>\n",
       "      <td>education_HS-grad</td>\n",
       "      <td>[-1.06934050651]</td>\n",
       "    </tr>\n",
       "    <tr>\n",
       "      <th>15</th>\n",
       "      <td>education_Masters</td>\n",
       "      <td>[0.355123100056]</td>\n",
       "    </tr>\n",
       "    <tr>\n",
       "      <th>16</th>\n",
       "      <td>education_Prof-school</td>\n",
       "      <td>[0.860270465125]</td>\n",
       "    </tr>\n",
       "    <tr>\n",
       "      <th>17</th>\n",
       "      <td>marital_status_Married</td>\n",
       "      <td>[0.777946987398]</td>\n",
       "    </tr>\n",
       "    <tr>\n",
       "      <th>18</th>\n",
       "      <td>marital_status_Never-married</td>\n",
       "      <td>[-1.21954135372]</td>\n",
       "    </tr>\n",
       "    <tr>\n",
       "      <th>19</th>\n",
       "      <td>marital_status_Not-married</td>\n",
       "      <td>[-0.784527186916]</td>\n",
       "    </tr>\n",
       "    <tr>\n",
       "      <th>20</th>\n",
       "      <td>marital_status_Widowed</td>\n",
       "      <td>[-0.557466933751]</td>\n",
       "    </tr>\n",
       "    <tr>\n",
       "      <th>21</th>\n",
       "      <td>occupation_Adm-clerical</td>\n",
       "      <td>[-0.0932024501887]</td>\n",
       "    </tr>\n",
       "    <tr>\n",
       "      <th>22</th>\n",
       "      <td>occupation_Armed-Forces</td>\n",
       "      <td>[-0.0237984264492]</td>\n",
       "    </tr>\n",
       "    <tr>\n",
       "      <th>23</th>\n",
       "      <td>occupation_Craft-repair</td>\n",
       "      <td>[-0.0846782623474]</td>\n",
       "    </tr>\n",
       "    <tr>\n",
       "      <th>24</th>\n",
       "      <td>occupation_Exec-managerial</td>\n",
       "      <td>[0.725662464119]</td>\n",
       "    </tr>\n",
       "    <tr>\n",
       "      <th>25</th>\n",
       "      <td>occupation_Farming-fishing</td>\n",
       "      <td>[-1.34416264978]</td>\n",
       "    </tr>\n",
       "    <tr>\n",
       "      <th>26</th>\n",
       "      <td>occupation_Handlers-cleaners</td>\n",
       "      <td>[-0.788532350214]</td>\n",
       "    </tr>\n",
       "    <tr>\n",
       "      <th>27</th>\n",
       "      <td>occupation_Machine-op-inspct</td>\n",
       "      <td>[-0.350388609851]</td>\n",
       "    </tr>\n",
       "    <tr>\n",
       "      <th>28</th>\n",
       "      <td>occupation_Other-service</td>\n",
       "      <td>[-0.947526957615]</td>\n",
       "    </tr>\n",
       "    <tr>\n",
       "      <th>29</th>\n",
       "      <td>occupation_Priv-house-serv</td>\n",
       "      <td>[-0.251153030407]</td>\n",
       "    </tr>\n",
       "    <tr>\n",
       "      <th>...</th>\n",
       "      <td>...</td>\n",
       "      <td>...</td>\n",
       "    </tr>\n",
       "    <tr>\n",
       "      <th>59</th>\n",
       "      <td>native_country_Greece</td>\n",
       "      <td>[-0.176578237134]</td>\n",
       "    </tr>\n",
       "    <tr>\n",
       "      <th>60</th>\n",
       "      <td>native_country_Guatemala</td>\n",
       "      <td>[-0.0602412816609]</td>\n",
       "    </tr>\n",
       "    <tr>\n",
       "      <th>61</th>\n",
       "      <td>native_country_Haiti</td>\n",
       "      <td>[-0.010598363792]</td>\n",
       "    </tr>\n",
       "    <tr>\n",
       "      <th>62</th>\n",
       "      <td>native_country_Holand-Netherlands</td>\n",
       "      <td>[-0.00261264423675]</td>\n",
       "    </tr>\n",
       "    <tr>\n",
       "      <th>63</th>\n",
       "      <td>native_country_Honduras</td>\n",
       "      <td>[-0.00803719355832]</td>\n",
       "    </tr>\n",
       "    <tr>\n",
       "      <th>64</th>\n",
       "      <td>native_country_Hong</td>\n",
       "      <td>[0.00325161682289]</td>\n",
       "    </tr>\n",
       "    <tr>\n",
       "      <th>65</th>\n",
       "      <td>native_country_Hungary</td>\n",
       "      <td>[-0.023640096802]</td>\n",
       "    </tr>\n",
       "    <tr>\n",
       "      <th>66</th>\n",
       "      <td>native_country_India</td>\n",
       "      <td>[-0.230828600029]</td>\n",
       "    </tr>\n",
       "    <tr>\n",
       "      <th>67</th>\n",
       "      <td>native_country_Iran</td>\n",
       "      <td>[-0.115424671576]</td>\n",
       "    </tr>\n",
       "    <tr>\n",
       "      <th>68</th>\n",
       "      <td>native_country_Ireland</td>\n",
       "      <td>[0.00614815670064]</td>\n",
       "    </tr>\n",
       "    <tr>\n",
       "      <th>69</th>\n",
       "      <td>native_country_Italy</td>\n",
       "      <td>[0.284053765205]</td>\n",
       "    </tr>\n",
       "    <tr>\n",
       "      <th>70</th>\n",
       "      <td>native_country_Jamaica</td>\n",
       "      <td>[-0.0543253743603]</td>\n",
       "    </tr>\n",
       "    <tr>\n",
       "      <th>71</th>\n",
       "      <td>native_country_Japan</td>\n",
       "      <td>[0.0753159736899]</td>\n",
       "    </tr>\n",
       "    <tr>\n",
       "      <th>72</th>\n",
       "      <td>native_country_Laos</td>\n",
       "      <td>[-0.0590015104593]</td>\n",
       "    </tr>\n",
       "    <tr>\n",
       "      <th>73</th>\n",
       "      <td>native_country_Mexico</td>\n",
       "      <td>[-0.615253997087]</td>\n",
       "    </tr>\n",
       "    <tr>\n",
       "      <th>74</th>\n",
       "      <td>native_country_Nicaragua</td>\n",
       "      <td>[-0.0850770259522]</td>\n",
       "    </tr>\n",
       "    <tr>\n",
       "      <th>75</th>\n",
       "      <td>native_country_Outlying-US(Guam-USVI-etc)</td>\n",
       "      <td>[-0.0401306446345]</td>\n",
       "    </tr>\n",
       "    <tr>\n",
       "      <th>76</th>\n",
       "      <td>native_country_Peru</td>\n",
       "      <td>[-0.0473834363573]</td>\n",
       "    </tr>\n",
       "    <tr>\n",
       "      <th>77</th>\n",
       "      <td>native_country_Philippines</td>\n",
       "      <td>[0.21798672258]</td>\n",
       "    </tr>\n",
       "    <tr>\n",
       "      <th>78</th>\n",
       "      <td>native_country_Poland</td>\n",
       "      <td>[0.0148479192916]</td>\n",
       "    </tr>\n",
       "    <tr>\n",
       "      <th>79</th>\n",
       "      <td>native_country_Portugal</td>\n",
       "      <td>[-0.0377525814922]</td>\n",
       "    </tr>\n",
       "    <tr>\n",
       "      <th>80</th>\n",
       "      <td>native_country_Puerto-Rico</td>\n",
       "      <td>[-0.155095621878]</td>\n",
       "    </tr>\n",
       "    <tr>\n",
       "      <th>81</th>\n",
       "      <td>native_country_Scotland</td>\n",
       "      <td>[-0.0155164395032]</td>\n",
       "    </tr>\n",
       "    <tr>\n",
       "      <th>82</th>\n",
       "      <td>native_country_South</td>\n",
       "      <td>[-0.267403035709]</td>\n",
       "    </tr>\n",
       "    <tr>\n",
       "      <th>83</th>\n",
       "      <td>native_country_Taiwan</td>\n",
       "      <td>[0.0118123048848]</td>\n",
       "    </tr>\n",
       "    <tr>\n",
       "      <th>84</th>\n",
       "      <td>native_country_Thailand</td>\n",
       "      <td>[0.010270293489]</td>\n",
       "    </tr>\n",
       "    <tr>\n",
       "      <th>85</th>\n",
       "      <td>native_country_Trinadad&amp;Tobago</td>\n",
       "      <td>[-0.0619274793576]</td>\n",
       "    </tr>\n",
       "    <tr>\n",
       "      <th>86</th>\n",
       "      <td>native_country_United-States</td>\n",
       "      <td>[0.149545745243]</td>\n",
       "    </tr>\n",
       "    <tr>\n",
       "      <th>87</th>\n",
       "      <td>native_country_Vietnam</td>\n",
       "      <td>[-0.152321268502]</td>\n",
       "    </tr>\n",
       "    <tr>\n",
       "      <th>88</th>\n",
       "      <td>native_country_Yugoslavia</td>\n",
       "      <td>[0.0552146810547]</td>\n",
       "    </tr>\n",
       "  </tbody>\n",
       "</table>\n",
       "<p>89 rows × 2 columns</p>\n",
       "</div>"
      ],
      "text/plain": [
       "                                            0                    1\n",
       "0                                         age    [0.0237305504387]\n",
       "1                                capital_gain  [0.000322944633378]\n",
       "2                                capital_loss   [0.00066041881271]\n",
       "3                              hours_per_week    [0.0287133679705]\n",
       "4                       workclass_Federal-gov     [0.241213600272]\n",
       "5                         workclass_Local-gov    [-0.460780750659]\n",
       "6                           workclass_Private    [-0.313320468364]\n",
       "7                     workclass_Self-Employed    [-0.560623770847]\n",
       "8                         workclass_State-gov    [-0.585106352572]\n",
       "9                       workclass_Without-pay    [-0.104970744817]\n",
       "10                       education_Associates      [-0.6950296893]\n",
       "11                        education_Bachelors   [-0.0523768273545]\n",
       "12                         education_Below-HS     [-2.09354747221]\n",
       "13                        education_Doctorate     [0.911312443213]\n",
       "14                          education_HS-grad     [-1.06934050651]\n",
       "15                          education_Masters     [0.355123100056]\n",
       "16                      education_Prof-school     [0.860270465125]\n",
       "17                     marital_status_Married     [0.777946987398]\n",
       "18               marital_status_Never-married     [-1.21954135372]\n",
       "19                 marital_status_Not-married    [-0.784527186916]\n",
       "20                     marital_status_Widowed    [-0.557466933751]\n",
       "21                    occupation_Adm-clerical   [-0.0932024501887]\n",
       "22                    occupation_Armed-Forces   [-0.0237984264492]\n",
       "23                    occupation_Craft-repair   [-0.0846782623474]\n",
       "24                 occupation_Exec-managerial     [0.725662464119]\n",
       "25                 occupation_Farming-fishing     [-1.34416264978]\n",
       "26               occupation_Handlers-cleaners    [-0.788532350214]\n",
       "27               occupation_Machine-op-inspct    [-0.350388609851]\n",
       "28                   occupation_Other-service    [-0.947526957615]\n",
       "29                 occupation_Priv-house-serv    [-0.251153030407]\n",
       "..                                        ...                  ...\n",
       "59                      native_country_Greece    [-0.176578237134]\n",
       "60                   native_country_Guatemala   [-0.0602412816609]\n",
       "61                       native_country_Haiti    [-0.010598363792]\n",
       "62          native_country_Holand-Netherlands  [-0.00261264423675]\n",
       "63                    native_country_Honduras  [-0.00803719355832]\n",
       "64                        native_country_Hong   [0.00325161682289]\n",
       "65                     native_country_Hungary    [-0.023640096802]\n",
       "66                       native_country_India    [-0.230828600029]\n",
       "67                        native_country_Iran    [-0.115424671576]\n",
       "68                     native_country_Ireland   [0.00614815670064]\n",
       "69                       native_country_Italy     [0.284053765205]\n",
       "70                     native_country_Jamaica   [-0.0543253743603]\n",
       "71                       native_country_Japan    [0.0753159736899]\n",
       "72                        native_country_Laos   [-0.0590015104593]\n",
       "73                      native_country_Mexico    [-0.615253997087]\n",
       "74                   native_country_Nicaragua   [-0.0850770259522]\n",
       "75  native_country_Outlying-US(Guam-USVI-etc)   [-0.0401306446345]\n",
       "76                        native_country_Peru   [-0.0473834363573]\n",
       "77                 native_country_Philippines      [0.21798672258]\n",
       "78                      native_country_Poland    [0.0148479192916]\n",
       "79                    native_country_Portugal   [-0.0377525814922]\n",
       "80                 native_country_Puerto-Rico    [-0.155095621878]\n",
       "81                    native_country_Scotland   [-0.0155164395032]\n",
       "82                       native_country_South    [-0.267403035709]\n",
       "83                      native_country_Taiwan    [0.0118123048848]\n",
       "84                    native_country_Thailand     [0.010270293489]\n",
       "85             native_country_Trinadad&Tobago   [-0.0619274793576]\n",
       "86               native_country_United-States     [0.149545745243]\n",
       "87                     native_country_Vietnam    [-0.152321268502]\n",
       "88                  native_country_Yugoslavia    [0.0552146810547]\n",
       "\n",
       "[89 rows x 2 columns]"
      ]
     },
     "execution_count": 36,
     "metadata": {},
     "output_type": "execute_result"
    }
   ],
   "source": [
    "pd.DataFrame([X_train.columns,np.transpose(logRegModel.coef_)]).transpose()"
   ]
  },
  {
   "cell_type": "markdown",
   "metadata": {},
   "source": [
    "### Penalty adjustment\n"
   ]
  },
  {
   "cell_type": "code",
   "execution_count": 21,
   "metadata": {},
   "outputs": [
    {
     "data": {
      "text/plain": [
       "0.84269849162937183"
      ]
     },
     "execution_count": 21,
     "metadata": {},
     "output_type": "execute_result"
    }
   ],
   "source": [
    "logRegModelL1 = linear_model.LogisticRegression(penalty = 'l1')\n",
    "logRegModelL1 = logRegModelL1.fit(X_train,y_train)\n",
    "sk.metrics.accuracy_score(y_test, logRegModelL1.predict(X_test))"
   ]
  },
  {
   "cell_type": "markdown",
   "metadata": {},
   "source": [
    "L1 vs. L2 has minimal performance difference, so we will stick with the more standard squared penalty L2."
   ]
  },
  {
   "cell_type": "markdown",
   "metadata": {},
   "source": [
    "### Regularization parameter optimization with K-Fold CV"
   ]
  },
  {
   "cell_type": "markdown",
   "metadata": {},
   "source": [
    "##### Manual Parameter Search"
   ]
  },
  {
   "cell_type": "code",
   "execution_count": 6,
   "metadata": {
    "collapsed": true
   },
   "outputs": [],
   "source": [
    "from sklearn.metrics import accuracy_score\n",
    "from sklearn.model_selection import KFold\n",
    "\n",
    "def cv_score(clf, x, y, score_func=accuracy_score):\n",
    "    result = 0\n",
    "    nfold = 5\n",
    "    for train, cv in KFold(nfold).split(x): # split data into train/test groups, 5 times\n",
    "        clf.fit(x.iloc[train], y.iloc[train]) # fit\n",
    "        result += score_func(clf.predict(x.iloc[cv]), y.iloc[cv]) # evaluate score function on held-out data\n",
    "    return result / nfold # average"
   ]
  },
  {
   "cell_type": "code",
   "execution_count": 23,
   "metadata": {},
   "outputs": [
    {
     "name": "stdout",
     "output_type": "stream",
     "text": [
      "(0.001, 0.80898515596649401)\n",
      "(0.05, 0.84740353310758432)\n",
      "(0.1, 0.84756925891490176)\n",
      "(0.5, 0.84736200502889147)\n",
      "(1, 0.84740343862798451)\n",
      "(5, 0.84682322222675521)\n",
      "(10, 0.84698902533556364)\n"
     ]
    }
   ],
   "source": [
    "Cs = [0.001, .05, 0.1, .5, 1, 5, 10]\n",
    "for c in Cs:\n",
    "    clf = linear_model.LogisticRegression(C = c)\n",
    "    print((c,cv_score(clf,X_train,y_train)))"
   ]
  },
  {
   "cell_type": "code",
   "execution_count": 24,
   "metadata": {},
   "outputs": [
    {
     "data": {
      "text/plain": [
       "0.84186971655892595"
      ]
     },
     "execution_count": 24,
     "metadata": {},
     "output_type": "execute_result"
    }
   ],
   "source": [
    "logRegModel = linear_model.LogisticRegression(C = .1)\n",
    "logRegModel.fit(X_train,y_train)\n",
    "accuracy_score(logRegModel.predict(X_test), y_test)"
   ]
  },
  {
   "cell_type": "markdown",
   "metadata": {},
   "source": [
    "##### GridSearchCV"
   ]
  },
  {
   "cell_type": "code",
   "execution_count": 10,
   "metadata": {},
   "outputs": [
    {
     "name": "stderr",
     "output_type": "stream",
     "text": [
      "A:\\Anaconda3\\lib\\site-packages\\sklearn\\cross_validation.py:44: DeprecationWarning: This module was deprecated in version 0.18 in favor of the model_selection module into which all the refactored classes and functions are moved. Also note that the interface of the new CV iterators are different from that of this module. This module will be removed in 0.20.\n",
      "  \"This module will be removed in 0.20.\", DeprecationWarning)\n",
      "A:\\Anaconda3\\lib\\site-packages\\sklearn\\grid_search.py:43: DeprecationWarning: This module was deprecated in version 0.18 in favor of the model_selection module into which all the refactored classes and functions are moved. This module will be removed in 0.20.\n",
      "  DeprecationWarning)\n"
     ]
    },
    {
     "name": "stdout",
     "output_type": "stream",
     "text": [
      "(0.1, 0.84186971655892595)\n"
     ]
    }
   ],
   "source": [
    "from sklearn.grid_search import GridSearchCV\n",
    "clf2 = linear_model.LogisticRegression()\n",
    "grid = {\"C\": [0.001, .05, 0.1, .5, 1, 5, 10]}\n",
    "gridSearch = GridSearchCV(clf2, param_grid=grid, cv=5, scoring=\"accuracy\")\n",
    "gridSearch.fit(X_train,y_train)\n",
    "clf2 = linear_model.LogisticRegression(C = gridSearch.best_params_['C'])\n",
    "clf2.fit(X_train,y_train)\n",
    "print((gridSearch.best_params_['C'],accuracy_score(clf2.predict(X_test),y_test)))"
   ]
  },
  {
   "cell_type": "markdown",
   "metadata": {},
   "source": [
    "regularization, combinations of variables"
   ]
  },
  {
   "cell_type": "markdown",
   "metadata": {},
   "source": [
    "### Feature Selection "
   ]
  },
  {
   "cell_type": "markdown",
   "metadata": {},
   "source": [
    "##### By importance coefficient "
   ]
  },
  {
   "cell_type": "code",
   "execution_count": 77,
   "metadata": {},
   "outputs": [
    {
     "data": {
      "text/html": [
       "<div>\n",
       "<style>\n",
       "    .dataframe thead tr:only-child th {\n",
       "        text-align: right;\n",
       "    }\n",
       "\n",
       "    .dataframe thead th {\n",
       "        text-align: left;\n",
       "    }\n",
       "\n",
       "    .dataframe tbody tr th {\n",
       "        vertical-align: top;\n",
       "    }\n",
       "</style>\n",
       "<table border=\"1\" class=\"dataframe\">\n",
       "  <thead>\n",
       "    <tr style=\"text-align: right;\">\n",
       "      <th></th>\n",
       "      <th>label</th>\n",
       "      <th>value</th>\n",
       "      <th>abs</th>\n",
       "    </tr>\n",
       "  </thead>\n",
       "  <tbody>\n",
       "    <tr>\n",
       "      <th>58</th>\n",
       "      <td>native_country_Holand-Netherlands</td>\n",
       "      <td>[-0.00261264423675]</td>\n",
       "      <td>[0.00261264423675]</td>\n",
       "    </tr>\n",
       "    <tr>\n",
       "      <th>60</th>\n",
       "      <td>native_country_Hong</td>\n",
       "      <td>[0.00325161682289]</td>\n",
       "      <td>[0.00325161682289]</td>\n",
       "    </tr>\n",
       "    <tr>\n",
       "      <th>64</th>\n",
       "      <td>native_country_Ireland</td>\n",
       "      <td>[0.00614815670064]</td>\n",
       "      <td>[0.00614815670064]</td>\n",
       "    </tr>\n",
       "    <tr>\n",
       "      <th>59</th>\n",
       "      <td>native_country_Honduras</td>\n",
       "      <td>[-0.00803719355832]</td>\n",
       "      <td>[0.00803719355832]</td>\n",
       "    </tr>\n",
       "    <tr>\n",
       "      <th>80</th>\n",
       "      <td>native_country_Thailand</td>\n",
       "      <td>[0.010270293489]</td>\n",
       "      <td>[0.010270293489]</td>\n",
       "    </tr>\n",
       "    <tr>\n",
       "      <th>57</th>\n",
       "      <td>native_country_Haiti</td>\n",
       "      <td>[-0.010598363792]</td>\n",
       "      <td>[0.010598363792]</td>\n",
       "    </tr>\n",
       "    <tr>\n",
       "      <th>79</th>\n",
       "      <td>native_country_Taiwan</td>\n",
       "      <td>[0.0118123048848]</td>\n",
       "      <td>[0.0118123048848]</td>\n",
       "    </tr>\n",
       "    <tr>\n",
       "      <th>74</th>\n",
       "      <td>native_country_Poland</td>\n",
       "      <td>[0.0148479192916]</td>\n",
       "      <td>[0.0148479192916]</td>\n",
       "    </tr>\n",
       "    <tr>\n",
       "      <th>77</th>\n",
       "      <td>native_country_Scotland</td>\n",
       "      <td>[-0.0155164395032]</td>\n",
       "      <td>[0.0155164395032]</td>\n",
       "    </tr>\n",
       "    <tr>\n",
       "      <th>45</th>\n",
       "      <td>native_country_Canada</td>\n",
       "      <td>[0.0180026723966]</td>\n",
       "      <td>[0.0180026723966]</td>\n",
       "    </tr>\n",
       "    <tr>\n",
       "      <th>52</th>\n",
       "      <td>native_country_England</td>\n",
       "      <td>[-0.023148407364]</td>\n",
       "      <td>[0.023148407364]</td>\n",
       "    </tr>\n",
       "    <tr>\n",
       "      <th>61</th>\n",
       "      <td>native_country_Hungary</td>\n",
       "      <td>[-0.023640096802]</td>\n",
       "      <td>[0.023640096802]</td>\n",
       "    </tr>\n",
       "    <tr>\n",
       "      <th>18</th>\n",
       "      <td>occupation_Armed-Forces</td>\n",
       "      <td>[-0.0237984264492]</td>\n",
       "      <td>[0.0237984264492]</td>\n",
       "    </tr>\n",
       "    <tr>\n",
       "      <th>53</th>\n",
       "      <td>native_country_France</td>\n",
       "      <td>[0.0373727300811]</td>\n",
       "      <td>[0.0373727300811]</td>\n",
       "    </tr>\n",
       "    <tr>\n",
       "      <th>75</th>\n",
       "      <td>native_country_Portugal</td>\n",
       "      <td>[-0.0377525814922]</td>\n",
       "      <td>[0.0377525814922]</td>\n",
       "    </tr>\n",
       "    <tr>\n",
       "      <th>71</th>\n",
       "      <td>native_country_Outlying-US(Guam-USVI-etc)</td>\n",
       "      <td>[-0.0401306446345]</td>\n",
       "      <td>[0.0401306446345]</td>\n",
       "    </tr>\n",
       "    <tr>\n",
       "      <th>72</th>\n",
       "      <td>native_country_Peru</td>\n",
       "      <td>[-0.0473834363573]</td>\n",
       "      <td>[0.0473834363573]</td>\n",
       "    </tr>\n",
       "    <tr>\n",
       "      <th>7</th>\n",
       "      <td>education_Bachelors</td>\n",
       "      <td>[-0.0523768273545]</td>\n",
       "      <td>[0.0523768273545]</td>\n",
       "    </tr>\n",
       "    <tr>\n",
       "      <th>66</th>\n",
       "      <td>native_country_Jamaica</td>\n",
       "      <td>[-0.0543253743603]</td>\n",
       "      <td>[0.0543253743603]</td>\n",
       "    </tr>\n",
       "    <tr>\n",
       "      <th>84</th>\n",
       "      <td>native_country_Yugoslavia</td>\n",
       "      <td>[0.0552146810547]</td>\n",
       "      <td>[0.0552146810547]</td>\n",
       "    </tr>\n",
       "    <tr>\n",
       "      <th>68</th>\n",
       "      <td>native_country_Laos</td>\n",
       "      <td>[-0.0590015104593]</td>\n",
       "      <td>[0.0590015104593]</td>\n",
       "    </tr>\n",
       "    <tr>\n",
       "      <th>44</th>\n",
       "      <td>native_country_Cambodia</td>\n",
       "      <td>[0.0598207079143]</td>\n",
       "      <td>[0.0598207079143]</td>\n",
       "    </tr>\n",
       "    <tr>\n",
       "      <th>56</th>\n",
       "      <td>native_country_Guatemala</td>\n",
       "      <td>[-0.0602412816609]</td>\n",
       "      <td>[0.0602412816609]</td>\n",
       "    </tr>\n",
       "    <tr>\n",
       "      <th>50</th>\n",
       "      <td>native_country_Ecuador</td>\n",
       "      <td>[-0.0617370784493]</td>\n",
       "      <td>[0.0617370784493]</td>\n",
       "    </tr>\n",
       "    <tr>\n",
       "      <th>81</th>\n",
       "      <td>native_country_Trinadad&amp;Tobago</td>\n",
       "      <td>[-0.0619274793576]</td>\n",
       "      <td>[0.0619274793576]</td>\n",
       "    </tr>\n",
       "  </tbody>\n",
       "</table>\n",
       "</div>"
      ],
      "text/plain": [
       "                                        label                value  \\\n",
       "58          native_country_Holand-Netherlands  [-0.00261264423675]   \n",
       "60                        native_country_Hong   [0.00325161682289]   \n",
       "64                     native_country_Ireland   [0.00614815670064]   \n",
       "59                    native_country_Honduras  [-0.00803719355832]   \n",
       "80                    native_country_Thailand     [0.010270293489]   \n",
       "57                       native_country_Haiti    [-0.010598363792]   \n",
       "79                      native_country_Taiwan    [0.0118123048848]   \n",
       "74                      native_country_Poland    [0.0148479192916]   \n",
       "77                    native_country_Scotland   [-0.0155164395032]   \n",
       "45                      native_country_Canada    [0.0180026723966]   \n",
       "52                     native_country_England    [-0.023148407364]   \n",
       "61                     native_country_Hungary    [-0.023640096802]   \n",
       "18                    occupation_Armed-Forces   [-0.0237984264492]   \n",
       "53                      native_country_France    [0.0373727300811]   \n",
       "75                    native_country_Portugal   [-0.0377525814922]   \n",
       "71  native_country_Outlying-US(Guam-USVI-etc)   [-0.0401306446345]   \n",
       "72                        native_country_Peru   [-0.0473834363573]   \n",
       "7                         education_Bachelors   [-0.0523768273545]   \n",
       "66                     native_country_Jamaica   [-0.0543253743603]   \n",
       "84                  native_country_Yugoslavia    [0.0552146810547]   \n",
       "68                        native_country_Laos   [-0.0590015104593]   \n",
       "44                    native_country_Cambodia    [0.0598207079143]   \n",
       "56                   native_country_Guatemala   [-0.0602412816609]   \n",
       "50                     native_country_Ecuador   [-0.0617370784493]   \n",
       "81             native_country_Trinadad&Tobago   [-0.0619274793576]   \n",
       "\n",
       "                   abs  \n",
       "58  [0.00261264423675]  \n",
       "60  [0.00325161682289]  \n",
       "64  [0.00614815670064]  \n",
       "59  [0.00803719355832]  \n",
       "80    [0.010270293489]  \n",
       "57    [0.010598363792]  \n",
       "79   [0.0118123048848]  \n",
       "74   [0.0148479192916]  \n",
       "77   [0.0155164395032]  \n",
       "45   [0.0180026723966]  \n",
       "52    [0.023148407364]  \n",
       "61    [0.023640096802]  \n",
       "18   [0.0237984264492]  \n",
       "53   [0.0373727300811]  \n",
       "75   [0.0377525814922]  \n",
       "71   [0.0401306446345]  \n",
       "72   [0.0473834363573]  \n",
       "7    [0.0523768273545]  \n",
       "66   [0.0543253743603]  \n",
       "84   [0.0552146810547]  \n",
       "68   [0.0590015104593]  \n",
       "44   [0.0598207079143]  \n",
       "56   [0.0602412816609]  \n",
       "50   [0.0617370784493]  \n",
       "81   [0.0619274793576]  "
      ]
     },
     "execution_count": 77,
     "metadata": {},
     "output_type": "execute_result"
    }
   ],
   "source": [
    "coeff = pd.DataFrame([X_train.columns,np.transpose(logRegModel.coef_)]).transpose()\n",
    "coeff.columns = ['label','value']\n",
    "coeff = coeff.set_index('label')\n",
    "coeff = coeff.drop(['capital_gain','capital_loss','age','hours_per_week'])\n",
    "coeff = coeff.reset_index()\n",
    "coeff['abs'] = np.abs(coeff['value'])\n",
    "coeff = coeff.sort_values('abs')\n",
    "coeff.head(25)"
   ]
  },
  {
   "cell_type": "code",
   "execution_count": 95,
   "metadata": {},
   "outputs": [],
   "source": [
    "threshold = .2\n",
    "weakCoeff = coeff[coeff['abs'] < threshold]['label'].tolist()"
   ]
  },
  {
   "cell_type": "code",
   "execution_count": 114,
   "metadata": {},
   "outputs": [
    {
     "name": "stdout",
     "output_type": "stream",
     "text": [
      "0.16 0.847942204252\n",
      "0.17 0.847942204252\n",
      "0.18 0.848149415193\n",
      "0.19 0.848149415193\n",
      "0.2 0.847734950366\n",
      "0.25 0.84665748783\n",
      "0.3 0.847113326133\n",
      "0.35 0.846698887073\n",
      "0.4 0.846491624598\n"
     ]
    }
   ],
   "source": [
    "thresholds = [.16, .17, .18,.19,.20,.25,.3,.35,.4]\n",
    "for t in thresholds:\n",
    "    weakCoeff = coeff[coeff['abs'] < t]['label'].tolist()\n",
    "    clfFS = linear_model.LogisticRegression()\n",
    "    X_FS = X.drop(weakCoeff, axis = 1)\n",
    "    X_FStrain, X_FStest, y_FStrain, y_FStest = model_selection.train_test_split(X_FS, y, test_size = .2, random_state = 3)\n",
    "    print(t, cv_score(clfFS,X_FStrain,y_FStrain))\n",
    "    "
   ]
  },
  {
   "cell_type": "code",
   "execution_count": 115,
   "metadata": {},
   "outputs": [
    {
     "name": "stdout",
     "output_type": "stream",
     "text": [
      "(0.5, 0.84220122658710428)\n"
     ]
    }
   ],
   "source": [
    "threshold = .19\n",
    "weakCoeff = coeff[coeff['abs'] < threshold]['label'].tolist()\n",
    "X_FS = X.drop(weakCoeff, axis = 1)\n",
    "X_FStrain, X_FStest, y_FStrain, y_FStest = model_selection.train_test_split(X_FS, y, test_size = .2, random_state = 3)\n",
    "grid = {\"C\": [0.001, .05, 0.1, .5, 1, 5, 10]}\n",
    "gridSearch = GridSearchCV(clfFS, param_grid=grid, cv=5, scoring=\"accuracy\")\n",
    "gridSearch.fit(X_FStrain,y_FStrain)\n",
    "clf2 = linear_model.LogisticRegression(C = gridSearch.best_params_['C'])\n",
    "clf2.fit(X_FStrain,y_FStrain)\n",
    "print((gridSearch.best_params_['C'],accuracy_score(clf2.predict(X_FStest),y_FStest)))"
   ]
  },
  {
   "cell_type": "markdown",
   "metadata": {},
   "source": [
    "### By category"
   ]
  },
  {
   "cell_type": "markdown",
   "metadata": {},
   "source": [
    "##### No Native Country "
   ]
  },
  {
   "cell_type": "code",
   "execution_count": 30,
   "metadata": {},
   "outputs": [
    {
     "data": {
      "text/html": [
       "<div>\n",
       "<style>\n",
       "    .dataframe thead tr:only-child th {\n",
       "        text-align: right;\n",
       "    }\n",
       "\n",
       "    .dataframe thead th {\n",
       "        text-align: left;\n",
       "    }\n",
       "\n",
       "    .dataframe tbody tr th {\n",
       "        vertical-align: top;\n",
       "    }\n",
       "</style>\n",
       "<table border=\"1\" class=\"dataframe\">\n",
       "  <thead>\n",
       "    <tr style=\"text-align: right;\">\n",
       "      <th></th>\n",
       "      <th>age</th>\n",
       "      <th>capital_gain</th>\n",
       "      <th>capital_loss</th>\n",
       "      <th>hours_per_week</th>\n",
       "      <th>workclass_Federal-gov</th>\n",
       "      <th>workclass_Local-gov</th>\n",
       "      <th>workclass_Private</th>\n",
       "      <th>workclass_Self-Employed</th>\n",
       "      <th>workclass_State-gov</th>\n",
       "      <th>workclass_Without-pay</th>\n",
       "      <th>...</th>\n",
       "      <th>relationship_Own-child</th>\n",
       "      <th>relationship_Unmarried</th>\n",
       "      <th>relationship_Wife</th>\n",
       "      <th>race_Amer-Indian-Eskimo</th>\n",
       "      <th>race_Asian-Pac-Islander</th>\n",
       "      <th>race_Black</th>\n",
       "      <th>race_Other</th>\n",
       "      <th>race_White</th>\n",
       "      <th>sex_Female</th>\n",
       "      <th>sex_Male</th>\n",
       "    </tr>\n",
       "  </thead>\n",
       "  <tbody>\n",
       "    <tr>\n",
       "      <th>0</th>\n",
       "      <td>39</td>\n",
       "      <td>2174</td>\n",
       "      <td>0</td>\n",
       "      <td>40</td>\n",
       "      <td>0</td>\n",
       "      <td>0</td>\n",
       "      <td>0</td>\n",
       "      <td>0</td>\n",
       "      <td>1</td>\n",
       "      <td>0</td>\n",
       "      <td>...</td>\n",
       "      <td>0</td>\n",
       "      <td>0</td>\n",
       "      <td>0</td>\n",
       "      <td>0</td>\n",
       "      <td>0</td>\n",
       "      <td>0</td>\n",
       "      <td>0</td>\n",
       "      <td>1</td>\n",
       "      <td>0</td>\n",
       "      <td>1</td>\n",
       "    </tr>\n",
       "    <tr>\n",
       "      <th>1</th>\n",
       "      <td>50</td>\n",
       "      <td>0</td>\n",
       "      <td>0</td>\n",
       "      <td>13</td>\n",
       "      <td>0</td>\n",
       "      <td>0</td>\n",
       "      <td>0</td>\n",
       "      <td>1</td>\n",
       "      <td>0</td>\n",
       "      <td>0</td>\n",
       "      <td>...</td>\n",
       "      <td>0</td>\n",
       "      <td>0</td>\n",
       "      <td>0</td>\n",
       "      <td>0</td>\n",
       "      <td>0</td>\n",
       "      <td>0</td>\n",
       "      <td>0</td>\n",
       "      <td>1</td>\n",
       "      <td>0</td>\n",
       "      <td>1</td>\n",
       "    </tr>\n",
       "    <tr>\n",
       "      <th>2</th>\n",
       "      <td>38</td>\n",
       "      <td>0</td>\n",
       "      <td>0</td>\n",
       "      <td>40</td>\n",
       "      <td>0</td>\n",
       "      <td>0</td>\n",
       "      <td>1</td>\n",
       "      <td>0</td>\n",
       "      <td>0</td>\n",
       "      <td>0</td>\n",
       "      <td>...</td>\n",
       "      <td>0</td>\n",
       "      <td>0</td>\n",
       "      <td>0</td>\n",
       "      <td>0</td>\n",
       "      <td>0</td>\n",
       "      <td>0</td>\n",
       "      <td>0</td>\n",
       "      <td>1</td>\n",
       "      <td>0</td>\n",
       "      <td>1</td>\n",
       "    </tr>\n",
       "    <tr>\n",
       "      <th>3</th>\n",
       "      <td>53</td>\n",
       "      <td>0</td>\n",
       "      <td>0</td>\n",
       "      <td>40</td>\n",
       "      <td>0</td>\n",
       "      <td>0</td>\n",
       "      <td>1</td>\n",
       "      <td>0</td>\n",
       "      <td>0</td>\n",
       "      <td>0</td>\n",
       "      <td>...</td>\n",
       "      <td>0</td>\n",
       "      <td>0</td>\n",
       "      <td>0</td>\n",
       "      <td>0</td>\n",
       "      <td>0</td>\n",
       "      <td>1</td>\n",
       "      <td>0</td>\n",
       "      <td>0</td>\n",
       "      <td>0</td>\n",
       "      <td>1</td>\n",
       "    </tr>\n",
       "    <tr>\n",
       "      <th>4</th>\n",
       "      <td>28</td>\n",
       "      <td>0</td>\n",
       "      <td>0</td>\n",
       "      <td>40</td>\n",
       "      <td>0</td>\n",
       "      <td>0</td>\n",
       "      <td>1</td>\n",
       "      <td>0</td>\n",
       "      <td>0</td>\n",
       "      <td>0</td>\n",
       "      <td>...</td>\n",
       "      <td>0</td>\n",
       "      <td>0</td>\n",
       "      <td>1</td>\n",
       "      <td>0</td>\n",
       "      <td>0</td>\n",
       "      <td>1</td>\n",
       "      <td>0</td>\n",
       "      <td>0</td>\n",
       "      <td>1</td>\n",
       "      <td>0</td>\n",
       "    </tr>\n",
       "  </tbody>\n",
       "</table>\n",
       "<p>5 rows × 48 columns</p>\n",
       "</div>"
      ],
      "text/plain": [
       "   age  capital_gain  capital_loss  hours_per_week  workclass_Federal-gov  \\\n",
       "0   39          2174             0              40                      0   \n",
       "1   50             0             0              13                      0   \n",
       "2   38             0             0              40                      0   \n",
       "3   53             0             0              40                      0   \n",
       "4   28             0             0              40                      0   \n",
       "\n",
       "   workclass_Local-gov  workclass_Private  workclass_Self-Employed  \\\n",
       "0                    0                  0                        0   \n",
       "1                    0                  0                        1   \n",
       "2                    0                  1                        0   \n",
       "3                    0                  1                        0   \n",
       "4                    0                  1                        0   \n",
       "\n",
       "   workclass_State-gov  workclass_Without-pay    ...     \\\n",
       "0                    1                      0    ...      \n",
       "1                    0                      0    ...      \n",
       "2                    0                      0    ...      \n",
       "3                    0                      0    ...      \n",
       "4                    0                      0    ...      \n",
       "\n",
       "   relationship_Own-child  relationship_Unmarried  relationship_Wife  \\\n",
       "0                       0                       0                  0   \n",
       "1                       0                       0                  0   \n",
       "2                       0                       0                  0   \n",
       "3                       0                       0                  0   \n",
       "4                       0                       0                  1   \n",
       "\n",
       "   race_Amer-Indian-Eskimo  race_Asian-Pac-Islander  race_Black  race_Other  \\\n",
       "0                        0                        0           0           0   \n",
       "1                        0                        0           0           0   \n",
       "2                        0                        0           0           0   \n",
       "3                        0                        0           1           0   \n",
       "4                        0                        0           1           0   \n",
       "\n",
       "   race_White  sex_Female  sex_Male  \n",
       "0           1           0         1  \n",
       "1           1           0         1  \n",
       "2           1           0         1  \n",
       "3           0           0         1  \n",
       "4           0           1         0  \n",
       "\n",
       "[5 rows x 48 columns]"
      ]
     },
     "execution_count": 30,
     "metadata": {},
     "output_type": "execute_result"
    }
   ],
   "source": [
    "adultNoCountry = adult.drop('native_country', axis = 1)\n",
    "XnoCountry = pd.get_dummies(adultNoCountry.iloc[:,:11])\n",
    "YnoCountry = adultNoCountry.iloc[:,11]\n",
    "XnoCountry.head()"
   ]
  },
  {
   "cell_type": "code",
   "execution_count": 31,
   "metadata": {
    "collapsed": true
   },
   "outputs": [],
   "source": [
    "X_nctrain, X_nctest, y_nctrain, y_nctest = model_selection.train_test_split(XnoCountry, YnoCountry, test_size = .2, random_state = 3)"
   ]
  },
  {
   "cell_type": "code",
   "execution_count": 32,
   "metadata": {},
   "outputs": [
    {
     "name": "stdout",
     "output_type": "stream",
     "text": [
      "(0.1, 0.84303000165755015)\n"
     ]
    }
   ],
   "source": [
    "clfNC = linear_model.LogisticRegression()\n",
    "grid = {\"C\": [0.001, .05, 0.1, .5, 1, 5, 10]}\n",
    "gridSearch = GridSearchCV(clfNC, param_grid=grid, cv=5, scoring=\"accuracy\")\n",
    "gridSearch.fit(X_nctrain,y_nctrain)\n",
    "clf2 = linear_model.LogisticRegression(C = gridSearch.best_params_['C'])\n",
    "clf2.fit(X_nctrain,y_nctrain)\n",
    "print((gridSearch.best_params_['C'],accuracy_score(clf2.predict(X_nctest),y_nctest)))"
   ]
  },
  {
   "cell_type": "markdown",
   "metadata": {},
   "source": [
    "##### No Native Country, Race "
   ]
  },
  {
   "cell_type": "code",
   "execution_count": 133,
   "metadata": {},
   "outputs": [
    {
     "data": {
      "text/html": [
       "<div>\n",
       "<style>\n",
       "    .dataframe thead tr:only-child th {\n",
       "        text-align: right;\n",
       "    }\n",
       "\n",
       "    .dataframe thead th {\n",
       "        text-align: left;\n",
       "    }\n",
       "\n",
       "    .dataframe tbody tr th {\n",
       "        vertical-align: top;\n",
       "    }\n",
       "</style>\n",
       "<table border=\"1\" class=\"dataframe\">\n",
       "  <thead>\n",
       "    <tr style=\"text-align: right;\">\n",
       "      <th></th>\n",
       "      <th>age</th>\n",
       "      <th>capital_gain</th>\n",
       "      <th>capital_loss</th>\n",
       "      <th>hours_per_week</th>\n",
       "      <th>workclass_Federal-gov</th>\n",
       "      <th>workclass_Local-gov</th>\n",
       "      <th>workclass_Private</th>\n",
       "      <th>workclass_Self-Employed</th>\n",
       "      <th>workclass_State-gov</th>\n",
       "      <th>workclass_Without-pay</th>\n",
       "      <th>...</th>\n",
       "      <th>occupation_Tech-support</th>\n",
       "      <th>occupation_Transport-moving</th>\n",
       "      <th>relationship_Husband</th>\n",
       "      <th>relationship_Not-in-family</th>\n",
       "      <th>relationship_Other-relative</th>\n",
       "      <th>relationship_Own-child</th>\n",
       "      <th>relationship_Unmarried</th>\n",
       "      <th>relationship_Wife</th>\n",
       "      <th>sex_Female</th>\n",
       "      <th>sex_Male</th>\n",
       "    </tr>\n",
       "  </thead>\n",
       "  <tbody>\n",
       "    <tr>\n",
       "      <th>0</th>\n",
       "      <td>39</td>\n",
       "      <td>2174</td>\n",
       "      <td>0</td>\n",
       "      <td>40</td>\n",
       "      <td>0</td>\n",
       "      <td>0</td>\n",
       "      <td>0</td>\n",
       "      <td>0</td>\n",
       "      <td>1</td>\n",
       "      <td>0</td>\n",
       "      <td>...</td>\n",
       "      <td>0</td>\n",
       "      <td>0</td>\n",
       "      <td>0</td>\n",
       "      <td>1</td>\n",
       "      <td>0</td>\n",
       "      <td>0</td>\n",
       "      <td>0</td>\n",
       "      <td>0</td>\n",
       "      <td>0</td>\n",
       "      <td>1</td>\n",
       "    </tr>\n",
       "    <tr>\n",
       "      <th>1</th>\n",
       "      <td>50</td>\n",
       "      <td>0</td>\n",
       "      <td>0</td>\n",
       "      <td>13</td>\n",
       "      <td>0</td>\n",
       "      <td>0</td>\n",
       "      <td>0</td>\n",
       "      <td>1</td>\n",
       "      <td>0</td>\n",
       "      <td>0</td>\n",
       "      <td>...</td>\n",
       "      <td>0</td>\n",
       "      <td>0</td>\n",
       "      <td>1</td>\n",
       "      <td>0</td>\n",
       "      <td>0</td>\n",
       "      <td>0</td>\n",
       "      <td>0</td>\n",
       "      <td>0</td>\n",
       "      <td>0</td>\n",
       "      <td>1</td>\n",
       "    </tr>\n",
       "    <tr>\n",
       "      <th>2</th>\n",
       "      <td>38</td>\n",
       "      <td>0</td>\n",
       "      <td>0</td>\n",
       "      <td>40</td>\n",
       "      <td>0</td>\n",
       "      <td>0</td>\n",
       "      <td>1</td>\n",
       "      <td>0</td>\n",
       "      <td>0</td>\n",
       "      <td>0</td>\n",
       "      <td>...</td>\n",
       "      <td>0</td>\n",
       "      <td>0</td>\n",
       "      <td>0</td>\n",
       "      <td>1</td>\n",
       "      <td>0</td>\n",
       "      <td>0</td>\n",
       "      <td>0</td>\n",
       "      <td>0</td>\n",
       "      <td>0</td>\n",
       "      <td>1</td>\n",
       "    </tr>\n",
       "    <tr>\n",
       "      <th>3</th>\n",
       "      <td>53</td>\n",
       "      <td>0</td>\n",
       "      <td>0</td>\n",
       "      <td>40</td>\n",
       "      <td>0</td>\n",
       "      <td>0</td>\n",
       "      <td>1</td>\n",
       "      <td>0</td>\n",
       "      <td>0</td>\n",
       "      <td>0</td>\n",
       "      <td>...</td>\n",
       "      <td>0</td>\n",
       "      <td>0</td>\n",
       "      <td>1</td>\n",
       "      <td>0</td>\n",
       "      <td>0</td>\n",
       "      <td>0</td>\n",
       "      <td>0</td>\n",
       "      <td>0</td>\n",
       "      <td>0</td>\n",
       "      <td>1</td>\n",
       "    </tr>\n",
       "    <tr>\n",
       "      <th>4</th>\n",
       "      <td>28</td>\n",
       "      <td>0</td>\n",
       "      <td>0</td>\n",
       "      <td>40</td>\n",
       "      <td>0</td>\n",
       "      <td>0</td>\n",
       "      <td>1</td>\n",
       "      <td>0</td>\n",
       "      <td>0</td>\n",
       "      <td>0</td>\n",
       "      <td>...</td>\n",
       "      <td>0</td>\n",
       "      <td>0</td>\n",
       "      <td>0</td>\n",
       "      <td>0</td>\n",
       "      <td>0</td>\n",
       "      <td>0</td>\n",
       "      <td>0</td>\n",
       "      <td>1</td>\n",
       "      <td>1</td>\n",
       "      <td>0</td>\n",
       "    </tr>\n",
       "  </tbody>\n",
       "</table>\n",
       "<p>5 rows × 43 columns</p>\n",
       "</div>"
      ],
      "text/plain": [
       "   age  capital_gain  capital_loss  hours_per_week  workclass_Federal-gov  \\\n",
       "0   39          2174             0              40                      0   \n",
       "1   50             0             0              13                      0   \n",
       "2   38             0             0              40                      0   \n",
       "3   53             0             0              40                      0   \n",
       "4   28             0             0              40                      0   \n",
       "\n",
       "   workclass_Local-gov  workclass_Private  workclass_Self-Employed  \\\n",
       "0                    0                  0                        0   \n",
       "1                    0                  0                        1   \n",
       "2                    0                  1                        0   \n",
       "3                    0                  1                        0   \n",
       "4                    0                  1                        0   \n",
       "\n",
       "   workclass_State-gov  workclass_Without-pay    ...     \\\n",
       "0                    1                      0    ...      \n",
       "1                    0                      0    ...      \n",
       "2                    0                      0    ...      \n",
       "3                    0                      0    ...      \n",
       "4                    0                      0    ...      \n",
       "\n",
       "   occupation_Tech-support  occupation_Transport-moving  relationship_Husband  \\\n",
       "0                        0                            0                     0   \n",
       "1                        0                            0                     1   \n",
       "2                        0                            0                     0   \n",
       "3                        0                            0                     1   \n",
       "4                        0                            0                     0   \n",
       "\n",
       "   relationship_Not-in-family  relationship_Other-relative  \\\n",
       "0                           1                            0   \n",
       "1                           0                            0   \n",
       "2                           1                            0   \n",
       "3                           0                            0   \n",
       "4                           0                            0   \n",
       "\n",
       "   relationship_Own-child  relationship_Unmarried  relationship_Wife  \\\n",
       "0                       0                       0                  0   \n",
       "1                       0                       0                  0   \n",
       "2                       0                       0                  0   \n",
       "3                       0                       0                  0   \n",
       "4                       0                       0                  1   \n",
       "\n",
       "   sex_Female  sex_Male  \n",
       "0           0         1  \n",
       "1           0         1  \n",
       "2           0         1  \n",
       "3           0         1  \n",
       "4           1         0  \n",
       "\n",
       "[5 rows x 43 columns]"
      ]
     },
     "execution_count": 133,
     "metadata": {},
     "output_type": "execute_result"
    }
   ],
   "source": [
    "adultncnr = adult.drop(['native_country','race'], axis = 1)\n",
    "Xncnr = pd.get_dummies(adultncnr.iloc[:,:10])\n",
    "Yncnr = adultncnr['over_50k'] == '>50K'\n",
    "Xncnr.head()"
   ]
  },
  {
   "cell_type": "code",
   "execution_count": 134,
   "metadata": {},
   "outputs": [],
   "source": [
    "X_ncnrtrain, X_ncnrtest, y_ncnrtrain, y_ncnrtest = model_selection.train_test_split(Xncnr, Yncnr, test_size = .2, random_state = 3)"
   ]
  },
  {
   "cell_type": "code",
   "execution_count": 135,
   "metadata": {},
   "outputs": [
    {
     "name": "stdout",
     "output_type": "stream",
     "text": [
      "(0.5, 0.84402453174208525)\n"
     ]
    }
   ],
   "source": [
    "clfncnr = linear_model.LogisticRegression()\n",
    "grid = {\"C\": [0.001, .05, 0.1, .5, 1, 5, 10]}\n",
    "gridSearch = GridSearchCV(clfncnr, param_grid=grid, cv=5, scoring=\"accuracy\")\n",
    "gridSearch.fit(X_ncnrtrain,y_ncnrtrain)\n",
    "clf2 = linear_model.LogisticRegression(C = gridSearch.best_params_['C'])\n",
    "clf2.fit(X_ncnrtrain,y_ncnrtrain)\n",
    "print((gridSearch.best_params_['C'],accuracy_score(clf2.predict(X_ncnrtest),y_ncnrtest)))"
   ]
  },
  {
   "cell_type": "markdown",
   "metadata": {},
   "source": [
    "###### No Native Country, Relationship"
   ]
  },
  {
   "cell_type": "code",
   "execution_count": 33,
   "metadata": {
    "collapsed": true
   },
   "outputs": [],
   "source": [
    "adultNoCNoRel = adult.drop(['native_country','relationship'], axis = 1)\n",
    "XnCnRel = pd.get_dummies(adultNoCNoRel.iloc[:,:10])\n",
    "YnCnRel = adultNoCNoRel['over_50k'] == '>50K'"
   ]
  },
  {
   "cell_type": "code",
   "execution_count": 34,
   "metadata": {},
   "outputs": [],
   "source": [
    "X_nCnReltrain, X_nCnReltest, y_nCnReltrain, y_nCnReltest = model_selection.train_test_split(XnCnRel, YnCnRel, test_size = .2, random_state = 3)"
   ]
  },
  {
   "cell_type": "code",
   "execution_count": 35,
   "metadata": {},
   "outputs": [
    {
     "name": "stdout",
     "output_type": "stream",
     "text": [
      "(10, 0.84220122658710428)\n"
     ]
    }
   ],
   "source": [
    "clfnCnRel = linear_model.LogisticRegression()\n",
    "grid = {\"C\": [0.001, .05, 0.1, .5, 1, 5, 10]}\n",
    "gridSearch = GridSearchCV(clfnCnRel, param_grid=grid, cv=5, scoring=\"accuracy\")\n",
    "gridSearch.fit(X_nCnReltrain,y_nCnReltrain)\n",
    "clf2 = linear_model.LogisticRegression(C = gridSearch.best_params_['C'])\n",
    "clf2.fit(X_nCnReltrain,y_nCnReltrain)\n",
    "print((gridSearch.best_params_['C'],accuracy_score(clf2.predict(X_nCnReltest),y_nCnReltest)))"
   ]
  },
  {
   "cell_type": "markdown",
   "metadata": {},
   "source": [
    "##### No Native Country, Race, Workclass"
   ]
  },
  {
   "cell_type": "code",
   "execution_count": 136,
   "metadata": {},
   "outputs": [
    {
     "data": {
      "text/html": [
       "<div>\n",
       "<style>\n",
       "    .dataframe thead tr:only-child th {\n",
       "        text-align: right;\n",
       "    }\n",
       "\n",
       "    .dataframe thead th {\n",
       "        text-align: left;\n",
       "    }\n",
       "\n",
       "    .dataframe tbody tr th {\n",
       "        vertical-align: top;\n",
       "    }\n",
       "</style>\n",
       "<table border=\"1\" class=\"dataframe\">\n",
       "  <thead>\n",
       "    <tr style=\"text-align: right;\">\n",
       "      <th></th>\n",
       "      <th>age</th>\n",
       "      <th>capital_gain</th>\n",
       "      <th>capital_loss</th>\n",
       "      <th>hours_per_week</th>\n",
       "      <th>education_Associates</th>\n",
       "      <th>education_Bachelors</th>\n",
       "      <th>education_Below-HS</th>\n",
       "      <th>education_Doctorate</th>\n",
       "      <th>education_HS-grad</th>\n",
       "      <th>education_Masters</th>\n",
       "      <th>...</th>\n",
       "      <th>occupation_Tech-support</th>\n",
       "      <th>occupation_Transport-moving</th>\n",
       "      <th>relationship_Husband</th>\n",
       "      <th>relationship_Not-in-family</th>\n",
       "      <th>relationship_Other-relative</th>\n",
       "      <th>relationship_Own-child</th>\n",
       "      <th>relationship_Unmarried</th>\n",
       "      <th>relationship_Wife</th>\n",
       "      <th>sex_Female</th>\n",
       "      <th>sex_Male</th>\n",
       "    </tr>\n",
       "  </thead>\n",
       "  <tbody>\n",
       "    <tr>\n",
       "      <th>0</th>\n",
       "      <td>39</td>\n",
       "      <td>2174</td>\n",
       "      <td>0</td>\n",
       "      <td>40</td>\n",
       "      <td>0</td>\n",
       "      <td>1</td>\n",
       "      <td>0</td>\n",
       "      <td>0</td>\n",
       "      <td>0</td>\n",
       "      <td>0</td>\n",
       "      <td>...</td>\n",
       "      <td>0</td>\n",
       "      <td>0</td>\n",
       "      <td>0</td>\n",
       "      <td>1</td>\n",
       "      <td>0</td>\n",
       "      <td>0</td>\n",
       "      <td>0</td>\n",
       "      <td>0</td>\n",
       "      <td>0</td>\n",
       "      <td>1</td>\n",
       "    </tr>\n",
       "    <tr>\n",
       "      <th>1</th>\n",
       "      <td>50</td>\n",
       "      <td>0</td>\n",
       "      <td>0</td>\n",
       "      <td>13</td>\n",
       "      <td>0</td>\n",
       "      <td>1</td>\n",
       "      <td>0</td>\n",
       "      <td>0</td>\n",
       "      <td>0</td>\n",
       "      <td>0</td>\n",
       "      <td>...</td>\n",
       "      <td>0</td>\n",
       "      <td>0</td>\n",
       "      <td>1</td>\n",
       "      <td>0</td>\n",
       "      <td>0</td>\n",
       "      <td>0</td>\n",
       "      <td>0</td>\n",
       "      <td>0</td>\n",
       "      <td>0</td>\n",
       "      <td>1</td>\n",
       "    </tr>\n",
       "    <tr>\n",
       "      <th>2</th>\n",
       "      <td>38</td>\n",
       "      <td>0</td>\n",
       "      <td>0</td>\n",
       "      <td>40</td>\n",
       "      <td>0</td>\n",
       "      <td>0</td>\n",
       "      <td>0</td>\n",
       "      <td>0</td>\n",
       "      <td>1</td>\n",
       "      <td>0</td>\n",
       "      <td>...</td>\n",
       "      <td>0</td>\n",
       "      <td>0</td>\n",
       "      <td>0</td>\n",
       "      <td>1</td>\n",
       "      <td>0</td>\n",
       "      <td>0</td>\n",
       "      <td>0</td>\n",
       "      <td>0</td>\n",
       "      <td>0</td>\n",
       "      <td>1</td>\n",
       "    </tr>\n",
       "    <tr>\n",
       "      <th>3</th>\n",
       "      <td>53</td>\n",
       "      <td>0</td>\n",
       "      <td>0</td>\n",
       "      <td>40</td>\n",
       "      <td>0</td>\n",
       "      <td>0</td>\n",
       "      <td>1</td>\n",
       "      <td>0</td>\n",
       "      <td>0</td>\n",
       "      <td>0</td>\n",
       "      <td>...</td>\n",
       "      <td>0</td>\n",
       "      <td>0</td>\n",
       "      <td>1</td>\n",
       "      <td>0</td>\n",
       "      <td>0</td>\n",
       "      <td>0</td>\n",
       "      <td>0</td>\n",
       "      <td>0</td>\n",
       "      <td>0</td>\n",
       "      <td>1</td>\n",
       "    </tr>\n",
       "    <tr>\n",
       "      <th>4</th>\n",
       "      <td>28</td>\n",
       "      <td>0</td>\n",
       "      <td>0</td>\n",
       "      <td>40</td>\n",
       "      <td>0</td>\n",
       "      <td>1</td>\n",
       "      <td>0</td>\n",
       "      <td>0</td>\n",
       "      <td>0</td>\n",
       "      <td>0</td>\n",
       "      <td>...</td>\n",
       "      <td>0</td>\n",
       "      <td>0</td>\n",
       "      <td>0</td>\n",
       "      <td>0</td>\n",
       "      <td>0</td>\n",
       "      <td>0</td>\n",
       "      <td>0</td>\n",
       "      <td>1</td>\n",
       "      <td>1</td>\n",
       "      <td>0</td>\n",
       "    </tr>\n",
       "  </tbody>\n",
       "</table>\n",
       "<p>5 rows × 37 columns</p>\n",
       "</div>"
      ],
      "text/plain": [
       "   age  capital_gain  capital_loss  hours_per_week  education_Associates  \\\n",
       "0   39          2174             0              40                     0   \n",
       "1   50             0             0              13                     0   \n",
       "2   38             0             0              40                     0   \n",
       "3   53             0             0              40                     0   \n",
       "4   28             0             0              40                     0   \n",
       "\n",
       "   education_Bachelors  education_Below-HS  education_Doctorate  \\\n",
       "0                    1                   0                    0   \n",
       "1                    1                   0                    0   \n",
       "2                    0                   0                    0   \n",
       "3                    0                   1                    0   \n",
       "4                    1                   0                    0   \n",
       "\n",
       "   education_HS-grad  education_Masters    ...     occupation_Tech-support  \\\n",
       "0                  0                  0    ...                           0   \n",
       "1                  0                  0    ...                           0   \n",
       "2                  1                  0    ...                           0   \n",
       "3                  0                  0    ...                           0   \n",
       "4                  0                  0    ...                           0   \n",
       "\n",
       "   occupation_Transport-moving  relationship_Husband  \\\n",
       "0                            0                     0   \n",
       "1                            0                     1   \n",
       "2                            0                     0   \n",
       "3                            0                     1   \n",
       "4                            0                     0   \n",
       "\n",
       "   relationship_Not-in-family  relationship_Other-relative  \\\n",
       "0                           1                            0   \n",
       "1                           0                            0   \n",
       "2                           1                            0   \n",
       "3                           0                            0   \n",
       "4                           0                            0   \n",
       "\n",
       "   relationship_Own-child  relationship_Unmarried  relationship_Wife  \\\n",
       "0                       0                       0                  0   \n",
       "1                       0                       0                  0   \n",
       "2                       0                       0                  0   \n",
       "3                       0                       0                  0   \n",
       "4                       0                       0                  1   \n",
       "\n",
       "   sex_Female  sex_Male  \n",
       "0           0         1  \n",
       "1           0         1  \n",
       "2           0         1  \n",
       "3           0         1  \n",
       "4           1         0  \n",
       "\n",
       "[5 rows x 37 columns]"
      ]
     },
     "execution_count": 136,
     "metadata": {},
     "output_type": "execute_result"
    }
   ],
   "source": [
    "adultncnrnwc = adult.drop(['native_country','race','workclass'], axis = 1)\n",
    "Xncnrnwc = pd.get_dummies(adultncnrnwc.iloc[:,:9])\n",
    "Yncnrnwc = adultncnrnwc['over_50k'] == '>50K'\n",
    "Xncnrnwc.head()"
   ]
  },
  {
   "cell_type": "code",
   "execution_count": 137,
   "metadata": {},
   "outputs": [],
   "source": [
    "X_ncnrnwctrain, X_ncnrnwctest, y_ncnrnwctrain, y_ncnrnwctest = model_selection.train_test_split(Xncnrnwc, Yncnrnwc, test_size = .2, random_state = 3)"
   ]
  },
  {
   "cell_type": "code",
   "execution_count": 138,
   "metadata": {},
   "outputs": [
    {
     "name": "stdout",
     "output_type": "stream",
     "text": [
      "(5, 0.84203547157301506)\n"
     ]
    }
   ],
   "source": [
    "clfncnrnwc = linear_model.LogisticRegression()\n",
    "grid = {\"C\": [0.001, .05, 0.1, .5, 1, 5, 10]}\n",
    "gridSearch = GridSearchCV(clfncnrnwc, param_grid=grid, cv=5, scoring=\"accuracy\")\n",
    "gridSearch.fit(X_ncnrnwctrain,y_ncnrnwctrain)\n",
    "clf2 = linear_model.LogisticRegression(C = gridSearch.best_params_['C'])\n",
    "clf2.fit(X_ncnrnwctrain,y_ncnrnwctrain)\n",
    "print((gridSearch.best_params_['C'],accuracy_score(clf2.predict(X_ncnrnwctest),y_ncnrnwctest)))"
   ]
  },
  {
   "cell_type": "markdown",
   "metadata": {},
   "source": [
    "#####  No Native Country, Relationship, Race"
   ]
  },
  {
   "cell_type": "code",
   "execution_count": 36,
   "metadata": {},
   "outputs": [
    {
     "data": {
      "text/html": [
       "<div>\n",
       "<style>\n",
       "    .dataframe thead tr:only-child th {\n",
       "        text-align: right;\n",
       "    }\n",
       "\n",
       "    .dataframe thead th {\n",
       "        text-align: left;\n",
       "    }\n",
       "\n",
       "    .dataframe tbody tr th {\n",
       "        vertical-align: top;\n",
       "    }\n",
       "</style>\n",
       "<table border=\"1\" class=\"dataframe\">\n",
       "  <thead>\n",
       "    <tr style=\"text-align: right;\">\n",
       "      <th></th>\n",
       "      <th>age</th>\n",
       "      <th>capital_gain</th>\n",
       "      <th>capital_loss</th>\n",
       "      <th>hours_per_week</th>\n",
       "      <th>workclass_Federal-gov</th>\n",
       "      <th>workclass_Local-gov</th>\n",
       "      <th>workclass_Private</th>\n",
       "      <th>workclass_Self-Employed</th>\n",
       "      <th>workclass_State-gov</th>\n",
       "      <th>workclass_Without-pay</th>\n",
       "      <th>...</th>\n",
       "      <th>occupation_Machine-op-inspct</th>\n",
       "      <th>occupation_Other-service</th>\n",
       "      <th>occupation_Priv-house-serv</th>\n",
       "      <th>occupation_Prof-specialty</th>\n",
       "      <th>occupation_Protective-serv</th>\n",
       "      <th>occupation_Sales</th>\n",
       "      <th>occupation_Tech-support</th>\n",
       "      <th>occupation_Transport-moving</th>\n",
       "      <th>sex_Female</th>\n",
       "      <th>sex_Male</th>\n",
       "    </tr>\n",
       "  </thead>\n",
       "  <tbody>\n",
       "    <tr>\n",
       "      <th>0</th>\n",
       "      <td>39</td>\n",
       "      <td>2174</td>\n",
       "      <td>0</td>\n",
       "      <td>40</td>\n",
       "      <td>0</td>\n",
       "      <td>0</td>\n",
       "      <td>0</td>\n",
       "      <td>0</td>\n",
       "      <td>1</td>\n",
       "      <td>0</td>\n",
       "      <td>...</td>\n",
       "      <td>0</td>\n",
       "      <td>0</td>\n",
       "      <td>0</td>\n",
       "      <td>0</td>\n",
       "      <td>0</td>\n",
       "      <td>0</td>\n",
       "      <td>0</td>\n",
       "      <td>0</td>\n",
       "      <td>0</td>\n",
       "      <td>1</td>\n",
       "    </tr>\n",
       "    <tr>\n",
       "      <th>1</th>\n",
       "      <td>50</td>\n",
       "      <td>0</td>\n",
       "      <td>0</td>\n",
       "      <td>13</td>\n",
       "      <td>0</td>\n",
       "      <td>0</td>\n",
       "      <td>0</td>\n",
       "      <td>1</td>\n",
       "      <td>0</td>\n",
       "      <td>0</td>\n",
       "      <td>...</td>\n",
       "      <td>0</td>\n",
       "      <td>0</td>\n",
       "      <td>0</td>\n",
       "      <td>0</td>\n",
       "      <td>0</td>\n",
       "      <td>0</td>\n",
       "      <td>0</td>\n",
       "      <td>0</td>\n",
       "      <td>0</td>\n",
       "      <td>1</td>\n",
       "    </tr>\n",
       "    <tr>\n",
       "      <th>2</th>\n",
       "      <td>38</td>\n",
       "      <td>0</td>\n",
       "      <td>0</td>\n",
       "      <td>40</td>\n",
       "      <td>0</td>\n",
       "      <td>0</td>\n",
       "      <td>1</td>\n",
       "      <td>0</td>\n",
       "      <td>0</td>\n",
       "      <td>0</td>\n",
       "      <td>...</td>\n",
       "      <td>0</td>\n",
       "      <td>0</td>\n",
       "      <td>0</td>\n",
       "      <td>0</td>\n",
       "      <td>0</td>\n",
       "      <td>0</td>\n",
       "      <td>0</td>\n",
       "      <td>0</td>\n",
       "      <td>0</td>\n",
       "      <td>1</td>\n",
       "    </tr>\n",
       "    <tr>\n",
       "      <th>3</th>\n",
       "      <td>53</td>\n",
       "      <td>0</td>\n",
       "      <td>0</td>\n",
       "      <td>40</td>\n",
       "      <td>0</td>\n",
       "      <td>0</td>\n",
       "      <td>1</td>\n",
       "      <td>0</td>\n",
       "      <td>0</td>\n",
       "      <td>0</td>\n",
       "      <td>...</td>\n",
       "      <td>0</td>\n",
       "      <td>0</td>\n",
       "      <td>0</td>\n",
       "      <td>0</td>\n",
       "      <td>0</td>\n",
       "      <td>0</td>\n",
       "      <td>0</td>\n",
       "      <td>0</td>\n",
       "      <td>0</td>\n",
       "      <td>1</td>\n",
       "    </tr>\n",
       "    <tr>\n",
       "      <th>4</th>\n",
       "      <td>28</td>\n",
       "      <td>0</td>\n",
       "      <td>0</td>\n",
       "      <td>40</td>\n",
       "      <td>0</td>\n",
       "      <td>0</td>\n",
       "      <td>1</td>\n",
       "      <td>0</td>\n",
       "      <td>0</td>\n",
       "      <td>0</td>\n",
       "      <td>...</td>\n",
       "      <td>0</td>\n",
       "      <td>0</td>\n",
       "      <td>0</td>\n",
       "      <td>1</td>\n",
       "      <td>0</td>\n",
       "      <td>0</td>\n",
       "      <td>0</td>\n",
       "      <td>0</td>\n",
       "      <td>1</td>\n",
       "      <td>0</td>\n",
       "    </tr>\n",
       "  </tbody>\n",
       "</table>\n",
       "<p>5 rows × 37 columns</p>\n",
       "</div>"
      ],
      "text/plain": [
       "   age  capital_gain  capital_loss  hours_per_week  workclass_Federal-gov  \\\n",
       "0   39          2174             0              40                      0   \n",
       "1   50             0             0              13                      0   \n",
       "2   38             0             0              40                      0   \n",
       "3   53             0             0              40                      0   \n",
       "4   28             0             0              40                      0   \n",
       "\n",
       "   workclass_Local-gov  workclass_Private  workclass_Self-Employed  \\\n",
       "0                    0                  0                        0   \n",
       "1                    0                  0                        1   \n",
       "2                    0                  1                        0   \n",
       "3                    0                  1                        0   \n",
       "4                    0                  1                        0   \n",
       "\n",
       "   workclass_State-gov  workclass_Without-pay    ...     \\\n",
       "0                    1                      0    ...      \n",
       "1                    0                      0    ...      \n",
       "2                    0                      0    ...      \n",
       "3                    0                      0    ...      \n",
       "4                    0                      0    ...      \n",
       "\n",
       "   occupation_Machine-op-inspct  occupation_Other-service  \\\n",
       "0                             0                         0   \n",
       "1                             0                         0   \n",
       "2                             0                         0   \n",
       "3                             0                         0   \n",
       "4                             0                         0   \n",
       "\n",
       "   occupation_Priv-house-serv  occupation_Prof-specialty  \\\n",
       "0                           0                          0   \n",
       "1                           0                          0   \n",
       "2                           0                          0   \n",
       "3                           0                          0   \n",
       "4                           0                          1   \n",
       "\n",
       "   occupation_Protective-serv  occupation_Sales  occupation_Tech-support  \\\n",
       "0                           0                 0                        0   \n",
       "1                           0                 0                        0   \n",
       "2                           0                 0                        0   \n",
       "3                           0                 0                        0   \n",
       "4                           0                 0                        0   \n",
       "\n",
       "   occupation_Transport-moving  sex_Female  sex_Male  \n",
       "0                            0           0         1  \n",
       "1                            0           0         1  \n",
       "2                            0           0         1  \n",
       "3                            0           0         1  \n",
       "4                            0           1         0  \n",
       "\n",
       "[5 rows x 37 columns]"
      ]
     },
     "execution_count": 36,
     "metadata": {},
     "output_type": "execute_result"
    }
   ],
   "source": [
    "adultNoCNoRelnRa = adult.drop(['native_country','relationship','race'], axis = 1)\n",
    "XnCnRelnRa = pd.get_dummies(adultNoCNoRelnRa.iloc[:,:9])\n",
    "YnCnRelnRa = adultNoCNoRelnRa['over_50k'] == '>50K'\n",
    "XnCnRelnRa.head()"
   ]
  },
  {
   "cell_type": "code",
   "execution_count": 37,
   "metadata": {},
   "outputs": [],
   "source": [
    "X_nCnRelnRatrain, X_nCnRelnRatest, y_nCnRelnRatrain, y_nCnRelnRatest = model_selection.train_test_split(XnCnRelnRa, YnCnRelnRa, test_size = .2, random_state = 3)"
   ]
  },
  {
   "cell_type": "code",
   "execution_count": 41,
   "metadata": {},
   "outputs": [
    {
     "name": "stdout",
     "output_type": "stream",
     "text": [
      "(0.1, 0.84220122658710428)\n"
     ]
    }
   ],
   "source": [
    "clfnCnRelnRa = linear_model.LogisticRegression()\n",
    "grid = {\"C\": [0.001, .05, 0.1, .5, 1, 5, 10]}\n",
    "gridSearch = GridSearchCV(clfnCnRelnRa, param_grid=grid, cv=5, scoring=\"accuracy\")\n",
    "gridSearch.fit(X_nCnRelnRatrain,y_nCnRelnRatrain)\n",
    "clf3 = linear_model.LogisticRegression(C = gridSearch.best_params_['C'])\n",
    "clf3.fit(X_nCnRelnRatrain,y_nCnRelnRatrain)\n",
    "print((gridSearch.best_params_['C'],accuracy_score(clf3.predict(X_nCnRelnRatest),y_nCnRelnRatest)))"
   ]
  },
  {
   "cell_type": "markdown",
   "metadata": {},
   "source": [
    "##### No Native Country, Relationship, Race, Occupation"
   ]
  },
  {
   "cell_type": "code",
   "execution_count": 48,
   "metadata": {},
   "outputs": [
    {
     "data": {
      "text/html": [
       "<div>\n",
       "<style>\n",
       "    .dataframe thead tr:only-child th {\n",
       "        text-align: right;\n",
       "    }\n",
       "\n",
       "    .dataframe thead th {\n",
       "        text-align: left;\n",
       "    }\n",
       "\n",
       "    .dataframe tbody tr th {\n",
       "        vertical-align: top;\n",
       "    }\n",
       "</style>\n",
       "<table border=\"1\" class=\"dataframe\">\n",
       "  <thead>\n",
       "    <tr style=\"text-align: right;\">\n",
       "      <th></th>\n",
       "      <th>age</th>\n",
       "      <th>capital_gain</th>\n",
       "      <th>capital_loss</th>\n",
       "      <th>hours_per_week</th>\n",
       "      <th>workclass_Federal-gov</th>\n",
       "      <th>workclass_Local-gov</th>\n",
       "      <th>workclass_Private</th>\n",
       "      <th>workclass_Self-Employed</th>\n",
       "      <th>workclass_State-gov</th>\n",
       "      <th>workclass_Without-pay</th>\n",
       "      <th>...</th>\n",
       "      <th>education_Doctorate</th>\n",
       "      <th>education_HS-grad</th>\n",
       "      <th>education_Masters</th>\n",
       "      <th>education_Prof-school</th>\n",
       "      <th>marital_status_Married</th>\n",
       "      <th>marital_status_Never-married</th>\n",
       "      <th>marital_status_Not-married</th>\n",
       "      <th>marital_status_Widowed</th>\n",
       "      <th>sex_Female</th>\n",
       "      <th>sex_Male</th>\n",
       "    </tr>\n",
       "  </thead>\n",
       "  <tbody>\n",
       "    <tr>\n",
       "      <th>0</th>\n",
       "      <td>39</td>\n",
       "      <td>2174</td>\n",
       "      <td>0</td>\n",
       "      <td>40</td>\n",
       "      <td>0</td>\n",
       "      <td>0</td>\n",
       "      <td>0</td>\n",
       "      <td>0</td>\n",
       "      <td>1</td>\n",
       "      <td>0</td>\n",
       "      <td>...</td>\n",
       "      <td>0</td>\n",
       "      <td>0</td>\n",
       "      <td>0</td>\n",
       "      <td>0</td>\n",
       "      <td>0</td>\n",
       "      <td>1</td>\n",
       "      <td>0</td>\n",
       "      <td>0</td>\n",
       "      <td>0</td>\n",
       "      <td>1</td>\n",
       "    </tr>\n",
       "    <tr>\n",
       "      <th>1</th>\n",
       "      <td>50</td>\n",
       "      <td>0</td>\n",
       "      <td>0</td>\n",
       "      <td>13</td>\n",
       "      <td>0</td>\n",
       "      <td>0</td>\n",
       "      <td>0</td>\n",
       "      <td>1</td>\n",
       "      <td>0</td>\n",
       "      <td>0</td>\n",
       "      <td>...</td>\n",
       "      <td>0</td>\n",
       "      <td>0</td>\n",
       "      <td>0</td>\n",
       "      <td>0</td>\n",
       "      <td>1</td>\n",
       "      <td>0</td>\n",
       "      <td>0</td>\n",
       "      <td>0</td>\n",
       "      <td>0</td>\n",
       "      <td>1</td>\n",
       "    </tr>\n",
       "    <tr>\n",
       "      <th>2</th>\n",
       "      <td>38</td>\n",
       "      <td>0</td>\n",
       "      <td>0</td>\n",
       "      <td>40</td>\n",
       "      <td>0</td>\n",
       "      <td>0</td>\n",
       "      <td>1</td>\n",
       "      <td>0</td>\n",
       "      <td>0</td>\n",
       "      <td>0</td>\n",
       "      <td>...</td>\n",
       "      <td>0</td>\n",
       "      <td>1</td>\n",
       "      <td>0</td>\n",
       "      <td>0</td>\n",
       "      <td>0</td>\n",
       "      <td>0</td>\n",
       "      <td>1</td>\n",
       "      <td>0</td>\n",
       "      <td>0</td>\n",
       "      <td>1</td>\n",
       "    </tr>\n",
       "    <tr>\n",
       "      <th>3</th>\n",
       "      <td>53</td>\n",
       "      <td>0</td>\n",
       "      <td>0</td>\n",
       "      <td>40</td>\n",
       "      <td>0</td>\n",
       "      <td>0</td>\n",
       "      <td>1</td>\n",
       "      <td>0</td>\n",
       "      <td>0</td>\n",
       "      <td>0</td>\n",
       "      <td>...</td>\n",
       "      <td>0</td>\n",
       "      <td>0</td>\n",
       "      <td>0</td>\n",
       "      <td>0</td>\n",
       "      <td>1</td>\n",
       "      <td>0</td>\n",
       "      <td>0</td>\n",
       "      <td>0</td>\n",
       "      <td>0</td>\n",
       "      <td>1</td>\n",
       "    </tr>\n",
       "    <tr>\n",
       "      <th>4</th>\n",
       "      <td>28</td>\n",
       "      <td>0</td>\n",
       "      <td>0</td>\n",
       "      <td>40</td>\n",
       "      <td>0</td>\n",
       "      <td>0</td>\n",
       "      <td>1</td>\n",
       "      <td>0</td>\n",
       "      <td>0</td>\n",
       "      <td>0</td>\n",
       "      <td>...</td>\n",
       "      <td>0</td>\n",
       "      <td>0</td>\n",
       "      <td>0</td>\n",
       "      <td>0</td>\n",
       "      <td>1</td>\n",
       "      <td>0</td>\n",
       "      <td>0</td>\n",
       "      <td>0</td>\n",
       "      <td>1</td>\n",
       "      <td>0</td>\n",
       "    </tr>\n",
       "  </tbody>\n",
       "</table>\n",
       "<p>5 rows × 23 columns</p>\n",
       "</div>"
      ],
      "text/plain": [
       "   age  capital_gain  capital_loss  hours_per_week  workclass_Federal-gov  \\\n",
       "0   39          2174             0              40                      0   \n",
       "1   50             0             0              13                      0   \n",
       "2   38             0             0              40                      0   \n",
       "3   53             0             0              40                      0   \n",
       "4   28             0             0              40                      0   \n",
       "\n",
       "   workclass_Local-gov  workclass_Private  workclass_Self-Employed  \\\n",
       "0                    0                  0                        0   \n",
       "1                    0                  0                        1   \n",
       "2                    0                  1                        0   \n",
       "3                    0                  1                        0   \n",
       "4                    0                  1                        0   \n",
       "\n",
       "   workclass_State-gov  workclass_Without-pay    ...     education_Doctorate  \\\n",
       "0                    1                      0    ...                       0   \n",
       "1                    0                      0    ...                       0   \n",
       "2                    0                      0    ...                       0   \n",
       "3                    0                      0    ...                       0   \n",
       "4                    0                      0    ...                       0   \n",
       "\n",
       "   education_HS-grad  education_Masters  education_Prof-school  \\\n",
       "0                  0                  0                      0   \n",
       "1                  0                  0                      0   \n",
       "2                  1                  0                      0   \n",
       "3                  0                  0                      0   \n",
       "4                  0                  0                      0   \n",
       "\n",
       "   marital_status_Married  marital_status_Never-married  \\\n",
       "0                       0                             1   \n",
       "1                       1                             0   \n",
       "2                       0                             0   \n",
       "3                       1                             0   \n",
       "4                       1                             0   \n",
       "\n",
       "   marital_status_Not-married  marital_status_Widowed  sex_Female  sex_Male  \n",
       "0                           0                       0           0         1  \n",
       "1                           0                       0           0         1  \n",
       "2                           1                       0           0         1  \n",
       "3                           0                       0           0         1  \n",
       "4                           0                       0           1         0  \n",
       "\n",
       "[5 rows x 23 columns]"
      ]
     },
     "execution_count": 48,
     "metadata": {},
     "output_type": "execute_result"
    }
   ],
   "source": [
    "adultnOcc= adult.drop(['native_country','relationship','race','occupation'], axis = 1)\n",
    "XnOcc = pd.get_dummies(adultnOcc.iloc[:,:8])\n",
    "YnOcc = adultnOcc['over_50k'] == '>50K'\n",
    "XnOcc.head()"
   ]
  },
  {
   "cell_type": "code",
   "execution_count": 50,
   "metadata": {
    "collapsed": true
   },
   "outputs": [],
   "source": [
    "X_nOcctrain, X_nOcctest, y_nOcctrain, y_nOcctest = model_selection.train_test_split(XnOcc, YnOcc, test_size = .2, random_state = 3)"
   ]
  },
  {
   "cell_type": "code",
   "execution_count": 52,
   "metadata": {},
   "outputs": [
    {
     "name": "stdout",
     "output_type": "stream",
     "text": [
      "(0.1, 0.83689706613625059)\n"
     ]
    }
   ],
   "source": [
    "clfnOcc = linear_model.LogisticRegression()\n",
    "grid = {\"C\": [0.001, .05, 0.1, .5, 1, 5, 10]}\n",
    "gridSearch = GridSearchCV(clfnOcc, param_grid=grid, cv=5, scoring=\"accuracy\")\n",
    "gridSearch.fit(X_nOcctrain,y_nOcctrain)\n",
    "clf3 = linear_model.LogisticRegression(C = gridSearch.best_params_['C'])\n",
    "clf3.fit(X_nOcctrain,y_nOcctrain)\n",
    "print((gridSearch.best_params_['C'],accuracy_score(clf3.predict(X_nOcctest),y_nOcctest)))"
   ]
  },
  {
   "cell_type": "markdown",
   "metadata": {},
   "source": [
    "###### No Native Country, Relationship, Race, Age"
   ]
  },
  {
   "cell_type": "code",
   "execution_count": 54,
   "metadata": {},
   "outputs": [
    {
     "data": {
      "text/html": [
       "<div>\n",
       "<style>\n",
       "    .dataframe thead tr:only-child th {\n",
       "        text-align: right;\n",
       "    }\n",
       "\n",
       "    .dataframe thead th {\n",
       "        text-align: left;\n",
       "    }\n",
       "\n",
       "    .dataframe tbody tr th {\n",
       "        vertical-align: top;\n",
       "    }\n",
       "</style>\n",
       "<table border=\"1\" class=\"dataframe\">\n",
       "  <thead>\n",
       "    <tr style=\"text-align: right;\">\n",
       "      <th></th>\n",
       "      <th>capital_gain</th>\n",
       "      <th>capital_loss</th>\n",
       "      <th>hours_per_week</th>\n",
       "      <th>workclass_Federal-gov</th>\n",
       "      <th>workclass_Local-gov</th>\n",
       "      <th>workclass_Private</th>\n",
       "      <th>workclass_Self-Employed</th>\n",
       "      <th>workclass_State-gov</th>\n",
       "      <th>workclass_Without-pay</th>\n",
       "      <th>education_Associates</th>\n",
       "      <th>...</th>\n",
       "      <th>occupation_Machine-op-inspct</th>\n",
       "      <th>occupation_Other-service</th>\n",
       "      <th>occupation_Priv-house-serv</th>\n",
       "      <th>occupation_Prof-specialty</th>\n",
       "      <th>occupation_Protective-serv</th>\n",
       "      <th>occupation_Sales</th>\n",
       "      <th>occupation_Tech-support</th>\n",
       "      <th>occupation_Transport-moving</th>\n",
       "      <th>sex_Female</th>\n",
       "      <th>sex_Male</th>\n",
       "    </tr>\n",
       "  </thead>\n",
       "  <tbody>\n",
       "    <tr>\n",
       "      <th>0</th>\n",
       "      <td>2174</td>\n",
       "      <td>0</td>\n",
       "      <td>40</td>\n",
       "      <td>0</td>\n",
       "      <td>0</td>\n",
       "      <td>0</td>\n",
       "      <td>0</td>\n",
       "      <td>1</td>\n",
       "      <td>0</td>\n",
       "      <td>0</td>\n",
       "      <td>...</td>\n",
       "      <td>0</td>\n",
       "      <td>0</td>\n",
       "      <td>0</td>\n",
       "      <td>0</td>\n",
       "      <td>0</td>\n",
       "      <td>0</td>\n",
       "      <td>0</td>\n",
       "      <td>0</td>\n",
       "      <td>0</td>\n",
       "      <td>1</td>\n",
       "    </tr>\n",
       "    <tr>\n",
       "      <th>1</th>\n",
       "      <td>0</td>\n",
       "      <td>0</td>\n",
       "      <td>13</td>\n",
       "      <td>0</td>\n",
       "      <td>0</td>\n",
       "      <td>0</td>\n",
       "      <td>1</td>\n",
       "      <td>0</td>\n",
       "      <td>0</td>\n",
       "      <td>0</td>\n",
       "      <td>...</td>\n",
       "      <td>0</td>\n",
       "      <td>0</td>\n",
       "      <td>0</td>\n",
       "      <td>0</td>\n",
       "      <td>0</td>\n",
       "      <td>0</td>\n",
       "      <td>0</td>\n",
       "      <td>0</td>\n",
       "      <td>0</td>\n",
       "      <td>1</td>\n",
       "    </tr>\n",
       "    <tr>\n",
       "      <th>2</th>\n",
       "      <td>0</td>\n",
       "      <td>0</td>\n",
       "      <td>40</td>\n",
       "      <td>0</td>\n",
       "      <td>0</td>\n",
       "      <td>1</td>\n",
       "      <td>0</td>\n",
       "      <td>0</td>\n",
       "      <td>0</td>\n",
       "      <td>0</td>\n",
       "      <td>...</td>\n",
       "      <td>0</td>\n",
       "      <td>0</td>\n",
       "      <td>0</td>\n",
       "      <td>0</td>\n",
       "      <td>0</td>\n",
       "      <td>0</td>\n",
       "      <td>0</td>\n",
       "      <td>0</td>\n",
       "      <td>0</td>\n",
       "      <td>1</td>\n",
       "    </tr>\n",
       "    <tr>\n",
       "      <th>3</th>\n",
       "      <td>0</td>\n",
       "      <td>0</td>\n",
       "      <td>40</td>\n",
       "      <td>0</td>\n",
       "      <td>0</td>\n",
       "      <td>1</td>\n",
       "      <td>0</td>\n",
       "      <td>0</td>\n",
       "      <td>0</td>\n",
       "      <td>0</td>\n",
       "      <td>...</td>\n",
       "      <td>0</td>\n",
       "      <td>0</td>\n",
       "      <td>0</td>\n",
       "      <td>0</td>\n",
       "      <td>0</td>\n",
       "      <td>0</td>\n",
       "      <td>0</td>\n",
       "      <td>0</td>\n",
       "      <td>0</td>\n",
       "      <td>1</td>\n",
       "    </tr>\n",
       "    <tr>\n",
       "      <th>4</th>\n",
       "      <td>0</td>\n",
       "      <td>0</td>\n",
       "      <td>40</td>\n",
       "      <td>0</td>\n",
       "      <td>0</td>\n",
       "      <td>1</td>\n",
       "      <td>0</td>\n",
       "      <td>0</td>\n",
       "      <td>0</td>\n",
       "      <td>0</td>\n",
       "      <td>...</td>\n",
       "      <td>0</td>\n",
       "      <td>0</td>\n",
       "      <td>0</td>\n",
       "      <td>1</td>\n",
       "      <td>0</td>\n",
       "      <td>0</td>\n",
       "      <td>0</td>\n",
       "      <td>0</td>\n",
       "      <td>1</td>\n",
       "      <td>0</td>\n",
       "    </tr>\n",
       "  </tbody>\n",
       "</table>\n",
       "<p>5 rows × 36 columns</p>\n",
       "</div>"
      ],
      "text/plain": [
       "   capital_gain  capital_loss  hours_per_week  workclass_Federal-gov  \\\n",
       "0          2174             0              40                      0   \n",
       "1             0             0              13                      0   \n",
       "2             0             0              40                      0   \n",
       "3             0             0              40                      0   \n",
       "4             0             0              40                      0   \n",
       "\n",
       "   workclass_Local-gov  workclass_Private  workclass_Self-Employed  \\\n",
       "0                    0                  0                        0   \n",
       "1                    0                  0                        1   \n",
       "2                    0                  1                        0   \n",
       "3                    0                  1                        0   \n",
       "4                    0                  1                        0   \n",
       "\n",
       "   workclass_State-gov  workclass_Without-pay  education_Associates    ...     \\\n",
       "0                    1                      0                     0    ...      \n",
       "1                    0                      0                     0    ...      \n",
       "2                    0                      0                     0    ...      \n",
       "3                    0                      0                     0    ...      \n",
       "4                    0                      0                     0    ...      \n",
       "\n",
       "   occupation_Machine-op-inspct  occupation_Other-service  \\\n",
       "0                             0                         0   \n",
       "1                             0                         0   \n",
       "2                             0                         0   \n",
       "3                             0                         0   \n",
       "4                             0                         0   \n",
       "\n",
       "   occupation_Priv-house-serv  occupation_Prof-specialty  \\\n",
       "0                           0                          0   \n",
       "1                           0                          0   \n",
       "2                           0                          0   \n",
       "3                           0                          0   \n",
       "4                           0                          1   \n",
       "\n",
       "   occupation_Protective-serv  occupation_Sales  occupation_Tech-support  \\\n",
       "0                           0                 0                        0   \n",
       "1                           0                 0                        0   \n",
       "2                           0                 0                        0   \n",
       "3                           0                 0                        0   \n",
       "4                           0                 0                        0   \n",
       "\n",
       "   occupation_Transport-moving  sex_Female  sex_Male  \n",
       "0                            0           0         1  \n",
       "1                            0           0         1  \n",
       "2                            0           0         1  \n",
       "3                            0           0         1  \n",
       "4                            0           1         0  \n",
       "\n",
       "[5 rows x 36 columns]"
      ]
     },
     "execution_count": 54,
     "metadata": {},
     "output_type": "execute_result"
    }
   ],
   "source": [
    "adultnAge= adult.drop(['native_country','relationship','race','age'], axis = 1)\n",
    "XnAge = pd.get_dummies(adultnAge.iloc[:,:8])\n",
    "YnAge = adultnAge['over_50k'] == '>50K'\n",
    "XnAge.head()"
   ]
  },
  {
   "cell_type": "code",
   "execution_count": 55,
   "metadata": {
    "collapsed": true
   },
   "outputs": [],
   "source": [
    "X_nAgetrain, X_nAgetest, y_nAgetrain, y_nAgetest = model_selection.train_test_split(XnAge, YnAge, test_size = .2, random_state = 3)"
   ]
  },
  {
   "cell_type": "code",
   "execution_count": 56,
   "metadata": {},
   "outputs": [
    {
     "name": "stdout",
     "output_type": "stream",
     "text": [
      "(10, 0.83888612630532078)\n"
     ]
    }
   ],
   "source": [
    "clfnAge = linear_model.LogisticRegression()\n",
    "grid = {\"C\": [0.001, .05, 0.1, .5, 1, 5, 10]}\n",
    "gridSearch = GridSearchCV(clfnAge, param_grid=grid, cv=5, scoring=\"accuracy\")\n",
    "gridSearch.fit(X_nAgetrain,y_nAgetrain)\n",
    "clf3 = linear_model.LogisticRegression(C = gridSearch.best_params_['C'])\n",
    "clf3.fit(X_nAgetrain,y_nAgetrain)\n",
    "print((gridSearch.best_params_['C'],accuracy_score(clf3.predict(X_nAgetest),y_nAgetest)))"
   ]
  },
  {
   "cell_type": "markdown",
   "metadata": {},
   "source": [
    "##### No Native Country, Relationship, Race, Hours"
   ]
  },
  {
   "cell_type": "code",
   "execution_count": 58,
   "metadata": {},
   "outputs": [
    {
     "data": {
      "text/html": [
       "<div>\n",
       "<style>\n",
       "    .dataframe thead tr:only-child th {\n",
       "        text-align: right;\n",
       "    }\n",
       "\n",
       "    .dataframe thead th {\n",
       "        text-align: left;\n",
       "    }\n",
       "\n",
       "    .dataframe tbody tr th {\n",
       "        vertical-align: top;\n",
       "    }\n",
       "</style>\n",
       "<table border=\"1\" class=\"dataframe\">\n",
       "  <thead>\n",
       "    <tr style=\"text-align: right;\">\n",
       "      <th></th>\n",
       "      <th>age</th>\n",
       "      <th>capital_gain</th>\n",
       "      <th>capital_loss</th>\n",
       "      <th>workclass_Federal-gov</th>\n",
       "      <th>workclass_Local-gov</th>\n",
       "      <th>workclass_Private</th>\n",
       "      <th>workclass_Self-Employed</th>\n",
       "      <th>workclass_State-gov</th>\n",
       "      <th>workclass_Without-pay</th>\n",
       "      <th>education_Associates</th>\n",
       "      <th>...</th>\n",
       "      <th>occupation_Machine-op-inspct</th>\n",
       "      <th>occupation_Other-service</th>\n",
       "      <th>occupation_Priv-house-serv</th>\n",
       "      <th>occupation_Prof-specialty</th>\n",
       "      <th>occupation_Protective-serv</th>\n",
       "      <th>occupation_Sales</th>\n",
       "      <th>occupation_Tech-support</th>\n",
       "      <th>occupation_Transport-moving</th>\n",
       "      <th>sex_Female</th>\n",
       "      <th>sex_Male</th>\n",
       "    </tr>\n",
       "  </thead>\n",
       "  <tbody>\n",
       "    <tr>\n",
       "      <th>0</th>\n",
       "      <td>39</td>\n",
       "      <td>2174</td>\n",
       "      <td>0</td>\n",
       "      <td>0</td>\n",
       "      <td>0</td>\n",
       "      <td>0</td>\n",
       "      <td>0</td>\n",
       "      <td>1</td>\n",
       "      <td>0</td>\n",
       "      <td>0</td>\n",
       "      <td>...</td>\n",
       "      <td>0</td>\n",
       "      <td>0</td>\n",
       "      <td>0</td>\n",
       "      <td>0</td>\n",
       "      <td>0</td>\n",
       "      <td>0</td>\n",
       "      <td>0</td>\n",
       "      <td>0</td>\n",
       "      <td>0</td>\n",
       "      <td>1</td>\n",
       "    </tr>\n",
       "    <tr>\n",
       "      <th>1</th>\n",
       "      <td>50</td>\n",
       "      <td>0</td>\n",
       "      <td>0</td>\n",
       "      <td>0</td>\n",
       "      <td>0</td>\n",
       "      <td>0</td>\n",
       "      <td>1</td>\n",
       "      <td>0</td>\n",
       "      <td>0</td>\n",
       "      <td>0</td>\n",
       "      <td>...</td>\n",
       "      <td>0</td>\n",
       "      <td>0</td>\n",
       "      <td>0</td>\n",
       "      <td>0</td>\n",
       "      <td>0</td>\n",
       "      <td>0</td>\n",
       "      <td>0</td>\n",
       "      <td>0</td>\n",
       "      <td>0</td>\n",
       "      <td>1</td>\n",
       "    </tr>\n",
       "    <tr>\n",
       "      <th>2</th>\n",
       "      <td>38</td>\n",
       "      <td>0</td>\n",
       "      <td>0</td>\n",
       "      <td>0</td>\n",
       "      <td>0</td>\n",
       "      <td>1</td>\n",
       "      <td>0</td>\n",
       "      <td>0</td>\n",
       "      <td>0</td>\n",
       "      <td>0</td>\n",
       "      <td>...</td>\n",
       "      <td>0</td>\n",
       "      <td>0</td>\n",
       "      <td>0</td>\n",
       "      <td>0</td>\n",
       "      <td>0</td>\n",
       "      <td>0</td>\n",
       "      <td>0</td>\n",
       "      <td>0</td>\n",
       "      <td>0</td>\n",
       "      <td>1</td>\n",
       "    </tr>\n",
       "    <tr>\n",
       "      <th>3</th>\n",
       "      <td>53</td>\n",
       "      <td>0</td>\n",
       "      <td>0</td>\n",
       "      <td>0</td>\n",
       "      <td>0</td>\n",
       "      <td>1</td>\n",
       "      <td>0</td>\n",
       "      <td>0</td>\n",
       "      <td>0</td>\n",
       "      <td>0</td>\n",
       "      <td>...</td>\n",
       "      <td>0</td>\n",
       "      <td>0</td>\n",
       "      <td>0</td>\n",
       "      <td>0</td>\n",
       "      <td>0</td>\n",
       "      <td>0</td>\n",
       "      <td>0</td>\n",
       "      <td>0</td>\n",
       "      <td>0</td>\n",
       "      <td>1</td>\n",
       "    </tr>\n",
       "    <tr>\n",
       "      <th>4</th>\n",
       "      <td>28</td>\n",
       "      <td>0</td>\n",
       "      <td>0</td>\n",
       "      <td>0</td>\n",
       "      <td>0</td>\n",
       "      <td>1</td>\n",
       "      <td>0</td>\n",
       "      <td>0</td>\n",
       "      <td>0</td>\n",
       "      <td>0</td>\n",
       "      <td>...</td>\n",
       "      <td>0</td>\n",
       "      <td>0</td>\n",
       "      <td>0</td>\n",
       "      <td>1</td>\n",
       "      <td>0</td>\n",
       "      <td>0</td>\n",
       "      <td>0</td>\n",
       "      <td>0</td>\n",
       "      <td>1</td>\n",
       "      <td>0</td>\n",
       "    </tr>\n",
       "  </tbody>\n",
       "</table>\n",
       "<p>5 rows × 36 columns</p>\n",
       "</div>"
      ],
      "text/plain": [
       "   age  capital_gain  capital_loss  workclass_Federal-gov  \\\n",
       "0   39          2174             0                      0   \n",
       "1   50             0             0                      0   \n",
       "2   38             0             0                      0   \n",
       "3   53             0             0                      0   \n",
       "4   28             0             0                      0   \n",
       "\n",
       "   workclass_Local-gov  workclass_Private  workclass_Self-Employed  \\\n",
       "0                    0                  0                        0   \n",
       "1                    0                  0                        1   \n",
       "2                    0                  1                        0   \n",
       "3                    0                  1                        0   \n",
       "4                    0                  1                        0   \n",
       "\n",
       "   workclass_State-gov  workclass_Without-pay  education_Associates    ...     \\\n",
       "0                    1                      0                     0    ...      \n",
       "1                    0                      0                     0    ...      \n",
       "2                    0                      0                     0    ...      \n",
       "3                    0                      0                     0    ...      \n",
       "4                    0                      0                     0    ...      \n",
       "\n",
       "   occupation_Machine-op-inspct  occupation_Other-service  \\\n",
       "0                             0                         0   \n",
       "1                             0                         0   \n",
       "2                             0                         0   \n",
       "3                             0                         0   \n",
       "4                             0                         0   \n",
       "\n",
       "   occupation_Priv-house-serv  occupation_Prof-specialty  \\\n",
       "0                           0                          0   \n",
       "1                           0                          0   \n",
       "2                           0                          0   \n",
       "3                           0                          0   \n",
       "4                           0                          1   \n",
       "\n",
       "   occupation_Protective-serv  occupation_Sales  occupation_Tech-support  \\\n",
       "0                           0                 0                        0   \n",
       "1                           0                 0                        0   \n",
       "2                           0                 0                        0   \n",
       "3                           0                 0                        0   \n",
       "4                           0                 0                        0   \n",
       "\n",
       "   occupation_Transport-moving  sex_Female  sex_Male  \n",
       "0                            0           0         1  \n",
       "1                            0           0         1  \n",
       "2                            0           0         1  \n",
       "3                            0           0         1  \n",
       "4                            0           1         0  \n",
       "\n",
       "[5 rows x 36 columns]"
      ]
     },
     "execution_count": 58,
     "metadata": {},
     "output_type": "execute_result"
    }
   ],
   "source": [
    "adultnHours= adult.drop(['native_country','relationship','race','hours_per_week'], axis = 1)\n",
    "XnHours = pd.get_dummies(adultnHours.iloc[:,:8])\n",
    "YnHours = adultnHours['over_50k'] == '>50K'\n",
    "XnHours.head()"
   ]
  },
  {
   "cell_type": "code",
   "execution_count": 60,
   "metadata": {
    "collapsed": true
   },
   "outputs": [],
   "source": [
    "X_nHourstrain, X_nHourstest, y_nHourstrain, y_nHourstest = model_selection.train_test_split(XnHours, YnHours, test_size = .2, random_state = 3)"
   ]
  },
  {
   "cell_type": "code",
   "execution_count": 61,
   "metadata": {},
   "outputs": [
    {
     "name": "stdout",
     "output_type": "stream",
     "text": [
      "(0.5, 0.83954914636167743)\n"
     ]
    }
   ],
   "source": [
    "clfnHours = linear_model.LogisticRegression()\n",
    "grid = {\"C\": [0.001, .05, 0.1, .5, 1, 5, 10]}\n",
    "gridSearch = GridSearchCV(clfnHours, param_grid=grid, cv=5, scoring=\"accuracy\")\n",
    "gridSearch.fit(X_nHourstrain,y_nHourstrain)\n",
    "clf3 = linear_model.LogisticRegression(C = gridSearch.best_params_['C'])\n",
    "clf3.fit(X_nHourstrain,y_nHourstrain)\n",
    "print((gridSearch.best_params_['C'],accuracy_score(clf3.predict(X_nHourstest),y_nHourstest)))"
   ]
  },
  {
   "cell_type": "markdown",
   "metadata": {},
   "source": [
    "##### No Native Country, Relationship, Race, Workclass"
   ]
  },
  {
   "cell_type": "code",
   "execution_count": 7,
   "metadata": {},
   "outputs": [
    {
     "data": {
      "text/html": [
       "<div>\n",
       "<style>\n",
       "    .dataframe thead tr:only-child th {\n",
       "        text-align: right;\n",
       "    }\n",
       "\n",
       "    .dataframe thead th {\n",
       "        text-align: left;\n",
       "    }\n",
       "\n",
       "    .dataframe tbody tr th {\n",
       "        vertical-align: top;\n",
       "    }\n",
       "</style>\n",
       "<table border=\"1\" class=\"dataframe\">\n",
       "  <thead>\n",
       "    <tr style=\"text-align: right;\">\n",
       "      <th></th>\n",
       "      <th>age</th>\n",
       "      <th>capital_gain</th>\n",
       "      <th>capital_loss</th>\n",
       "      <th>hours_per_week</th>\n",
       "      <th>education_Associates</th>\n",
       "      <th>education_Bachelors</th>\n",
       "      <th>education_Below-HS</th>\n",
       "      <th>education_Doctorate</th>\n",
       "      <th>education_HS-grad</th>\n",
       "      <th>education_Masters</th>\n",
       "      <th>...</th>\n",
       "      <th>occupation_Machine-op-inspct</th>\n",
       "      <th>occupation_Other-service</th>\n",
       "      <th>occupation_Priv-house-serv</th>\n",
       "      <th>occupation_Prof-specialty</th>\n",
       "      <th>occupation_Protective-serv</th>\n",
       "      <th>occupation_Sales</th>\n",
       "      <th>occupation_Tech-support</th>\n",
       "      <th>occupation_Transport-moving</th>\n",
       "      <th>sex_Female</th>\n",
       "      <th>sex_Male</th>\n",
       "    </tr>\n",
       "  </thead>\n",
       "  <tbody>\n",
       "    <tr>\n",
       "      <th>0</th>\n",
       "      <td>39</td>\n",
       "      <td>2174</td>\n",
       "      <td>0</td>\n",
       "      <td>40</td>\n",
       "      <td>0</td>\n",
       "      <td>1</td>\n",
       "      <td>0</td>\n",
       "      <td>0</td>\n",
       "      <td>0</td>\n",
       "      <td>0</td>\n",
       "      <td>...</td>\n",
       "      <td>0</td>\n",
       "      <td>0</td>\n",
       "      <td>0</td>\n",
       "      <td>0</td>\n",
       "      <td>0</td>\n",
       "      <td>0</td>\n",
       "      <td>0</td>\n",
       "      <td>0</td>\n",
       "      <td>0</td>\n",
       "      <td>1</td>\n",
       "    </tr>\n",
       "    <tr>\n",
       "      <th>1</th>\n",
       "      <td>50</td>\n",
       "      <td>0</td>\n",
       "      <td>0</td>\n",
       "      <td>13</td>\n",
       "      <td>0</td>\n",
       "      <td>1</td>\n",
       "      <td>0</td>\n",
       "      <td>0</td>\n",
       "      <td>0</td>\n",
       "      <td>0</td>\n",
       "      <td>...</td>\n",
       "      <td>0</td>\n",
       "      <td>0</td>\n",
       "      <td>0</td>\n",
       "      <td>0</td>\n",
       "      <td>0</td>\n",
       "      <td>0</td>\n",
       "      <td>0</td>\n",
       "      <td>0</td>\n",
       "      <td>0</td>\n",
       "      <td>1</td>\n",
       "    </tr>\n",
       "    <tr>\n",
       "      <th>2</th>\n",
       "      <td>38</td>\n",
       "      <td>0</td>\n",
       "      <td>0</td>\n",
       "      <td>40</td>\n",
       "      <td>0</td>\n",
       "      <td>0</td>\n",
       "      <td>0</td>\n",
       "      <td>0</td>\n",
       "      <td>1</td>\n",
       "      <td>0</td>\n",
       "      <td>...</td>\n",
       "      <td>0</td>\n",
       "      <td>0</td>\n",
       "      <td>0</td>\n",
       "      <td>0</td>\n",
       "      <td>0</td>\n",
       "      <td>0</td>\n",
       "      <td>0</td>\n",
       "      <td>0</td>\n",
       "      <td>0</td>\n",
       "      <td>1</td>\n",
       "    </tr>\n",
       "    <tr>\n",
       "      <th>3</th>\n",
       "      <td>53</td>\n",
       "      <td>0</td>\n",
       "      <td>0</td>\n",
       "      <td>40</td>\n",
       "      <td>0</td>\n",
       "      <td>0</td>\n",
       "      <td>1</td>\n",
       "      <td>0</td>\n",
       "      <td>0</td>\n",
       "      <td>0</td>\n",
       "      <td>...</td>\n",
       "      <td>0</td>\n",
       "      <td>0</td>\n",
       "      <td>0</td>\n",
       "      <td>0</td>\n",
       "      <td>0</td>\n",
       "      <td>0</td>\n",
       "      <td>0</td>\n",
       "      <td>0</td>\n",
       "      <td>0</td>\n",
       "      <td>1</td>\n",
       "    </tr>\n",
       "    <tr>\n",
       "      <th>4</th>\n",
       "      <td>28</td>\n",
       "      <td>0</td>\n",
       "      <td>0</td>\n",
       "      <td>40</td>\n",
       "      <td>0</td>\n",
       "      <td>1</td>\n",
       "      <td>0</td>\n",
       "      <td>0</td>\n",
       "      <td>0</td>\n",
       "      <td>0</td>\n",
       "      <td>...</td>\n",
       "      <td>0</td>\n",
       "      <td>0</td>\n",
       "      <td>0</td>\n",
       "      <td>1</td>\n",
       "      <td>0</td>\n",
       "      <td>0</td>\n",
       "      <td>0</td>\n",
       "      <td>0</td>\n",
       "      <td>1</td>\n",
       "      <td>0</td>\n",
       "    </tr>\n",
       "  </tbody>\n",
       "</table>\n",
       "<p>5 rows × 31 columns</p>\n",
       "</div>"
      ],
      "text/plain": [
       "   age  capital_gain  capital_loss  hours_per_week  education_Associates  \\\n",
       "0   39          2174             0              40                     0   \n",
       "1   50             0             0              13                     0   \n",
       "2   38             0             0              40                     0   \n",
       "3   53             0             0              40                     0   \n",
       "4   28             0             0              40                     0   \n",
       "\n",
       "   education_Bachelors  education_Below-HS  education_Doctorate  \\\n",
       "0                    1                   0                    0   \n",
       "1                    1                   0                    0   \n",
       "2                    0                   0                    0   \n",
       "3                    0                   1                    0   \n",
       "4                    1                   0                    0   \n",
       "\n",
       "   education_HS-grad  education_Masters    ...     \\\n",
       "0                  0                  0    ...      \n",
       "1                  0                  0    ...      \n",
       "2                  1                  0    ...      \n",
       "3                  0                  0    ...      \n",
       "4                  0                  0    ...      \n",
       "\n",
       "   occupation_Machine-op-inspct  occupation_Other-service  \\\n",
       "0                             0                         0   \n",
       "1                             0                         0   \n",
       "2                             0                         0   \n",
       "3                             0                         0   \n",
       "4                             0                         0   \n",
       "\n",
       "   occupation_Priv-house-serv  occupation_Prof-specialty  \\\n",
       "0                           0                          0   \n",
       "1                           0                          0   \n",
       "2                           0                          0   \n",
       "3                           0                          0   \n",
       "4                           0                          1   \n",
       "\n",
       "   occupation_Protective-serv  occupation_Sales  occupation_Tech-support  \\\n",
       "0                           0                 0                        0   \n",
       "1                           0                 0                        0   \n",
       "2                           0                 0                        0   \n",
       "3                           0                 0                        0   \n",
       "4                           0                 0                        0   \n",
       "\n",
       "   occupation_Transport-moving  sex_Female  sex_Male  \n",
       "0                            0           0         1  \n",
       "1                            0           0         1  \n",
       "2                            0           0         1  \n",
       "3                            0           0         1  \n",
       "4                            0           1         0  \n",
       "\n",
       "[5 rows x 31 columns]"
      ]
     },
     "execution_count": 7,
     "metadata": {},
     "output_type": "execute_result"
    }
   ],
   "source": [
    "adultnWC= adult.drop(['native_country','relationship','race','workclass'], axis = 1)\n",
    "XnWC = pd.get_dummies(adultnWC.iloc[:,:8])\n",
    "YnWC = adultnWC['over_50k'] == '>50K'\n",
    "XnWC.head()"
   ]
  },
  {
   "cell_type": "code",
   "execution_count": 8,
   "metadata": {
    "collapsed": true
   },
   "outputs": [],
   "source": [
    "X_nWCtrain, X_nWCtest, y_nWCtrain, y_nWCtest = model_selection.train_test_split(XnWC, YnWC, test_size = .2, random_state = 3)"
   ]
  },
  {
   "cell_type": "code",
   "execution_count": 11,
   "metadata": {},
   "outputs": [
    {
     "name": "stdout",
     "output_type": "stream",
     "text": [
      "(0.1, 0.84286424664346093)\n"
     ]
    }
   ],
   "source": [
    "clfnWC = linear_model.LogisticRegression()\n",
    "grid = {\"C\": [0.001, .05, 0.1, .5, 1, 5, 10]}\n",
    "gridSearch = GridSearchCV(clfnWC, param_grid=grid, cv=5, scoring=\"accuracy\")\n",
    "gridSearch.fit(X_nWCtrain,y_nWCtrain)\n",
    "clf3 = linear_model.LogisticRegression(C = gridSearch.best_params_['C'])\n",
    "clf3.fit(X_nWCtrain,y_nWCtrain)\n",
    "print((gridSearch.best_params_['C'],accuracy_score(clf3.predict(X_nWCtest),y_nWCtest)))"
   ]
  },
  {
   "cell_type": "code",
   "execution_count": 68,
   "metadata": {},
   "outputs": [
    {
     "data": {
      "text/plain": [
       "Index(['age', 'education', 'marital_status', 'occupation', 'sex',\n",
       "       'capital_gain', 'capital_loss', 'hours_per_week', 'over_50k'],\n",
       "      dtype='object')"
      ]
     },
     "execution_count": 68,
     "metadata": {},
     "output_type": "execute_result"
    }
   ],
   "source": [
    "adultnWC.columns"
   ]
  },
  {
   "cell_type": "markdown",
   "metadata": {},
   "source": [
    "##### No Native Country, Relationship, Race, Workclass, Education"
   ]
  },
  {
   "cell_type": "code",
   "execution_count": 82,
   "metadata": {},
   "outputs": [
    {
     "data": {
      "text/html": [
       "<div>\n",
       "<style>\n",
       "    .dataframe thead tr:only-child th {\n",
       "        text-align: right;\n",
       "    }\n",
       "\n",
       "    .dataframe thead th {\n",
       "        text-align: left;\n",
       "    }\n",
       "\n",
       "    .dataframe tbody tr th {\n",
       "        vertical-align: top;\n",
       "    }\n",
       "</style>\n",
       "<table border=\"1\" class=\"dataframe\">\n",
       "  <thead>\n",
       "    <tr style=\"text-align: right;\">\n",
       "      <th></th>\n",
       "      <th>age</th>\n",
       "      <th>capital_gain</th>\n",
       "      <th>capital_loss</th>\n",
       "      <th>hours_per_week</th>\n",
       "      <th>marital_status_Married</th>\n",
       "      <th>marital_status_Never-married</th>\n",
       "      <th>marital_status_Not-married</th>\n",
       "      <th>marital_status_Widowed</th>\n",
       "      <th>occupation_Adm-clerical</th>\n",
       "      <th>occupation_Armed-Forces</th>\n",
       "      <th>...</th>\n",
       "      <th>occupation_Machine-op-inspct</th>\n",
       "      <th>occupation_Other-service</th>\n",
       "      <th>occupation_Priv-house-serv</th>\n",
       "      <th>occupation_Prof-specialty</th>\n",
       "      <th>occupation_Protective-serv</th>\n",
       "      <th>occupation_Sales</th>\n",
       "      <th>occupation_Tech-support</th>\n",
       "      <th>occupation_Transport-moving</th>\n",
       "      <th>sex_Female</th>\n",
       "      <th>sex_Male</th>\n",
       "    </tr>\n",
       "  </thead>\n",
       "  <tbody>\n",
       "    <tr>\n",
       "      <th>0</th>\n",
       "      <td>39</td>\n",
       "      <td>2174</td>\n",
       "      <td>0</td>\n",
       "      <td>40</td>\n",
       "      <td>0</td>\n",
       "      <td>1</td>\n",
       "      <td>0</td>\n",
       "      <td>0</td>\n",
       "      <td>1</td>\n",
       "      <td>0</td>\n",
       "      <td>...</td>\n",
       "      <td>0</td>\n",
       "      <td>0</td>\n",
       "      <td>0</td>\n",
       "      <td>0</td>\n",
       "      <td>0</td>\n",
       "      <td>0</td>\n",
       "      <td>0</td>\n",
       "      <td>0</td>\n",
       "      <td>0</td>\n",
       "      <td>1</td>\n",
       "    </tr>\n",
       "    <tr>\n",
       "      <th>1</th>\n",
       "      <td>50</td>\n",
       "      <td>0</td>\n",
       "      <td>0</td>\n",
       "      <td>13</td>\n",
       "      <td>1</td>\n",
       "      <td>0</td>\n",
       "      <td>0</td>\n",
       "      <td>0</td>\n",
       "      <td>0</td>\n",
       "      <td>0</td>\n",
       "      <td>...</td>\n",
       "      <td>0</td>\n",
       "      <td>0</td>\n",
       "      <td>0</td>\n",
       "      <td>0</td>\n",
       "      <td>0</td>\n",
       "      <td>0</td>\n",
       "      <td>0</td>\n",
       "      <td>0</td>\n",
       "      <td>0</td>\n",
       "      <td>1</td>\n",
       "    </tr>\n",
       "    <tr>\n",
       "      <th>2</th>\n",
       "      <td>38</td>\n",
       "      <td>0</td>\n",
       "      <td>0</td>\n",
       "      <td>40</td>\n",
       "      <td>0</td>\n",
       "      <td>0</td>\n",
       "      <td>1</td>\n",
       "      <td>0</td>\n",
       "      <td>0</td>\n",
       "      <td>0</td>\n",
       "      <td>...</td>\n",
       "      <td>0</td>\n",
       "      <td>0</td>\n",
       "      <td>0</td>\n",
       "      <td>0</td>\n",
       "      <td>0</td>\n",
       "      <td>0</td>\n",
       "      <td>0</td>\n",
       "      <td>0</td>\n",
       "      <td>0</td>\n",
       "      <td>1</td>\n",
       "    </tr>\n",
       "    <tr>\n",
       "      <th>3</th>\n",
       "      <td>53</td>\n",
       "      <td>0</td>\n",
       "      <td>0</td>\n",
       "      <td>40</td>\n",
       "      <td>1</td>\n",
       "      <td>0</td>\n",
       "      <td>0</td>\n",
       "      <td>0</td>\n",
       "      <td>0</td>\n",
       "      <td>0</td>\n",
       "      <td>...</td>\n",
       "      <td>0</td>\n",
       "      <td>0</td>\n",
       "      <td>0</td>\n",
       "      <td>0</td>\n",
       "      <td>0</td>\n",
       "      <td>0</td>\n",
       "      <td>0</td>\n",
       "      <td>0</td>\n",
       "      <td>0</td>\n",
       "      <td>1</td>\n",
       "    </tr>\n",
       "    <tr>\n",
       "      <th>4</th>\n",
       "      <td>28</td>\n",
       "      <td>0</td>\n",
       "      <td>0</td>\n",
       "      <td>40</td>\n",
       "      <td>1</td>\n",
       "      <td>0</td>\n",
       "      <td>0</td>\n",
       "      <td>0</td>\n",
       "      <td>0</td>\n",
       "      <td>0</td>\n",
       "      <td>...</td>\n",
       "      <td>0</td>\n",
       "      <td>0</td>\n",
       "      <td>0</td>\n",
       "      <td>1</td>\n",
       "      <td>0</td>\n",
       "      <td>0</td>\n",
       "      <td>0</td>\n",
       "      <td>0</td>\n",
       "      <td>1</td>\n",
       "      <td>0</td>\n",
       "    </tr>\n",
       "  </tbody>\n",
       "</table>\n",
       "<p>5 rows × 24 columns</p>\n",
       "</div>"
      ],
      "text/plain": [
       "   age  capital_gain  capital_loss  hours_per_week  marital_status_Married  \\\n",
       "0   39          2174             0              40                       0   \n",
       "1   50             0             0              13                       1   \n",
       "2   38             0             0              40                       0   \n",
       "3   53             0             0              40                       1   \n",
       "4   28             0             0              40                       1   \n",
       "\n",
       "   marital_status_Never-married  marital_status_Not-married  \\\n",
       "0                             1                           0   \n",
       "1                             0                           0   \n",
       "2                             0                           1   \n",
       "3                             0                           0   \n",
       "4                             0                           0   \n",
       "\n",
       "   marital_status_Widowed  occupation_Adm-clerical  occupation_Armed-Forces  \\\n",
       "0                       0                        1                        0   \n",
       "1                       0                        0                        0   \n",
       "2                       0                        0                        0   \n",
       "3                       0                        0                        0   \n",
       "4                       0                        0                        0   \n",
       "\n",
       "     ...     occupation_Machine-op-inspct  occupation_Other-service  \\\n",
       "0    ...                                0                         0   \n",
       "1    ...                                0                         0   \n",
       "2    ...                                0                         0   \n",
       "3    ...                                0                         0   \n",
       "4    ...                                0                         0   \n",
       "\n",
       "   occupation_Priv-house-serv  occupation_Prof-specialty  \\\n",
       "0                           0                          0   \n",
       "1                           0                          0   \n",
       "2                           0                          0   \n",
       "3                           0                          0   \n",
       "4                           0                          1   \n",
       "\n",
       "   occupation_Protective-serv  occupation_Sales  occupation_Tech-support  \\\n",
       "0                           0                 0                        0   \n",
       "1                           0                 0                        0   \n",
       "2                           0                 0                        0   \n",
       "3                           0                 0                        0   \n",
       "4                           0                 0                        0   \n",
       "\n",
       "   occupation_Transport-moving  sex_Female  sex_Male  \n",
       "0                            0           0         1  \n",
       "1                            0           0         1  \n",
       "2                            0           0         1  \n",
       "3                            0           0         1  \n",
       "4                            0           1         0  \n",
       "\n",
       "[5 rows x 24 columns]"
      ]
     },
     "execution_count": 82,
     "metadata": {},
     "output_type": "execute_result"
    }
   ],
   "source": [
    "adultnEd= adult.drop(['native_country','relationship','race','workclass','education'], axis = 1)\n",
    "XnEd = pd.get_dummies(adultnEd.iloc[:,:7])\n",
    "YnEd = adultnEd['over_50k'] == '>50K'\n",
    "XnEd.head()"
   ]
  },
  {
   "cell_type": "code",
   "execution_count": 83,
   "metadata": {
    "collapsed": true
   },
   "outputs": [],
   "source": [
    "X_nEdtrain, X_nEdtest, y_nEdtrain, y_nEdtest = model_selection.train_test_split(XnEd, YnEd, test_size = .2, random_state = 3)"
   ]
  },
  {
   "cell_type": "code",
   "execution_count": 84,
   "metadata": {},
   "outputs": [
    {
     "name": "stdout",
     "output_type": "stream",
     "text": [
      "(5, 0.84087518647439086)\n"
     ]
    }
   ],
   "source": [
    "clfnEd = linear_model.LogisticRegression()\n",
    "grid = {\"C\": [0.001, .05, 0.1, .5, 1, 5, 10]}\n",
    "gridSearch = GridSearchCV(clfnEd, param_grid=grid, cv=5, scoring=\"accuracy\")\n",
    "gridSearch.fit(X_nEdtrain,y_nEdtrain)\n",
    "clf3 = linear_model.LogisticRegression(C = gridSearch.best_params_['C'])\n",
    "clf3.fit(X_nEdtrain,y_nEdtrain)\n",
    "print((gridSearch.best_params_['C'],accuracy_score(clf3.predict(X_nEdtest),y_nEdtest)))"
   ]
  },
  {
   "cell_type": "markdown",
   "metadata": {},
   "source": [
    "#####  No Native Country, Relationship, Race, Workclass, Marital Status"
   ]
  },
  {
   "cell_type": "code",
   "execution_count": 88,
   "metadata": {},
   "outputs": [
    {
     "data": {
      "text/html": [
       "<div>\n",
       "<style>\n",
       "    .dataframe thead tr:only-child th {\n",
       "        text-align: right;\n",
       "    }\n",
       "\n",
       "    .dataframe thead th {\n",
       "        text-align: left;\n",
       "    }\n",
       "\n",
       "    .dataframe tbody tr th {\n",
       "        vertical-align: top;\n",
       "    }\n",
       "</style>\n",
       "<table border=\"1\" class=\"dataframe\">\n",
       "  <thead>\n",
       "    <tr style=\"text-align: right;\">\n",
       "      <th></th>\n",
       "      <th>age</th>\n",
       "      <th>capital_gain</th>\n",
       "      <th>capital_loss</th>\n",
       "      <th>hours_per_week</th>\n",
       "      <th>education_Associates</th>\n",
       "      <th>education_Bachelors</th>\n",
       "      <th>education_Below-HS</th>\n",
       "      <th>education_Doctorate</th>\n",
       "      <th>education_HS-grad</th>\n",
       "      <th>education_Masters</th>\n",
       "      <th>...</th>\n",
       "      <th>occupation_Machine-op-inspct</th>\n",
       "      <th>occupation_Other-service</th>\n",
       "      <th>occupation_Priv-house-serv</th>\n",
       "      <th>occupation_Prof-specialty</th>\n",
       "      <th>occupation_Protective-serv</th>\n",
       "      <th>occupation_Sales</th>\n",
       "      <th>occupation_Tech-support</th>\n",
       "      <th>occupation_Transport-moving</th>\n",
       "      <th>sex_Female</th>\n",
       "      <th>sex_Male</th>\n",
       "    </tr>\n",
       "  </thead>\n",
       "  <tbody>\n",
       "    <tr>\n",
       "      <th>0</th>\n",
       "      <td>39</td>\n",
       "      <td>2174</td>\n",
       "      <td>0</td>\n",
       "      <td>40</td>\n",
       "      <td>0</td>\n",
       "      <td>1</td>\n",
       "      <td>0</td>\n",
       "      <td>0</td>\n",
       "      <td>0</td>\n",
       "      <td>0</td>\n",
       "      <td>...</td>\n",
       "      <td>0</td>\n",
       "      <td>0</td>\n",
       "      <td>0</td>\n",
       "      <td>0</td>\n",
       "      <td>0</td>\n",
       "      <td>0</td>\n",
       "      <td>0</td>\n",
       "      <td>0</td>\n",
       "      <td>0</td>\n",
       "      <td>1</td>\n",
       "    </tr>\n",
       "    <tr>\n",
       "      <th>1</th>\n",
       "      <td>50</td>\n",
       "      <td>0</td>\n",
       "      <td>0</td>\n",
       "      <td>13</td>\n",
       "      <td>0</td>\n",
       "      <td>1</td>\n",
       "      <td>0</td>\n",
       "      <td>0</td>\n",
       "      <td>0</td>\n",
       "      <td>0</td>\n",
       "      <td>...</td>\n",
       "      <td>0</td>\n",
       "      <td>0</td>\n",
       "      <td>0</td>\n",
       "      <td>0</td>\n",
       "      <td>0</td>\n",
       "      <td>0</td>\n",
       "      <td>0</td>\n",
       "      <td>0</td>\n",
       "      <td>0</td>\n",
       "      <td>1</td>\n",
       "    </tr>\n",
       "    <tr>\n",
       "      <th>2</th>\n",
       "      <td>38</td>\n",
       "      <td>0</td>\n",
       "      <td>0</td>\n",
       "      <td>40</td>\n",
       "      <td>0</td>\n",
       "      <td>0</td>\n",
       "      <td>0</td>\n",
       "      <td>0</td>\n",
       "      <td>1</td>\n",
       "      <td>0</td>\n",
       "      <td>...</td>\n",
       "      <td>0</td>\n",
       "      <td>0</td>\n",
       "      <td>0</td>\n",
       "      <td>0</td>\n",
       "      <td>0</td>\n",
       "      <td>0</td>\n",
       "      <td>0</td>\n",
       "      <td>0</td>\n",
       "      <td>0</td>\n",
       "      <td>1</td>\n",
       "    </tr>\n",
       "    <tr>\n",
       "      <th>3</th>\n",
       "      <td>53</td>\n",
       "      <td>0</td>\n",
       "      <td>0</td>\n",
       "      <td>40</td>\n",
       "      <td>0</td>\n",
       "      <td>0</td>\n",
       "      <td>1</td>\n",
       "      <td>0</td>\n",
       "      <td>0</td>\n",
       "      <td>0</td>\n",
       "      <td>...</td>\n",
       "      <td>0</td>\n",
       "      <td>0</td>\n",
       "      <td>0</td>\n",
       "      <td>0</td>\n",
       "      <td>0</td>\n",
       "      <td>0</td>\n",
       "      <td>0</td>\n",
       "      <td>0</td>\n",
       "      <td>0</td>\n",
       "      <td>1</td>\n",
       "    </tr>\n",
       "    <tr>\n",
       "      <th>4</th>\n",
       "      <td>28</td>\n",
       "      <td>0</td>\n",
       "      <td>0</td>\n",
       "      <td>40</td>\n",
       "      <td>0</td>\n",
       "      <td>1</td>\n",
       "      <td>0</td>\n",
       "      <td>0</td>\n",
       "      <td>0</td>\n",
       "      <td>0</td>\n",
       "      <td>...</td>\n",
       "      <td>0</td>\n",
       "      <td>0</td>\n",
       "      <td>0</td>\n",
       "      <td>1</td>\n",
       "      <td>0</td>\n",
       "      <td>0</td>\n",
       "      <td>0</td>\n",
       "      <td>0</td>\n",
       "      <td>1</td>\n",
       "      <td>0</td>\n",
       "    </tr>\n",
       "  </tbody>\n",
       "</table>\n",
       "<p>5 rows × 27 columns</p>\n",
       "</div>"
      ],
      "text/plain": [
       "   age  capital_gain  capital_loss  hours_per_week  education_Associates  \\\n",
       "0   39          2174             0              40                     0   \n",
       "1   50             0             0              13                     0   \n",
       "2   38             0             0              40                     0   \n",
       "3   53             0             0              40                     0   \n",
       "4   28             0             0              40                     0   \n",
       "\n",
       "   education_Bachelors  education_Below-HS  education_Doctorate  \\\n",
       "0                    1                   0                    0   \n",
       "1                    1                   0                    0   \n",
       "2                    0                   0                    0   \n",
       "3                    0                   1                    0   \n",
       "4                    1                   0                    0   \n",
       "\n",
       "   education_HS-grad  education_Masters    ...     \\\n",
       "0                  0                  0    ...      \n",
       "1                  0                  0    ...      \n",
       "2                  1                  0    ...      \n",
       "3                  0                  0    ...      \n",
       "4                  0                  0    ...      \n",
       "\n",
       "   occupation_Machine-op-inspct  occupation_Other-service  \\\n",
       "0                             0                         0   \n",
       "1                             0                         0   \n",
       "2                             0                         0   \n",
       "3                             0                         0   \n",
       "4                             0                         0   \n",
       "\n",
       "   occupation_Priv-house-serv  occupation_Prof-specialty  \\\n",
       "0                           0                          0   \n",
       "1                           0                          0   \n",
       "2                           0                          0   \n",
       "3                           0                          0   \n",
       "4                           0                          1   \n",
       "\n",
       "   occupation_Protective-serv  occupation_Sales  occupation_Tech-support  \\\n",
       "0                           0                 0                        0   \n",
       "1                           0                 0                        0   \n",
       "2                           0                 0                        0   \n",
       "3                           0                 0                        0   \n",
       "4                           0                 0                        0   \n",
       "\n",
       "   occupation_Transport-moving  sex_Female  sex_Male  \n",
       "0                            0           0         1  \n",
       "1                            0           0         1  \n",
       "2                            0           0         1  \n",
       "3                            0           0         1  \n",
       "4                            0           1         0  \n",
       "\n",
       "[5 rows x 27 columns]"
      ]
     },
     "execution_count": 88,
     "metadata": {},
     "output_type": "execute_result"
    }
   ],
   "source": [
    "adultnMS= adult.drop(['native_country','relationship','race','workclass','marital_status'], axis = 1)\n",
    "XnMS = pd.get_dummies(adultnMS.iloc[:,:7])\n",
    "YnMS = adultnMS['over_50k'] == '>50K'\n",
    "XnMS.head()"
   ]
  },
  {
   "cell_type": "code",
   "execution_count": 89,
   "metadata": {
    "collapsed": true
   },
   "outputs": [],
   "source": [
    "X_nMStrain, X_nMStest, y_nMStrain, y_nMStest = model_selection.train_test_split(XnMS, YnMS, test_size = .2, random_state = 3)"
   ]
  },
  {
   "cell_type": "code",
   "execution_count": 90,
   "metadata": {},
   "outputs": [
    {
     "name": "stdout",
     "output_type": "stream",
     "text": [
      "(0.05, 0.8228078899386706)\n"
     ]
    }
   ],
   "source": [
    "clfnMS = linear_model.LogisticRegression()\n",
    "grid = {\"C\": [0.001, .05, 0.1, .5, 1, 5, 10]}\n",
    "gridSearch = GridSearchCV(clfnMS, param_grid=grid, cv=5, scoring=\"accuracy\")\n",
    "gridSearch.fit(X_nMStrain,y_nMStrain)\n",
    "clf3 = linear_model.LogisticRegression(C = gridSearch.best_params_['C'])\n",
    "clf3.fit(X_nMStrain,y_nMStrain)\n",
    "print((gridSearch.best_params_['C'],accuracy_score(clf3.predict(X_nMStest),y_nMStest)))"
   ]
  },
  {
   "cell_type": "markdown",
   "metadata": {},
   "source": [
    "#####  No Native Country, Relationship, Race, Workclass, Sex"
   ]
  },
  {
   "cell_type": "code",
   "execution_count": 93,
   "metadata": {},
   "outputs": [
    {
     "data": {
      "text/html": [
       "<div>\n",
       "<style>\n",
       "    .dataframe thead tr:only-child th {\n",
       "        text-align: right;\n",
       "    }\n",
       "\n",
       "    .dataframe thead th {\n",
       "        text-align: left;\n",
       "    }\n",
       "\n",
       "    .dataframe tbody tr th {\n",
       "        vertical-align: top;\n",
       "    }\n",
       "</style>\n",
       "<table border=\"1\" class=\"dataframe\">\n",
       "  <thead>\n",
       "    <tr style=\"text-align: right;\">\n",
       "      <th></th>\n",
       "      <th>age</th>\n",
       "      <th>capital_gain</th>\n",
       "      <th>capital_loss</th>\n",
       "      <th>hours_per_week</th>\n",
       "      <th>education_Associates</th>\n",
       "      <th>education_Bachelors</th>\n",
       "      <th>education_Below-HS</th>\n",
       "      <th>education_Doctorate</th>\n",
       "      <th>education_HS-grad</th>\n",
       "      <th>education_Masters</th>\n",
       "      <th>...</th>\n",
       "      <th>occupation_Farming-fishing</th>\n",
       "      <th>occupation_Handlers-cleaners</th>\n",
       "      <th>occupation_Machine-op-inspct</th>\n",
       "      <th>occupation_Other-service</th>\n",
       "      <th>occupation_Priv-house-serv</th>\n",
       "      <th>occupation_Prof-specialty</th>\n",
       "      <th>occupation_Protective-serv</th>\n",
       "      <th>occupation_Sales</th>\n",
       "      <th>occupation_Tech-support</th>\n",
       "      <th>occupation_Transport-moving</th>\n",
       "    </tr>\n",
       "  </thead>\n",
       "  <tbody>\n",
       "    <tr>\n",
       "      <th>0</th>\n",
       "      <td>39</td>\n",
       "      <td>2174</td>\n",
       "      <td>0</td>\n",
       "      <td>40</td>\n",
       "      <td>0</td>\n",
       "      <td>1</td>\n",
       "      <td>0</td>\n",
       "      <td>0</td>\n",
       "      <td>0</td>\n",
       "      <td>0</td>\n",
       "      <td>...</td>\n",
       "      <td>0</td>\n",
       "      <td>0</td>\n",
       "      <td>0</td>\n",
       "      <td>0</td>\n",
       "      <td>0</td>\n",
       "      <td>0</td>\n",
       "      <td>0</td>\n",
       "      <td>0</td>\n",
       "      <td>0</td>\n",
       "      <td>0</td>\n",
       "    </tr>\n",
       "    <tr>\n",
       "      <th>1</th>\n",
       "      <td>50</td>\n",
       "      <td>0</td>\n",
       "      <td>0</td>\n",
       "      <td>13</td>\n",
       "      <td>0</td>\n",
       "      <td>1</td>\n",
       "      <td>0</td>\n",
       "      <td>0</td>\n",
       "      <td>0</td>\n",
       "      <td>0</td>\n",
       "      <td>...</td>\n",
       "      <td>0</td>\n",
       "      <td>0</td>\n",
       "      <td>0</td>\n",
       "      <td>0</td>\n",
       "      <td>0</td>\n",
       "      <td>0</td>\n",
       "      <td>0</td>\n",
       "      <td>0</td>\n",
       "      <td>0</td>\n",
       "      <td>0</td>\n",
       "    </tr>\n",
       "    <tr>\n",
       "      <th>2</th>\n",
       "      <td>38</td>\n",
       "      <td>0</td>\n",
       "      <td>0</td>\n",
       "      <td>40</td>\n",
       "      <td>0</td>\n",
       "      <td>0</td>\n",
       "      <td>0</td>\n",
       "      <td>0</td>\n",
       "      <td>1</td>\n",
       "      <td>0</td>\n",
       "      <td>...</td>\n",
       "      <td>0</td>\n",
       "      <td>1</td>\n",
       "      <td>0</td>\n",
       "      <td>0</td>\n",
       "      <td>0</td>\n",
       "      <td>0</td>\n",
       "      <td>0</td>\n",
       "      <td>0</td>\n",
       "      <td>0</td>\n",
       "      <td>0</td>\n",
       "    </tr>\n",
       "    <tr>\n",
       "      <th>3</th>\n",
       "      <td>53</td>\n",
       "      <td>0</td>\n",
       "      <td>0</td>\n",
       "      <td>40</td>\n",
       "      <td>0</td>\n",
       "      <td>0</td>\n",
       "      <td>1</td>\n",
       "      <td>0</td>\n",
       "      <td>0</td>\n",
       "      <td>0</td>\n",
       "      <td>...</td>\n",
       "      <td>0</td>\n",
       "      <td>1</td>\n",
       "      <td>0</td>\n",
       "      <td>0</td>\n",
       "      <td>0</td>\n",
       "      <td>0</td>\n",
       "      <td>0</td>\n",
       "      <td>0</td>\n",
       "      <td>0</td>\n",
       "      <td>0</td>\n",
       "    </tr>\n",
       "    <tr>\n",
       "      <th>4</th>\n",
       "      <td>28</td>\n",
       "      <td>0</td>\n",
       "      <td>0</td>\n",
       "      <td>40</td>\n",
       "      <td>0</td>\n",
       "      <td>1</td>\n",
       "      <td>0</td>\n",
       "      <td>0</td>\n",
       "      <td>0</td>\n",
       "      <td>0</td>\n",
       "      <td>...</td>\n",
       "      <td>0</td>\n",
       "      <td>0</td>\n",
       "      <td>0</td>\n",
       "      <td>0</td>\n",
       "      <td>0</td>\n",
       "      <td>1</td>\n",
       "      <td>0</td>\n",
       "      <td>0</td>\n",
       "      <td>0</td>\n",
       "      <td>0</td>\n",
       "    </tr>\n",
       "  </tbody>\n",
       "</table>\n",
       "<p>5 rows × 29 columns</p>\n",
       "</div>"
      ],
      "text/plain": [
       "   age  capital_gain  capital_loss  hours_per_week  education_Associates  \\\n",
       "0   39          2174             0              40                     0   \n",
       "1   50             0             0              13                     0   \n",
       "2   38             0             0              40                     0   \n",
       "3   53             0             0              40                     0   \n",
       "4   28             0             0              40                     0   \n",
       "\n",
       "   education_Bachelors  education_Below-HS  education_Doctorate  \\\n",
       "0                    1                   0                    0   \n",
       "1                    1                   0                    0   \n",
       "2                    0                   0                    0   \n",
       "3                    0                   1                    0   \n",
       "4                    1                   0                    0   \n",
       "\n",
       "   education_HS-grad  education_Masters             ...               \\\n",
       "0                  0                  0             ...                \n",
       "1                  0                  0             ...                \n",
       "2                  1                  0             ...                \n",
       "3                  0                  0             ...                \n",
       "4                  0                  0             ...                \n",
       "\n",
       "   occupation_Farming-fishing  occupation_Handlers-cleaners  \\\n",
       "0                           0                             0   \n",
       "1                           0                             0   \n",
       "2                           0                             1   \n",
       "3                           0                             1   \n",
       "4                           0                             0   \n",
       "\n",
       "   occupation_Machine-op-inspct  occupation_Other-service  \\\n",
       "0                             0                         0   \n",
       "1                             0                         0   \n",
       "2                             0                         0   \n",
       "3                             0                         0   \n",
       "4                             0                         0   \n",
       "\n",
       "   occupation_Priv-house-serv  occupation_Prof-specialty  \\\n",
       "0                           0                          0   \n",
       "1                           0                          0   \n",
       "2                           0                          0   \n",
       "3                           0                          0   \n",
       "4                           0                          1   \n",
       "\n",
       "   occupation_Protective-serv  occupation_Sales  occupation_Tech-support  \\\n",
       "0                           0                 0                        0   \n",
       "1                           0                 0                        0   \n",
       "2                           0                 0                        0   \n",
       "3                           0                 0                        0   \n",
       "4                           0                 0                        0   \n",
       "\n",
       "   occupation_Transport-moving  \n",
       "0                            0  \n",
       "1                            0  \n",
       "2                            0  \n",
       "3                            0  \n",
       "4                            0  \n",
       "\n",
       "[5 rows x 29 columns]"
      ]
     },
     "execution_count": 93,
     "metadata": {},
     "output_type": "execute_result"
    }
   ],
   "source": [
    "adultnSx= adult.drop(['native_country','relationship','race','workclass','sex'], axis = 1)\n",
    "XnSx = pd.get_dummies(adultnSx.iloc[:,:7])\n",
    "YnSx = adultnSx['over_50k'] == '>50K'\n",
    "XnSx.head()"
   ]
  },
  {
   "cell_type": "code",
   "execution_count": 94,
   "metadata": {
    "collapsed": true
   },
   "outputs": [],
   "source": [
    "X_nSxtrain, X_nSxtest, y_nSxtrain, y_nSxtest = model_selection.train_test_split(XnSx, YnSx, test_size = .2, random_state = 3)"
   ]
  },
  {
   "cell_type": "code",
   "execution_count": 95,
   "metadata": {},
   "outputs": [
    {
     "name": "stdout",
     "output_type": "stream",
     "text": [
      "(0.5, 0.84153820653074751)\n"
     ]
    }
   ],
   "source": [
    "clfnSx = linear_model.LogisticRegression()\n",
    "grid = {\"C\": [0.001, .05, 0.1, .5, 1, 5, 10]}\n",
    "gridSearch = GridSearchCV(clfnSx, param_grid=grid, cv=5, scoring=\"accuracy\")\n",
    "gridSearch.fit(X_nSxtrain,y_nSxtrain)\n",
    "clf3 = linear_model.LogisticRegression(C = gridSearch.best_params_['C'])\n",
    "clf3.fit(X_nSxtrain,y_nSxtrain)\n",
    "print((gridSearch.best_params_['C'],accuracy_score(clf3.predict(X_nSxtest),y_nSxtest)))"
   ]
  },
  {
   "cell_type": "markdown",
   "metadata": {},
   "source": [
    "#####  No Native Country, Relationship, Race, Workclass, Combined Capital Gains"
   ]
  },
  {
   "cell_type": "code",
   "execution_count": 121,
   "metadata": {},
   "outputs": [
    {
     "data": {
      "text/html": [
       "<div>\n",
       "<style>\n",
       "    .dataframe thead tr:only-child th {\n",
       "        text-align: right;\n",
       "    }\n",
       "\n",
       "    .dataframe thead th {\n",
       "        text-align: left;\n",
       "    }\n",
       "\n",
       "    .dataframe tbody tr th {\n",
       "        vertical-align: top;\n",
       "    }\n",
       "</style>\n",
       "<table border=\"1\" class=\"dataframe\">\n",
       "  <thead>\n",
       "    <tr style=\"text-align: right;\">\n",
       "      <th></th>\n",
       "      <th>age</th>\n",
       "      <th>education</th>\n",
       "      <th>marital_status</th>\n",
       "      <th>occupation</th>\n",
       "      <th>sex</th>\n",
       "      <th>hours_per_week</th>\n",
       "      <th>total_capital</th>\n",
       "      <th>capital_gain</th>\n",
       "      <th>capital_loss</th>\n",
       "      <th>over_50k</th>\n",
       "    </tr>\n",
       "  </thead>\n",
       "  <tbody>\n",
       "    <tr>\n",
       "      <th>0</th>\n",
       "      <td>39</td>\n",
       "      <td>Bachelors</td>\n",
       "      <td>Never-married</td>\n",
       "      <td>Adm-clerical</td>\n",
       "      <td>Male</td>\n",
       "      <td>40</td>\n",
       "      <td>2174</td>\n",
       "      <td>2174</td>\n",
       "      <td>0</td>\n",
       "      <td>&lt;=50K</td>\n",
       "    </tr>\n",
       "    <tr>\n",
       "      <th>1</th>\n",
       "      <td>50</td>\n",
       "      <td>Bachelors</td>\n",
       "      <td>Married</td>\n",
       "      <td>Exec-managerial</td>\n",
       "      <td>Male</td>\n",
       "      <td>13</td>\n",
       "      <td>0</td>\n",
       "      <td>0</td>\n",
       "      <td>0</td>\n",
       "      <td>&lt;=50K</td>\n",
       "    </tr>\n",
       "    <tr>\n",
       "      <th>2</th>\n",
       "      <td>38</td>\n",
       "      <td>HS-grad</td>\n",
       "      <td>Not-married</td>\n",
       "      <td>Handlers-cleaners</td>\n",
       "      <td>Male</td>\n",
       "      <td>40</td>\n",
       "      <td>0</td>\n",
       "      <td>0</td>\n",
       "      <td>0</td>\n",
       "      <td>&lt;=50K</td>\n",
       "    </tr>\n",
       "    <tr>\n",
       "      <th>3</th>\n",
       "      <td>53</td>\n",
       "      <td>Below-HS</td>\n",
       "      <td>Married</td>\n",
       "      <td>Handlers-cleaners</td>\n",
       "      <td>Male</td>\n",
       "      <td>40</td>\n",
       "      <td>0</td>\n",
       "      <td>0</td>\n",
       "      <td>0</td>\n",
       "      <td>&lt;=50K</td>\n",
       "    </tr>\n",
       "    <tr>\n",
       "      <th>4</th>\n",
       "      <td>28</td>\n",
       "      <td>Bachelors</td>\n",
       "      <td>Married</td>\n",
       "      <td>Prof-specialty</td>\n",
       "      <td>Female</td>\n",
       "      <td>40</td>\n",
       "      <td>0</td>\n",
       "      <td>0</td>\n",
       "      <td>0</td>\n",
       "      <td>&lt;=50K</td>\n",
       "    </tr>\n",
       "  </tbody>\n",
       "</table>\n",
       "</div>"
      ],
      "text/plain": [
       "   age  education marital_status         occupation     sex  hours_per_week  \\\n",
       "0   39  Bachelors  Never-married       Adm-clerical    Male              40   \n",
       "1   50  Bachelors        Married    Exec-managerial    Male              13   \n",
       "2   38    HS-grad    Not-married  Handlers-cleaners    Male              40   \n",
       "3   53   Below-HS        Married  Handlers-cleaners    Male              40   \n",
       "4   28  Bachelors        Married     Prof-specialty  Female              40   \n",
       "\n",
       "   total_capital  capital_gain  capital_loss over_50k  \n",
       "0           2174          2174             0    <=50K  \n",
       "1              0             0             0    <=50K  \n",
       "2              0             0             0    <=50K  \n",
       "3              0             0             0    <=50K  \n",
       "4              0             0             0    <=50K  "
      ]
     },
     "execution_count": 121,
     "metadata": {},
     "output_type": "execute_result"
    }
   ],
   "source": [
    "cols = ['age','education','marital_status','occupation','sex','hours_per_week','total_capital','capital_gain','capital_loss','over_50k']\n",
    "adultCCG= adult.drop(['native_country','relationship','race','workclass'], axis = 1)\n",
    "adultCCG['total_capital'] = adultCCG['capital_gain'] - adultCCG['capital_loss']\n",
    "adultCCG = adultCCG[cols]\n",
    "XCCG = pd.get_dummies(adultCCG.iloc[:,:7])\n",
    "YCCG = adultCCG['over_50k'] == '>50K'\n",
    "adultCCG.head()"
   ]
  },
  {
   "cell_type": "code",
   "execution_count": 122,
   "metadata": {},
   "outputs": [
    {
     "data": {
      "text/plain": [
       "Index(['age', 'hours_per_week', 'total_capital', 'education_Associates',\n",
       "       'education_Bachelors', 'education_Below-HS', 'education_Doctorate',\n",
       "       'education_HS-grad', 'education_Masters', 'education_Prof-school',\n",
       "       'marital_status_Married', 'marital_status_Never-married',\n",
       "       'marital_status_Not-married', 'marital_status_Widowed',\n",
       "       'occupation_Adm-clerical', 'occupation_Armed-Forces',\n",
       "       'occupation_Craft-repair', 'occupation_Exec-managerial',\n",
       "       'occupation_Farming-fishing', 'occupation_Handlers-cleaners',\n",
       "       'occupation_Machine-op-inspct', 'occupation_Other-service',\n",
       "       'occupation_Priv-house-serv', 'occupation_Prof-specialty',\n",
       "       'occupation_Protective-serv', 'occupation_Sales',\n",
       "       'occupation_Tech-support', 'occupation_Transport-moving', 'sex_Female',\n",
       "       'sex_Male'],\n",
       "      dtype='object')"
      ]
     },
     "execution_count": 122,
     "metadata": {},
     "output_type": "execute_result"
    }
   ],
   "source": [
    "XCCG.columns"
   ]
  },
  {
   "cell_type": "code",
   "execution_count": 123,
   "metadata": {
    "collapsed": true
   },
   "outputs": [],
   "source": [
    "X_CCGtrain, X_CCGtest, y_CCGtrain, y_CCGtest = model_selection.train_test_split(XCCG, YCCG, test_size = .2, random_state = 3)"
   ]
  },
  {
   "cell_type": "code",
   "execution_count": 124,
   "metadata": {},
   "outputs": [
    {
     "name": "stdout",
     "output_type": "stream",
     "text": [
      "(1, 0.83772584120669646)\n"
     ]
    }
   ],
   "source": [
    "clfCCG = linear_model.LogisticRegression()\n",
    "grid = {\"C\": [0.001, .05, 0.1, .5, 1, 5, 10]}\n",
    "gridSearch = GridSearchCV(clfCCG, param_grid=grid, cv=5, scoring=\"accuracy\")\n",
    "gridSearch.fit(X_CCGtrain,y_CCGtrain)\n",
    "clf3 = linear_model.LogisticRegression(C = gridSearch.best_params_['C'])\n",
    "clf3.fit(X_CCGtrain,y_CCGtrain)\n",
    "print((gridSearch.best_params_['C'],accuracy_score(clf3.predict(X_CCGtest),y_CCGtest)))"
   ]
  },
  {
   "cell_type": "markdown",
   "metadata": {},
   "source": [
    "### Best performance: \n",
    "No Native Country, Race: C = 0.5, accuracy =  0.844\n"
   ]
  },
  {
   "cell_type": "markdown",
   "metadata": {
    "collapsed": true
   },
   "source": [
    "## k-NN "
   ]
  },
  {
   "cell_type": "code",
   "execution_count": 140,
   "metadata": {},
   "outputs": [
    {
     "data": {
      "text/plain": [
       "KNeighborsClassifier(algorithm='auto', leaf_size=30, metric='minkowski',\n",
       "           metric_params=None, n_jobs=1, n_neighbors=5, p=2,\n",
       "           weights='uniform')"
      ]
     },
     "execution_count": 140,
     "metadata": {},
     "output_type": "execute_result"
    }
   ],
   "source": [
    "import sklearn.neighbors as neighbors\n",
    "neigh = neighbors.KNeighborsClassifier(n_neighbors = 5)\n",
    "neigh.fit(X_train,y_train)"
   ]
  },
  {
   "cell_type": "code",
   "execution_count": 141,
   "metadata": {},
   "outputs": [
    {
     "data": {
      "text/plain": [
       "0.83888612630532078"
      ]
     },
     "execution_count": 141,
     "metadata": {},
     "output_type": "execute_result"
    }
   ],
   "source": [
    "accuracy_score(neigh.predict(X_test),y_test)"
   ]
  },
  {
   "cell_type": "markdown",
   "metadata": {},
   "source": [
    "#### Optimizing K"
   ]
  },
  {
   "cell_type": "code",
   "execution_count": 144,
   "metadata": {},
   "outputs": [
    {
     "name": "stdout",
     "output_type": "stream",
     "text": [
      "(10, 0.84054367644621253)\n"
     ]
    }
   ],
   "source": [
    "clfN = neighbors.KNeighborsClassifier()\n",
    "grid = {\"n_neighbors\": [3,4,5,6,7,8,9,10,11,12]}\n",
    "gridSearch = GridSearchCV(clfN, param_grid=grid, cv=5, scoring=\"accuracy\")\n",
    "gridSearch.fit(X_train,y_train)\n",
    "clfN2 = neighbors.KNeighborsClassifier(n_neighbors = gridSearch.best_params_['n_neighbors'])\n",
    "clfN2.fit(X_train,y_train)\n",
    "print((gridSearch.best_params_['n_neighbors'],accuracy_score(clfN2.predict(X_test),y_test)))"
   ]
  },
  {
   "cell_type": "markdown",
   "metadata": {},
   "source": [
    "#### Optimizing K with Feature Selection (No Native Country, Race)"
   ]
  },
  {
   "cell_type": "code",
   "execution_count": 146,
   "metadata": {},
   "outputs": [
    {
     "name": "stdout",
     "output_type": "stream",
     "text": [
      "(10, 0.8413724515166584)\n"
     ]
    }
   ],
   "source": [
    "clfN = neighbors.KNeighborsClassifier()\n",
    "grid = {\"n_neighbors\": [3,4,5,6,7,8,9,10,11,12]}\n",
    "gridSearch = GridSearchCV(clfN, param_grid=grid, cv=5, scoring=\"accuracy\")\n",
    "gridSearch.fit(X_ncnrtrain,y_ncnrtrain)\n",
    "clfN2 = neighbors.KNeighborsClassifier(n_neighbors = gridSearch.best_params_['n_neighbors'])\n",
    "clfN2.fit(X_ncnrtrain,y_ncnrtrain)\n",
    "print((gridSearch.best_params_['n_neighbors'],accuracy_score(clfN2.predict(X_ncnrtest),y_ncnrtest)))"
   ]
  },
  {
   "cell_type": "markdown",
   "metadata": {},
   "source": [
    "### Best performance:\n",
    "No Native Country, Race: K = 10, accuracy = .841"
   ]
  },
  {
   "cell_type": "markdown",
   "metadata": {},
   "source": [
    "## Random Forest"
   ]
  },
  {
   "cell_type": "code",
   "execution_count": 147,
   "metadata": {},
   "outputs": [
    {
     "data": {
      "text/plain": [
       "RandomForestClassifier(bootstrap=True, class_weight=None, criterion='gini',\n",
       "            max_depth=None, max_features='auto', max_leaf_nodes=None,\n",
       "            min_impurity_split=1e-07, min_samples_leaf=1,\n",
       "            min_samples_split=2, min_weight_fraction_leaf=0.0,\n",
       "            n_estimators=10, n_jobs=1, oob_score=False, random_state=None,\n",
       "            verbose=0, warm_start=False)"
      ]
     },
     "execution_count": 147,
     "metadata": {},
     "output_type": "execute_result"
    }
   ],
   "source": [
    "import sklearn.ensemble as ensemble\n",
    "randF = ensemble.RandomForestClassifier()\n",
    "randF.fit(X_train,y_train)"
   ]
  },
  {
   "cell_type": "code",
   "execution_count": 148,
   "metadata": {},
   "outputs": [
    {
     "data": {
      "text/plain": [
       "0.83971490137576665"
      ]
     },
     "execution_count": 148,
     "metadata": {},
     "output_type": "execute_result"
    }
   ],
   "source": [
    "accuracy_score(randF.predict(X_test),y_test)"
   ]
  },
  {
   "cell_type": "markdown",
   "metadata": {},
   "source": [
    "#### Optimizing Number of Trees"
   ]
  },
  {
   "cell_type": "code",
   "execution_count": 150,
   "metadata": {},
   "outputs": [
    {
     "name": "stdout",
     "output_type": "stream",
     "text": [
      "(80, 0.84286424664346093)\n"
     ]
    }
   ],
   "source": [
    "clfRF = ensemble.RandomForestClassifier()\n",
    "grid = {\"n_estimators\": [5,10,20,40,50,60,70,80,90,100]}\n",
    "gridSearch = GridSearchCV(clfRF, param_grid=grid, cv=5, scoring=\"accuracy\")\n",
    "gridSearch.fit(X_train,y_train)\n",
    "clfRF2 = ensemble.RandomForestClassifier(n_estimators = gridSearch.best_params_['n_estimators'])\n",
    "clfRF2.fit(X_train,y_train)\n",
    "print((gridSearch.best_params_['n_estimators'],accuracy_score(clfRF2.predict(X_test),y_test)))"
   ]
  },
  {
   "cell_type": "markdown",
   "metadata": {},
   "source": [
    "#### Optimizing Tree Numbers with Feature Selection (No Native Country, Race)"
   ]
  },
  {
   "cell_type": "code",
   "execution_count": 151,
   "metadata": {},
   "outputs": [
    {
     "name": "stdout",
     "output_type": "stream",
     "text": [
      "(50, 0.83971490137576665)\n"
     ]
    }
   ],
   "source": [
    "clfRF = ensemble.RandomForestClassifier()\n",
    "grid = {\"n_estimators\": [5,10,20,40,50,60,70,80,90,100]}\n",
    "gridSearch = GridSearchCV(clfRF, param_grid=grid, cv=5, scoring=\"accuracy\")\n",
    "gridSearch.fit(X_ncnrtrain,y_ncnrtrain)\n",
    "clfRF2 = ensemble.RandomForestClassifier(n_estimators = gridSearch.best_params_['n_estimators'])\n",
    "clfRF2.fit(X_ncnrtrain,y_ncnrtrain)\n",
    "print((gridSearch.best_params_['n_estimators'],accuracy_score(clfRF2.predict(X_ncnrtest),y_ncnrtest)))"
   ]
  },
  {
   "cell_type": "markdown",
   "metadata": {},
   "source": [
    "### Best Performance:\n",
    "Full Feature Set: number of trees: 80, accuracy: .843"
   ]
  },
  {
   "cell_type": "markdown",
   "metadata": {},
   "source": [
    "## Support Vector Machine "
   ]
  },
  {
   "cell_type": "code",
   "execution_count": 152,
   "metadata": {},
   "outputs": [
    {
     "data": {
      "text/plain": [
       "SVC(C=1.0, cache_size=200, class_weight=None, coef0=0.0,\n",
       "  decision_function_shape=None, degree=3, gamma='auto', kernel='rbf',\n",
       "  max_iter=-1, probability=False, random_state=None, shrinking=True,\n",
       "  tol=0.001, verbose=False)"
      ]
     },
     "execution_count": 152,
     "metadata": {},
     "output_type": "execute_result"
    }
   ],
   "source": [
    "from sklearn import svm\n",
    "clfSVM = svm.SVC()\n",
    "clfSVM.fit(X_train,y_train)"
   ]
  },
  {
   "cell_type": "code",
   "execution_count": 14,
   "metadata": {},
   "outputs": [
    {
     "data": {
      "text/plain": [
       "0.85463285264379252"
      ]
     },
     "execution_count": 14,
     "metadata": {},
     "output_type": "execute_result"
    }
   ],
   "source": [
    "accuracy_score(clfSVM.predict(X_test), y_test)"
   ]
  },
  {
   "cell_type": "markdown",
   "metadata": {},
   "source": [
    "## Gradient Boosting "
   ]
  },
  {
   "cell_type": "code",
   "execution_count": 153,
   "metadata": {},
   "outputs": [
    {
     "data": {
      "text/plain": [
       "0.86010276810873532"
      ]
     },
     "execution_count": 153,
     "metadata": {},
     "output_type": "execute_result"
    }
   ],
   "source": [
    "import sklearn.ensemble as ensemble\n",
    "clfBoost = ensemble.GradientBoostingClassifier()\n",
    "clfBoost.fit(X_train,y_train)\n",
    "accuracy_score(clfBoost.predict(X_test),y_test)"
   ]
  },
  {
   "cell_type": "markdown",
   "metadata": {
    "collapsed": true
   },
   "source": [
    "#### Optimizing min_impurity_split "
   ]
  },
  {
   "cell_type": "code",
   "execution_count": 17,
   "metadata": {},
   "outputs": [
    {
     "name": "stdout",
     "output_type": "stream",
     "text": [
      "(0.01, 0.86010276810873532)\n"
     ]
    }
   ],
   "source": [
    "clfGB = ensemble.GradientBoostingClassifier()\n",
    "grid = {\"min_impurity_split\":[.005,.0075,.01,.0125,.015]}\n",
    "gridSearch = GridSearchCV(clfGB, param_grid=grid, cv=5, scoring=\"accuracy\")\n",
    "gridSearch.fit(X_train,y_train)\n",
    "clfGB2 = ensemble.GradientBoostingClassifier(min_impurity_split =  gridSearch.best_params_['min_impurity_split'])\n",
    "clfGB2.fit(X_train,y_train)\n",
    "print((gridSearch.best_params_['min_impurity_split'],accuracy_score(clfGB2.predict(X_test),y_test)))"
   ]
  },
  {
   "cell_type": "markdown",
   "metadata": {},
   "source": [
    "#### Using Feature Selection (No Native Country, Relationship, Race, Workclass)"
   ]
  },
  {
   "cell_type": "code",
   "execution_count": 154,
   "metadata": {},
   "outputs": [
    {
     "name": "stdout",
     "output_type": "stream",
     "text": [
      "(0.0001, 0.8610972981932703)\n"
     ]
    }
   ],
   "source": [
    "clfGB = ensemble.GradientBoostingClassifier()\n",
    "grid = {\"min_impurity_split\":[.0001,.0025,.005]}\n",
    "gridSearch = GridSearchCV(clfGB, param_grid=grid, cv=5, scoring=\"accuracy\")\n",
    "gridSearch.fit(X_nWCtrain,y_nWCtrain)\n",
    "clfGB2 = ensemble.GradientBoostingClassifier(min_impurity_split =  gridSearch.best_params_['min_impurity_split'])\n",
    "clfGB2.fit(X_nWCtrain,y_nWCtrain)\n",
    "print((gridSearch.best_params_['min_impurity_split'],accuracy_score(clfGB2.predict(X_nWCtest),y_nWCtest)))"
   ]
  },
  {
   "cell_type": "markdown",
   "metadata": {},
   "source": [
    "#### Using Feature Selection (No Native Country, Race)"
   ]
  },
  {
   "cell_type": "code",
   "execution_count": 157,
   "metadata": {},
   "outputs": [
    {
     "name": "stdout",
     "output_type": "stream",
     "text": [
      "(0.0025, 0.85977125808055699)\n"
     ]
    }
   ],
   "source": [
    "clfGB = ensemble.GradientBoostingClassifier()\n",
    "grid = {\"min_impurity_split\":[.0001,.0025,.005]}\n",
    "gridSearch = GridSearchCV(clfGB, param_grid=grid, cv=5, scoring=\"accuracy\")\n",
    "gridSearch.fit(X_ncnrtrain,y_ncnrtrain)\n",
    "clfGB2 = ensemble.GradientBoostingClassifier(min_impurity_split =  gridSearch.best_params_['min_impurity_split'])\n",
    "clfGB2.fit(X_ncnrtrain,y_ncnrtrain)\n",
    "print((gridSearch.best_params_['min_impurity_split'],accuracy_score(clfGB2.predict(X_ncnrtest),y_ncnrtest)))"
   ]
  },
  {
   "cell_type": "markdown",
   "metadata": {},
   "source": [
    "### Best performance:\n",
    "No Native Country, Relationship, Race, Workclass: min_impurity_split: .0025, accuracy: .860"
   ]
  },
  {
   "cell_type": "markdown",
   "metadata": {},
   "source": [
    "## AdaBoost "
   ]
  },
  {
   "cell_type": "code",
   "execution_count": 20,
   "metadata": {},
   "outputs": [
    {
     "data": {
      "text/plain": [
       "0.85645615779877338"
      ]
     },
     "execution_count": 20,
     "metadata": {},
     "output_type": "execute_result"
    }
   ],
   "source": [
    "clfAda = ensemble.AdaBoostClassifier()\n",
    "clfAda.fit(X_train,y_train)\n",
    "accuracy_score(clfAda.predict(X_test),y_test)"
   ]
  },
  {
   "cell_type": "markdown",
   "metadata": {},
   "source": [
    "#### Optimizing Estimators"
   ]
  },
  {
   "cell_type": "code",
   "execution_count": 38,
   "metadata": {},
   "outputs": [
    {
     "name": "stdout",
     "output_type": "stream",
     "text": [
      "(270, 0.86441239847505391)\n"
     ]
    }
   ],
   "source": [
    "clfAB = ensemble.AdaBoostClassifier()\n",
    "grid = {\"n_estimators\":[250,260,270,280,290]}\n",
    "gridSearch = GridSearchCV(clfAB, param_grid=grid, cv=5, scoring=\"accuracy\")\n",
    "gridSearch.fit(X_train,y_train)\n",
    "clfAB2 = ensemble.AdaBoostClassifier(n_estimators =  gridSearch.best_params_['n_estimators'])\n",
    "clfAB2.fit(X_train,y_train)\n",
    "print((gridSearch.best_params_['n_estimators'],accuracy_score(clfAB2.predict(X_test),y_test)))"
   ]
  },
  {
   "cell_type": "markdown",
   "metadata": {},
   "source": [
    "#####  Optimizing Estimators with Feature Selection"
   ]
  },
  {
   "cell_type": "markdown",
   "metadata": {},
   "source": [
    "###### No Native Country, Race"
   ]
  },
  {
   "cell_type": "code",
   "execution_count": 158,
   "metadata": {},
   "outputs": [
    {
     "name": "stdout",
     "output_type": "stream",
     "text": [
      "(290, 0.86374937841869714)\n"
     ]
    }
   ],
   "source": [
    "clfAB = ensemble.AdaBoostClassifier()\n",
    "grid = {\"n_estimators\":[250,260,270,280,290]}\n",
    "gridSearch = GridSearchCV(clfAB, param_grid=grid, cv=5, scoring=\"accuracy\")\n",
    "gridSearch.fit(X_ncnrtrain,y_ncnrtrain)\n",
    "clfAB2 = ensemble.AdaBoostClassifier(n_estimators =  gridSearch.best_params_['n_estimators'])\n",
    "clfAB2.fit(X_ncnrtrain,y_ncnrtrain)\n",
    "print((gridSearch.best_params_['n_estimators'],accuracy_score(clfAB2.predict(X_ncnrtest),y_ncnrtest)))"
   ]
  },
  {
   "cell_type": "markdown",
   "metadata": {},
   "source": [
    "###### Using Feature Selection (No Native Country, Relationship, Race, Workclass)"
   ]
  },
  {
   "cell_type": "code",
   "execution_count": 160,
   "metadata": {},
   "outputs": [
    {
     "name": "stdout",
     "output_type": "stream",
     "text": [
      "(270, 0.86391513343278636)\n"
     ]
    }
   ],
   "source": [
    "clfAB = ensemble.AdaBoostClassifier()\n",
    "grid = {\"n_estimators\":[250,260,270,280,290]}\n",
    "gridSearch = GridSearchCV(clfAB, param_grid=grid, cv=5, scoring=\"accuracy\")\n",
    "gridSearch.fit(X_nWCtrain,y_nWCtrain)\n",
    "clfAB2 = ensemble.AdaBoostClassifier(n_estimators =  gridSearch.best_params_['n_estimators'])\n",
    "clfAB2.fit(X_nWCtrain,y_nWCtrain)\n",
    "print((gridSearch.best_params_['n_estimators'],accuracy_score(clfAB2.predict(X_nWCtest),y_nWCtest)))"
   ]
  },
  {
   "cell_type": "markdown",
   "metadata": {},
   "source": [
    "#### Best Performance:\n",
    "No Native Country, Relationship, Race, Workclass: number of estimators: 270, accuracy: .864"
   ]
  },
  {
   "cell_type": "markdown",
   "metadata": {},
   "source": [
    "## Ensemble Methods"
   ]
  },
  {
   "cell_type": "markdown",
   "metadata": {},
   "source": [
    "#### Logistic Regression with AdaBoost (isotonic regression)"
   ]
  },
  {
   "cell_type": "code",
   "execution_count": 161,
   "metadata": {},
   "outputs": [
    {
     "name": "stdout",
     "output_type": "stream",
     "text": [
      "(0.5, 0.84402453174208525)\n"
     ]
    }
   ],
   "source": [
    "clfncnr = linear_model.LogisticRegression()\n",
    "grid = {\"C\": [0.001, .05, 0.1, .5, 1, 5, 10]}\n",
    "gridSearch = GridSearchCV(clfncnr, param_grid=grid, cv=5, scoring=\"accuracy\")\n",
    "gridSearch.fit(X_ncnrtrain,y_ncnrtrain)\n",
    "clfncnr2 = linear_model.LogisticRegression(C = gridSearch.best_params_['C'])\n",
    "clfncnr2.fit(X_ncnrtrain,y_ncnrtrain)\n",
    "print((gridSearch.best_params_['C'],accuracy_score(clfncnr2.predict(X_ncnrtest),y_ncnrtest)))"
   ]
  },
  {
   "cell_type": "code",
   "execution_count": 162,
   "metadata": {},
   "outputs": [
    {
     "name": "stdout",
     "output_type": "stream",
     "text": [
      "(270, 0.86391513343278636)\n"
     ]
    }
   ],
   "source": [
    "clfAB = ensemble.AdaBoostClassifier()\n",
    "grid = {\"n_estimators\":[250,260,270,280,290]}\n",
    "gridSearch = GridSearchCV(clfAB, param_grid=grid, cv=5, scoring=\"accuracy\")\n",
    "gridSearch.fit(X_nWCtrain,y_nWCtrain)\n",
    "clfAB2 = ensemble.AdaBoostClassifier(n_estimators =  gridSearch.best_params_['n_estimators'])\n",
    "clfAB2.fit(X_nWCtrain,y_nWCtrain)\n",
    "print((gridSearch.best_params_['n_estimators'],accuracy_score(clfAB2.predict(X_nWCtest),y_nWCtest)))"
   ]
  },
  {
   "cell_type": "code",
   "execution_count": 176,
   "metadata": {},
   "outputs": [
    {
     "data": {
      "text/plain": [
       "array([ 0.96657841,  0.99698336,  0.53770326, ...,  0.49966787,\n",
       "        0.96344782,  0.93369909])"
      ]
     },
     "execution_count": 176,
     "metadata": {},
     "output_type": "execute_result"
    }
   ],
   "source": [
    "clfncnr2.predict_proba(X_ncnrtest)[:,0]"
   ]
  },
  {
   "cell_type": "code",
   "execution_count": 181,
   "metadata": {},
   "outputs": [
    {
     "data": {
      "text/plain": [
       "array([[ 0.97208232,  0.02791768],\n",
       "       [ 0.99769176,  0.00230824],\n",
       "       [ 0.45451097,  0.54548903],\n",
       "       ..., \n",
       "       [ 0.57869991,  0.42130009],\n",
       "       [ 0.99301341,  0.00698659],\n",
       "       [ 0.99330307,  0.00669693]])"
      ]
     },
     "execution_count": 181,
     "metadata": {},
     "output_type": "execute_result"
    }
   ],
   "source": [
    "from sklearn import calibration\n",
    "clfAB = ensemble.AdaBoostClassifier()\n",
    "grid = {\"n_estimators\":[250,260,270,280,290]}\n",
    "gridSearch = GridSearchCV(clfAB, param_grid=grid, cv=5, scoring=\"accuracy\")\n",
    "gridSearch.fit(X_nWCtrain,y_nWCtrain)\n",
    "clfAB2 = ensemble.AdaBoostClassifier(n_estimators =  gridSearch.best_params_['n_estimators'])\n",
    "clfAB3 = calibration.CalibratedClassifierCV(clfAB2, method = 'isotonic', cv = 5)\n",
    "clfAB3.fit(X_nWCtrain,y_nWCtrain)\n",
    "clfAB3.predict_proba(X_nWCtest)"
   ]
  },
  {
   "cell_type": "code",
   "execution_count": 218,
   "metadata": {},
   "outputs": [
    {
     "data": {
      "text/html": [
       "<div>\n",
       "<style>\n",
       "    .dataframe thead tr:only-child th {\n",
       "        text-align: right;\n",
       "    }\n",
       "\n",
       "    .dataframe thead th {\n",
       "        text-align: left;\n",
       "    }\n",
       "\n",
       "    .dataframe tbody tr th {\n",
       "        vertical-align: top;\n",
       "    }\n",
       "</style>\n",
       "<table border=\"1\" class=\"dataframe\">\n",
       "  <thead>\n",
       "    <tr style=\"text-align: right;\">\n",
       "      <th></th>\n",
       "      <th>logProbs</th>\n",
       "      <th>adaProbs</th>\n",
       "      <th>avgProbs</th>\n",
       "      <th>prediction</th>\n",
       "    </tr>\n",
       "  </thead>\n",
       "  <tbody>\n",
       "    <tr>\n",
       "      <th>0</th>\n",
       "      <td>0.966578</td>\n",
       "      <td>0.972082</td>\n",
       "      <td>0.969330</td>\n",
       "      <td>False</td>\n",
       "    </tr>\n",
       "    <tr>\n",
       "      <th>1</th>\n",
       "      <td>0.996983</td>\n",
       "      <td>0.997692</td>\n",
       "      <td>0.997338</td>\n",
       "      <td>False</td>\n",
       "    </tr>\n",
       "    <tr>\n",
       "      <th>2</th>\n",
       "      <td>0.537703</td>\n",
       "      <td>0.454511</td>\n",
       "      <td>0.496107</td>\n",
       "      <td>True</td>\n",
       "    </tr>\n",
       "    <tr>\n",
       "      <th>3</th>\n",
       "      <td>0.707859</td>\n",
       "      <td>0.618518</td>\n",
       "      <td>0.663189</td>\n",
       "      <td>False</td>\n",
       "    </tr>\n",
       "    <tr>\n",
       "      <th>4</th>\n",
       "      <td>0.974429</td>\n",
       "      <td>0.997625</td>\n",
       "      <td>0.986027</td>\n",
       "      <td>False</td>\n",
       "    </tr>\n",
       "  </tbody>\n",
       "</table>\n",
       "</div>"
      ],
      "text/plain": [
       "   logProbs  adaProbs  avgProbs  prediction\n",
       "0  0.966578  0.972082  0.969330       False\n",
       "1  0.996983  0.997692  0.997338       False\n",
       "2  0.537703  0.454511  0.496107        True\n",
       "3  0.707859  0.618518  0.663189       False\n",
       "4  0.974429  0.997625  0.986027       False"
      ]
     },
     "execution_count": 218,
     "metadata": {},
     "output_type": "execute_result"
    }
   ],
   "source": [
    "logProbs = clfncnr2.predict_proba(X_ncnrtest)[:,0]\n",
    "adaProbs = clfAB3.predict_proba(X_nWCtest)[:,0]\n",
    "probas = pd.DataFrame([logProbs,adaProbs]).transpose()\n",
    "probas.columns = ['logProbs', 'adaProbs']\n",
    "probas['avgProbs'] = (logProbs + adaProbs)/2\n",
    "probas['prediction'] =  np.logical_not(probas['avgProbs'] > .5)\n",
    "probas.head()"
   ]
  },
  {
   "cell_type": "code",
   "execution_count": 220,
   "metadata": {},
   "outputs": [
    {
     "data": {
      "text/plain": [
       "0.85943974805237855"
      ]
     },
     "execution_count": 220,
     "metadata": {},
     "output_type": "execute_result"
    }
   ],
   "source": [
    "accuracy_score(probas['prediction'],y_nWCtest)"
   ]
  },
  {
   "cell_type": "markdown",
   "metadata": {},
   "source": [
    "Conclusion: Worse performance than with AdaBoost alone "
   ]
  },
  {
   "cell_type": "markdown",
   "metadata": {},
   "source": [
    "#### Logistic Regression with AdaBoost (sigmoid regression)"
   ]
  },
  {
   "cell_type": "code",
   "execution_count": 221,
   "metadata": {},
   "outputs": [
    {
     "data": {
      "text/plain": [
       "array([[ 0.96573377,  0.03426623],\n",
       "       [ 0.99812939,  0.00187061],\n",
       "       [ 0.46272974,  0.53727026],\n",
       "       ..., \n",
       "       [ 0.59423566,  0.40576434],\n",
       "       [ 0.9917445 ,  0.0082555 ],\n",
       "       [ 0.99128693,  0.00871307]])"
      ]
     },
     "execution_count": 221,
     "metadata": {},
     "output_type": "execute_result"
    }
   ],
   "source": [
    "clfABs = ensemble.AdaBoostClassifier()\n",
    "grid = {\"n_estimators\":[250,260,270,280,290]}\n",
    "gridSearch = GridSearchCV(clfAB, param_grid=grid, cv=5, scoring=\"accuracy\")\n",
    "gridSearch.fit(X_nWCtrain,y_nWCtrain)\n",
    "clfABs2 = ensemble.AdaBoostClassifier(n_estimators =  gridSearch.best_params_['n_estimators'])\n",
    "clfABs3 = calibration.CalibratedClassifierCV(clfAB2, method = 'sigmoid', cv = 5)\n",
    "clfABs3.fit(X_nWCtrain,y_nWCtrain)\n",
    "clfABs3.predict_proba(X_nWCtest)"
   ]
  },
  {
   "cell_type": "code",
   "execution_count": 222,
   "metadata": {},
   "outputs": [
    {
     "data": {
      "text/plain": [
       "0.85877672799602189"
      ]
     },
     "execution_count": 222,
     "metadata": {},
     "output_type": "execute_result"
    }
   ],
   "source": [
    "logProbs = clfncnr2.predict_proba(X_ncnrtest)[:,0]\n",
    "adaProbs = clfABs3.predict_proba(X_nWCtest)[:,0]\n",
    "probas = pd.DataFrame([logProbs,adaProbs]).transpose()\n",
    "probas.columns = ['logProbs', 'adaProbs']\n",
    "probas['avgProbs'] = (logProbs + adaProbs)/2\n",
    "probas['prediction'] =  np.logical_not(probas['avgProbs'] > .5)\n",
    "accuracy_score(probas['prediction'],y_nWCtest)"
   ]
  },
  {
   "cell_type": "markdown",
   "metadata": {},
   "source": [
    "#### Gradient Boost with AdaBoost (isotonic regression)"
   ]
  },
  {
   "cell_type": "code",
   "execution_count": 223,
   "metadata": {},
   "outputs": [
    {
     "data": {
      "text/plain": [
       "CalibratedClassifierCV(base_estimator=GradientBoostingClassifier(criterion='friedman_mse', init=None,\n",
       "              learning_rate=0.1, loss='deviance', max_depth=3,\n",
       "              max_features=None, max_leaf_nodes=None,\n",
       "              min_impurity_split=0.0025, min_samples_leaf=1,\n",
       "              min_samples_split=2, min_weight_fraction_leaf=0.0,\n",
       "              n_estimators=100, presort='auto', random_state=None,\n",
       "              subsample=1.0, verbose=0, warm_start=False),\n",
       "            cv=5, method='isotonic')"
      ]
     },
     "execution_count": 223,
     "metadata": {},
     "output_type": "execute_result"
    }
   ],
   "source": [
    "clfGB = ensemble.GradientBoostingClassifier()\n",
    "grid = {\"min_impurity_split\":[.0001,.0025,.005]}\n",
    "gridSearch = GridSearchCV(clfGB, param_grid=grid, cv=5, scoring=\"accuracy\")\n",
    "gridSearch.fit(X_nWCtrain,y_nWCtrain)\n",
    "clfGB2 = ensemble.GradientBoostingClassifier(min_impurity_split =  gridSearch.best_params_['min_impurity_split'])\n",
    "clfGB3 = calibration.CalibratedClassifierCV(clfGB2, method = 'isotonic', cv = 5)\n",
    "clfGB3.fit(X_nWCtrain,y_nWCtrain)"
   ]
  },
  {
   "cell_type": "code",
   "execution_count": 224,
   "metadata": {},
   "outputs": [
    {
     "data": {
      "text/plain": [
       "CalibratedClassifierCV(base_estimator=AdaBoostClassifier(algorithm='SAMME.R', base_estimator=None,\n",
       "          learning_rate=1.0, n_estimators=270, random_state=None),\n",
       "            cv=5, method='isotonic')"
      ]
     },
     "execution_count": 224,
     "metadata": {},
     "output_type": "execute_result"
    }
   ],
   "source": [
    "clfAB = ensemble.AdaBoostClassifier()\n",
    "grid = {\"n_estimators\":[250,260,270,280,290]}\n",
    "gridSearch = GridSearchCV(clfAB, param_grid=grid, cv=5, scoring=\"accuracy\")\n",
    "gridSearch.fit(X_nWCtrain,y_nWCtrain)\n",
    "clfAB2 = ensemble.AdaBoostClassifier(n_estimators =  gridSearch.best_params_['n_estimators'])\n",
    "clfAB3 = calibration.CalibratedClassifierCV(clfAB2, method = 'isotonic', cv = 5)\n",
    "clfAB3.fit(X_nWCtrain,y_nWCtrain)"
   ]
  },
  {
   "cell_type": "code",
   "execution_count": 227,
   "metadata": {},
   "outputs": [
    {
     "data": {
      "text/plain": [
       "0.86441239847505391"
      ]
     },
     "execution_count": 227,
     "metadata": {},
     "output_type": "execute_result"
    }
   ],
   "source": [
    "gbProbs = clfGB3.predict_proba(X_nWCtest)[:,0]\n",
    "adaProbs = clfAB3.predict_proba(X_nWCtest)[:,0]\n",
    "probas = pd.DataFrame([gbProbs,adaProbs]).transpose()\n",
    "probas.columns = ['gbProbs', 'adaProbs']\n",
    "probas['avgProbs'] = (gbProbs + adaProbs)/2\n",
    "probas['prediction'] =  np.logical_not(probas['avgProbs'] > .5)\n",
    "accuracy_score(probas['prediction'],y_nWCtest)"
   ]
  },
  {
   "cell_type": "markdown",
   "metadata": {},
   "source": [
    "#### Gradient Boost with AdaBoost (sigmoid regression)"
   ]
  },
  {
   "cell_type": "code",
   "execution_count": 228,
   "metadata": {},
   "outputs": [
    {
     "data": {
      "text/plain": [
       "CalibratedClassifierCV(base_estimator=GradientBoostingClassifier(criterion='friedman_mse', init=None,\n",
       "              learning_rate=0.1, loss='deviance', max_depth=3,\n",
       "              max_features=None, max_leaf_nodes=None,\n",
       "              min_impurity_split=0.0025, min_samples_leaf=1,\n",
       "              min_samples_split=2, min_weight_fraction_leaf=0.0,\n",
       "              n_estimators=100, presort='auto', random_state=None,\n",
       "              subsample=1.0, verbose=0, warm_start=False),\n",
       "            cv=5, method='sigmoid')"
      ]
     },
     "execution_count": 228,
     "metadata": {},
     "output_type": "execute_result"
    }
   ],
   "source": [
    "clfGB = ensemble.GradientBoostingClassifier()\n",
    "grid = {\"min_impurity_split\":[.0001,.0025,.005]}\n",
    "gridSearch = GridSearchCV(clfGB, param_grid=grid, cv=5, scoring=\"accuracy\")\n",
    "gridSearch.fit(X_nWCtrain,y_nWCtrain)\n",
    "clfGB2 = ensemble.GradientBoostingClassifier(min_impurity_split =  gridSearch.best_params_['min_impurity_split'])\n",
    "clfGB3 = calibration.CalibratedClassifierCV(clfGB2, method = 'sigmoid', cv = 5)\n",
    "clfGB3.fit(X_nWCtrain,y_nWCtrain)"
   ]
  },
  {
   "cell_type": "code",
   "execution_count": 229,
   "metadata": {},
   "outputs": [
    {
     "data": {
      "text/plain": [
       "CalibratedClassifierCV(base_estimator=AdaBoostClassifier(algorithm='SAMME.R', base_estimator=None,\n",
       "          learning_rate=1.0, n_estimators=270, random_state=None),\n",
       "            cv=5, method='sigmoid')"
      ]
     },
     "execution_count": 229,
     "metadata": {},
     "output_type": "execute_result"
    }
   ],
   "source": [
    "clfAB = ensemble.AdaBoostClassifier()\n",
    "grid = {\"n_estimators\":[250,260,270,280,290]}\n",
    "gridSearch = GridSearchCV(clfAB, param_grid=grid, cv=5, scoring=\"accuracy\")\n",
    "gridSearch.fit(X_nWCtrain,y_nWCtrain)\n",
    "clfAB2 = ensemble.AdaBoostClassifier(n_estimators =  gridSearch.best_params_['n_estimators'])\n",
    "clfAB3 = calibration.CalibratedClassifierCV(clfAB2, method = 'sigmoid', cv = 5)\n",
    "clfAB3.fit(X_nWCtrain,y_nWCtrain)"
   ]
  },
  {
   "cell_type": "code",
   "execution_count": 230,
   "metadata": {},
   "outputs": [
    {
     "data": {
      "text/plain": [
       "0.86292060334825127"
      ]
     },
     "execution_count": 230,
     "metadata": {},
     "output_type": "execute_result"
    }
   ],
   "source": [
    "gbProbs = clfGB3.predict_proba(X_nWCtest)[:,0]\n",
    "adaProbs = clfAB3.predict_proba(X_nWCtest)[:,0]\n",
    "probas = pd.DataFrame([gbProbs,adaProbs]).transpose()\n",
    "probas.columns = ['gbProbs', 'adaProbs']\n",
    "probas['avgProbs'] = (gbProbs + adaProbs)/2\n",
    "probas['prediction'] =  np.logical_not(probas['avgProbs'] > .5)\n",
    "accuracy_score(probas['prediction'],y_nWCtest)"
   ]
  },
  {
   "cell_type": "markdown",
   "metadata": {},
   "source": [
    "#### Logistic Regression with k-NN"
   ]
  },
  {
   "cell_type": "code",
   "execution_count": 233,
   "metadata": {},
   "outputs": [
    {
     "name": "stdout",
     "output_type": "stream",
     "text": [
      "(10, 0.8413724515166584)\n"
     ]
    }
   ],
   "source": [
    "clfN = neighbors.KNeighborsClassifier()\n",
    "grid = {\"n_neighbors\": [8,9,10,11]}\n",
    "gridSearch = GridSearchCV(clfN, param_grid=grid, cv=5, scoring=\"accuracy\")\n",
    "gridSearch.fit(X_ncnrtrain,y_ncnrtrain)\n",
    "clfN2 = neighbors.KNeighborsClassifier(n_neighbors = gridSearch.best_params_['n_neighbors'])\n",
    "clfN2.fit(X_ncnrtrain,y_ncnrtrain)\n",
    "print((gridSearch.best_params_['n_neighbors'],accuracy_score(clfN2.predict(X_ncnrtest),y_ncnrtest)))"
   ]
  },
  {
   "cell_type": "code",
   "execution_count": 234,
   "metadata": {},
   "outputs": [
    {
     "data": {
      "text/plain": [
       "0.86010276810873532"
      ]
     },
     "execution_count": 234,
     "metadata": {},
     "output_type": "execute_result"
    }
   ],
   "source": [
    "logProbs = clfncnr2.predict_proba(X_ncnrtest)[:,0]\n",
    "kNNProbs = clfN2.predict_proba(X_ncnrtest)[:,0]\n",
    "probas = pd.DataFrame([logProbs,kNNProbs]).transpose()\n",
    "probas.columns = ['logProbs', 'kNNProbs']\n",
    "probas['avgProbs'] = (logProbs + kNNProbs)/2\n",
    "probas['prediction'] =  np.logical_not(probas['avgProbs'] > .5)\n",
    "accuracy_score(probas['prediction'],y_ncnrtest)"
   ]
  },
  {
   "cell_type": "markdown",
   "metadata": {},
   "source": [
    "#### Logistic Regression with Random Forest"
   ]
  },
  {
   "cell_type": "code",
   "execution_count": 238,
   "metadata": {},
   "outputs": [
    {
     "name": "stdout",
     "output_type": "stream",
     "text": [
      "(80, 0.84319575667163926)\n"
     ]
    }
   ],
   "source": [
    "clfRF = ensemble.RandomForestClassifier()\n",
    "grid = {\"n_estimators\": [50,60,70,80,90,100]}\n",
    "gridSearch = GridSearchCV(clfRF, param_grid=grid, cv=5, scoring=\"accuracy\")\n",
    "gridSearch.fit(X_train,y_train)\n",
    "clfRF2 = ensemble.RandomForestClassifier(n_estimators = gridSearch.best_params_['n_estimators'])\n",
    "clfRF2.fit(X_train,y_train)\n",
    "print((gridSearch.best_params_['n_estimators'],accuracy_score(clfRF2.predict(X_test),y_test)))"
   ]
  },
  {
   "cell_type": "code",
   "execution_count": 240,
   "metadata": {},
   "outputs": [
    {
     "data": {
      "text/plain": [
       "0.8489971821647605"
      ]
     },
     "execution_count": 240,
     "metadata": {},
     "output_type": "execute_result"
    }
   ],
   "source": [
    "logProbs = clfncnr2.predict_proba(X_ncnrtest)[:,0]\n",
    "RFProbs = clfRF2.predict_proba(X_test)[:,0]\n",
    "probas = pd.DataFrame([logProbs,RFProbs]).transpose()\n",
    "probas.columns = ['logProbs', 'RFProbs']\n",
    "probas['avgProbs'] = (logProbs + RFProbs)/2\n",
    "probas['prediction'] =  np.logical_not(probas['avgProbs'] > .5)\n",
    "accuracy_score(probas['prediction'],y_ncnrtest)"
   ]
  },
  {
   "cell_type": "markdown",
   "metadata": {},
   "source": [
    "#### k-NN with Random Forest"
   ]
  },
  {
   "cell_type": "code",
   "execution_count": 243,
   "metadata": {},
   "outputs": [
    {
     "data": {
      "text/plain": [
       "0.85413558760152497"
      ]
     },
     "execution_count": 243,
     "metadata": {},
     "output_type": "execute_result"
    }
   ],
   "source": [
    "kNNProbs = clfN2.predict_proba(X_ncnrtest)[:,0]\n",
    "RFProbs = clfRF2.predict_proba(X_test)[:,0]\n",
    "probas = pd.DataFrame([kNNProbs,RFProbs]).transpose()\n",
    "probas.columns = ['kNNProbs', 'RFProbs']\n",
    "probas['avgProbs'] = (kNNProbs + RFProbs)/2\n",
    "probas['prediction'] =  np.logical_not(probas['avgProbs'] > .5)\n",
    "accuracy_score(probas['prediction'],y_ncnrtest)"
   ]
  },
  {
   "cell_type": "markdown",
   "metadata": {},
   "source": [
    "#### Logisitic, k-NN, Random Forest, Gradient Boosting, AdaBoost "
   ]
  },
  {
   "cell_type": "code",
   "execution_count": 260,
   "metadata": {},
   "outputs": [
    {
     "data": {
      "text/plain": [
       "CalibratedClassifierCV(base_estimator=GradientBoostingClassifier(criterion='friedman_mse', init=None,\n",
       "              learning_rate=0.1, loss='deviance', max_depth=3,\n",
       "              max_features=None, max_leaf_nodes=None,\n",
       "              min_impurity_split=0.0001, min_samples_leaf=1,\n",
       "              min_samples_split=2, min_weight_fraction_leaf=0.0,\n",
       "              n_estimators=100, presort='auto', random_state=None,\n",
       "              subsample=1.0, verbose=0, warm_start=False),\n",
       "            cv=5, method='isotonic')"
      ]
     },
     "execution_count": 260,
     "metadata": {},
     "output_type": "execute_result"
    }
   ],
   "source": [
    "clfGB = ensemble.GradientBoostingClassifier()\n",
    "grid = {\"min_impurity_split\":[.0001,.0025,.005]}\n",
    "gridSearch = GridSearchCV(clfGB, param_grid=grid, cv=5, scoring=\"accuracy\")\n",
    "gridSearch.fit(X_nWCtrain,y_nWCtrain)\n",
    "clfGB2 = ensemble.GradientBoostingClassifier(min_impurity_split =  gridSearch.best_params_['min_impurity_split'])\n",
    "clfGB3 = calibration.CalibratedClassifierCV(clfGB2, method = 'isotonic', cv = 5)\n",
    "clfGB3.fit(X_nWCtrain,y_nWCtrain)"
   ]
  },
  {
   "cell_type": "code",
   "execution_count": 261,
   "metadata": {},
   "outputs": [
    {
     "data": {
      "text/plain": [
       "CalibratedClassifierCV(base_estimator=AdaBoostClassifier(algorithm='SAMME.R', base_estimator=None,\n",
       "          learning_rate=1.0, n_estimators=270, random_state=None),\n",
       "            cv=5, method='isotonic')"
      ]
     },
     "execution_count": 261,
     "metadata": {},
     "output_type": "execute_result"
    }
   ],
   "source": [
    "clfAB = ensemble.AdaBoostClassifier()\n",
    "grid = {\"n_estimators\":[250,260,270,280,290]}\n",
    "gridSearch = GridSearchCV(clfAB, param_grid=grid, cv=5, scoring=\"accuracy\")\n",
    "gridSearch.fit(X_nWCtrain,y_nWCtrain)\n",
    "clfAB2 = ensemble.AdaBoostClassifier(n_estimators =  gridSearch.best_params_['n_estimators'])\n",
    "clfAB3 = calibration.CalibratedClassifierCV(clfAB2, method = 'isotonic', cv = 5)\n",
    "clfAB3.fit(X_nWCtrain,y_nWCtrain)"
   ]
  },
  {
   "cell_type": "code",
   "execution_count": 264,
   "metadata": {},
   "outputs": [
    {
     "data": {
      "text/plain": [
       "0.86242333830598372"
      ]
     },
     "execution_count": 264,
     "metadata": {},
     "output_type": "execute_result"
    }
   ],
   "source": [
    "gbProbs = clfGB3.predict_proba(X_nWCtest)[:,0]\n",
    "adaProbs = clfAB3.predict_proba(X_nWCtest)[:,0]\n",
    "logProbs = clfncnr2.predict_proba(X_ncnrtest)[:,0]\n",
    "kNNProbs = clfN2.predict_proba(X_ncnrtest)[:,0]\n",
    "RFProbs = clfRF2.predict_proba(X_test)[:,0]\n",
    "probas = pd.DataFrame([gbProbs,adaProbs, logProbs, kNNProbs, RFProbs]).transpose()\n",
    "probas.columns = ['gbProbs', 'adaProbs','logProbs','kNNProbs', 'RFProbs']\n",
    "probas['avgProbs'] = probas.iloc[:,:].mean(axis = 1)\n",
    "probas['prediction'] =  np.logical_not(probas['avgProbs'] > .5)\n",
    "accuracy_score(probas['prediction'],y_nWCtest)"
   ]
  },
  {
   "cell_type": "code",
   "execution_count": 285,
   "metadata": {},
   "outputs": [
    {
     "data": {
      "text/html": [
       "<div>\n",
       "<style>\n",
       "    .dataframe thead tr:only-child th {\n",
       "        text-align: right;\n",
       "    }\n",
       "\n",
       "    .dataframe thead th {\n",
       "        text-align: left;\n",
       "    }\n",
       "\n",
       "    .dataframe tbody tr th {\n",
       "        vertical-align: top;\n",
       "    }\n",
       "</style>\n",
       "<table border=\"1\" class=\"dataframe\">\n",
       "  <thead>\n",
       "    <tr style=\"text-align: right;\">\n",
       "      <th></th>\n",
       "      <th>gbProbs</th>\n",
       "      <th>adaProbs</th>\n",
       "      <th>logProbs</th>\n",
       "      <th>kNNProbs</th>\n",
       "      <th>RFProbs</th>\n",
       "      <th>avgProbs</th>\n",
       "      <th>prediction</th>\n",
       "      <th>actual</th>\n",
       "    </tr>\n",
       "  </thead>\n",
       "  <tbody>\n",
       "    <tr>\n",
       "      <th>11</th>\n",
       "      <td>0.522653</td>\n",
       "      <td>0.565140</td>\n",
       "      <td>0.411821</td>\n",
       "      <td>1.0</td>\n",
       "      <td>0.702143</td>\n",
       "      <td>0.640351</td>\n",
       "      <td>False</td>\n",
       "      <td>True</td>\n",
       "    </tr>\n",
       "    <tr>\n",
       "      <th>26</th>\n",
       "      <td>0.100343</td>\n",
       "      <td>0.153939</td>\n",
       "      <td>0.233400</td>\n",
       "      <td>0.1</td>\n",
       "      <td>0.000000</td>\n",
       "      <td>0.117536</td>\n",
       "      <td>True</td>\n",
       "      <td>False</td>\n",
       "    </tr>\n",
       "    <tr>\n",
       "      <th>55</th>\n",
       "      <td>0.000000</td>\n",
       "      <td>0.002953</td>\n",
       "      <td>0.035336</td>\n",
       "      <td>0.0</td>\n",
       "      <td>0.015625</td>\n",
       "      <td>0.010783</td>\n",
       "      <td>True</td>\n",
       "      <td>False</td>\n",
       "    </tr>\n",
       "    <tr>\n",
       "      <th>99</th>\n",
       "      <td>0.311834</td>\n",
       "      <td>0.328312</td>\n",
       "      <td>0.381655</td>\n",
       "      <td>0.3</td>\n",
       "      <td>0.627917</td>\n",
       "      <td>0.389943</td>\n",
       "      <td>True</td>\n",
       "      <td>False</td>\n",
       "    </tr>\n",
       "    <tr>\n",
       "      <th>127</th>\n",
       "      <td>0.471937</td>\n",
       "      <td>0.411748</td>\n",
       "      <td>0.377536</td>\n",
       "      <td>0.4</td>\n",
       "      <td>0.375000</td>\n",
       "      <td>0.407244</td>\n",
       "      <td>True</td>\n",
       "      <td>False</td>\n",
       "    </tr>\n",
       "  </tbody>\n",
       "</table>\n",
       "</div>"
      ],
      "text/plain": [
       "      gbProbs  adaProbs  logProbs  kNNProbs   RFProbs  avgProbs  prediction  \\\n",
       "11   0.522653  0.565140  0.411821       1.0  0.702143  0.640351       False   \n",
       "26   0.100343  0.153939  0.233400       0.1  0.000000  0.117536        True   \n",
       "55   0.000000  0.002953  0.035336       0.0  0.015625  0.010783        True   \n",
       "99   0.311834  0.328312  0.381655       0.3  0.627917  0.389943        True   \n",
       "127  0.471937  0.411748  0.377536       0.4  0.375000  0.407244        True   \n",
       "\n",
       "    actual  \n",
       "11    True  \n",
       "26   False  \n",
       "55   False  \n",
       "99   False  \n",
       "127  False  "
      ]
     },
     "execution_count": 285,
     "metadata": {},
     "output_type": "execute_result"
    }
   ],
   "source": [
    "total_results = probas\n",
    "total_results['actual'] = y_nWCtest\n",
    "total_results = total_results.dropna(axis = 0, how = 'any')\n",
    "total_results[total_results['prediction'] != total_results['actual']].head()"
   ]
  },
  {
   "cell_type": "code",
   "execution_count": null,
   "metadata": {
    "collapsed": true
   },
   "outputs": [],
   "source": []
  }
 ],
 "metadata": {
  "kernelspec": {
   "display_name": "Python 3",
   "language": "python",
   "name": "python3"
  },
  "language_info": {
   "codemirror_mode": {
    "name": "ipython",
    "version": 3
   },
   "file_extension": ".py",
   "mimetype": "text/x-python",
   "name": "python",
   "nbconvert_exporter": "python",
   "pygments_lexer": "ipython3",
   "version": "3.6.1"
  }
 },
 "nbformat": 4,
 "nbformat_minor": 2
}
