{
 "cells": [
  {
   "cell_type": "markdown",
   "metadata": {},
   "source": [
    "## Capstone Project 1 Statistical Inference Write-up"
   ]
  },
  {
   "cell_type": "markdown",
   "metadata": {},
   "source": [
    "For this project, I aim to classify individuals based on census attributes to predict whether or not a person earns above or below $50,000 a year. Since a dependent variable is categorical along with most of the independent variables, it is difficult to find a meaningful correlation to explore. Instead, I will seek to quantify the significance of the most important categorical variables through chi-squared tests.  "
   ]
  },
  {
   "cell_type": "markdown",
   "metadata": {},
   "source": [
    "### Is the distribution in education level a significant factor in yearly income?"
   ]
  },
  {
   "cell_type": "markdown",
   "metadata": {},
   "source": [
    "In other words, if education level was not significant, we would expect an even breakdown between all education levels. First, we will explore the education levels of adults making over $50,000 a year."
   ]
  },
  {
   "cell_type": "code",
   "execution_count": 1,
   "metadata": {},
   "outputs": [
    {
     "data": {
      "text/html": [
       "<div>\n",
       "<style>\n",
       "    .dataframe thead tr:only-child th {\n",
       "        text-align: right;\n",
       "    }\n",
       "\n",
       "    .dataframe thead th {\n",
       "        text-align: left;\n",
       "    }\n",
       "\n",
       "    .dataframe tbody tr th {\n",
       "        vertical-align: top;\n",
       "    }\n",
       "</style>\n",
       "<table border=\"1\" class=\"dataframe\">\n",
       "  <thead>\n",
       "    <tr style=\"text-align: right;\">\n",
       "      <th></th>\n",
       "      <th>age</th>\n",
       "      <th>workclass</th>\n",
       "      <th>education</th>\n",
       "      <th>marital_status</th>\n",
       "      <th>occupation</th>\n",
       "      <th>relationship</th>\n",
       "      <th>race</th>\n",
       "      <th>sex</th>\n",
       "      <th>capital_gain</th>\n",
       "      <th>capital_loss</th>\n",
       "      <th>hours_per_week</th>\n",
       "      <th>native_country</th>\n",
       "      <th>over_50k</th>\n",
       "    </tr>\n",
       "  </thead>\n",
       "  <tbody>\n",
       "    <tr>\n",
       "      <th>0</th>\n",
       "      <td>39</td>\n",
       "      <td>State-gov</td>\n",
       "      <td>Bachelors</td>\n",
       "      <td>Never-married</td>\n",
       "      <td>Adm-clerical</td>\n",
       "      <td>Not-in-family</td>\n",
       "      <td>White</td>\n",
       "      <td>Male</td>\n",
       "      <td>2174</td>\n",
       "      <td>0</td>\n",
       "      <td>40</td>\n",
       "      <td>United-States</td>\n",
       "      <td>&lt;=50K</td>\n",
       "    </tr>\n",
       "    <tr>\n",
       "      <th>1</th>\n",
       "      <td>50</td>\n",
       "      <td>Self-Employed</td>\n",
       "      <td>Bachelors</td>\n",
       "      <td>Married</td>\n",
       "      <td>Exec-managerial</td>\n",
       "      <td>Husband</td>\n",
       "      <td>White</td>\n",
       "      <td>Male</td>\n",
       "      <td>0</td>\n",
       "      <td>0</td>\n",
       "      <td>13</td>\n",
       "      <td>United-States</td>\n",
       "      <td>&lt;=50K</td>\n",
       "    </tr>\n",
       "    <tr>\n",
       "      <th>2</th>\n",
       "      <td>38</td>\n",
       "      <td>Private</td>\n",
       "      <td>HS-grad</td>\n",
       "      <td>Not-married</td>\n",
       "      <td>Handlers-cleaners</td>\n",
       "      <td>Not-in-family</td>\n",
       "      <td>White</td>\n",
       "      <td>Male</td>\n",
       "      <td>0</td>\n",
       "      <td>0</td>\n",
       "      <td>40</td>\n",
       "      <td>United-States</td>\n",
       "      <td>&lt;=50K</td>\n",
       "    </tr>\n",
       "    <tr>\n",
       "      <th>3</th>\n",
       "      <td>53</td>\n",
       "      <td>Private</td>\n",
       "      <td>Below-HS</td>\n",
       "      <td>Married</td>\n",
       "      <td>Handlers-cleaners</td>\n",
       "      <td>Husband</td>\n",
       "      <td>Black</td>\n",
       "      <td>Male</td>\n",
       "      <td>0</td>\n",
       "      <td>0</td>\n",
       "      <td>40</td>\n",
       "      <td>United-States</td>\n",
       "      <td>&lt;=50K</td>\n",
       "    </tr>\n",
       "    <tr>\n",
       "      <th>4</th>\n",
       "      <td>28</td>\n",
       "      <td>Private</td>\n",
       "      <td>Bachelors</td>\n",
       "      <td>Married</td>\n",
       "      <td>Prof-specialty</td>\n",
       "      <td>Wife</td>\n",
       "      <td>Black</td>\n",
       "      <td>Female</td>\n",
       "      <td>0</td>\n",
       "      <td>0</td>\n",
       "      <td>40</td>\n",
       "      <td>Cuba</td>\n",
       "      <td>&lt;=50K</td>\n",
       "    </tr>\n",
       "    <tr>\n",
       "      <th>5</th>\n",
       "      <td>37</td>\n",
       "      <td>Private</td>\n",
       "      <td>Masters</td>\n",
       "      <td>Married</td>\n",
       "      <td>Exec-managerial</td>\n",
       "      <td>Wife</td>\n",
       "      <td>White</td>\n",
       "      <td>Female</td>\n",
       "      <td>0</td>\n",
       "      <td>0</td>\n",
       "      <td>40</td>\n",
       "      <td>United-States</td>\n",
       "      <td>&lt;=50K</td>\n",
       "    </tr>\n",
       "    <tr>\n",
       "      <th>6</th>\n",
       "      <td>49</td>\n",
       "      <td>Private</td>\n",
       "      <td>Below-HS</td>\n",
       "      <td>Not-married</td>\n",
       "      <td>Other-service</td>\n",
       "      <td>Not-in-family</td>\n",
       "      <td>Black</td>\n",
       "      <td>Female</td>\n",
       "      <td>0</td>\n",
       "      <td>0</td>\n",
       "      <td>16</td>\n",
       "      <td>Jamaica</td>\n",
       "      <td>&lt;=50K</td>\n",
       "    </tr>\n",
       "    <tr>\n",
       "      <th>7</th>\n",
       "      <td>52</td>\n",
       "      <td>Self-Employed</td>\n",
       "      <td>HS-grad</td>\n",
       "      <td>Married</td>\n",
       "      <td>Exec-managerial</td>\n",
       "      <td>Husband</td>\n",
       "      <td>White</td>\n",
       "      <td>Male</td>\n",
       "      <td>0</td>\n",
       "      <td>0</td>\n",
       "      <td>45</td>\n",
       "      <td>United-States</td>\n",
       "      <td>&gt;50K</td>\n",
       "    </tr>\n",
       "    <tr>\n",
       "      <th>8</th>\n",
       "      <td>31</td>\n",
       "      <td>Private</td>\n",
       "      <td>Masters</td>\n",
       "      <td>Never-married</td>\n",
       "      <td>Prof-specialty</td>\n",
       "      <td>Not-in-family</td>\n",
       "      <td>White</td>\n",
       "      <td>Female</td>\n",
       "      <td>14084</td>\n",
       "      <td>0</td>\n",
       "      <td>50</td>\n",
       "      <td>United-States</td>\n",
       "      <td>&gt;50K</td>\n",
       "    </tr>\n",
       "    <tr>\n",
       "      <th>9</th>\n",
       "      <td>42</td>\n",
       "      <td>Private</td>\n",
       "      <td>Bachelors</td>\n",
       "      <td>Married</td>\n",
       "      <td>Exec-managerial</td>\n",
       "      <td>Husband</td>\n",
       "      <td>White</td>\n",
       "      <td>Male</td>\n",
       "      <td>5178</td>\n",
       "      <td>0</td>\n",
       "      <td>40</td>\n",
       "      <td>United-States</td>\n",
       "      <td>&gt;50K</td>\n",
       "    </tr>\n",
       "  </tbody>\n",
       "</table>\n",
       "</div>"
      ],
      "text/plain": [
       "   age      workclass  education marital_status         occupation  \\\n",
       "0   39      State-gov  Bachelors  Never-married       Adm-clerical   \n",
       "1   50  Self-Employed  Bachelors        Married    Exec-managerial   \n",
       "2   38        Private    HS-grad    Not-married  Handlers-cleaners   \n",
       "3   53        Private   Below-HS        Married  Handlers-cleaners   \n",
       "4   28        Private  Bachelors        Married     Prof-specialty   \n",
       "5   37        Private    Masters        Married    Exec-managerial   \n",
       "6   49        Private   Below-HS    Not-married      Other-service   \n",
       "7   52  Self-Employed    HS-grad        Married    Exec-managerial   \n",
       "8   31        Private    Masters  Never-married     Prof-specialty   \n",
       "9   42        Private  Bachelors        Married    Exec-managerial   \n",
       "\n",
       "    relationship   race     sex  capital_gain  capital_loss  hours_per_week  \\\n",
       "0  Not-in-family  White    Male          2174             0              40   \n",
       "1        Husband  White    Male             0             0              13   \n",
       "2  Not-in-family  White    Male             0             0              40   \n",
       "3        Husband  Black    Male             0             0              40   \n",
       "4           Wife  Black  Female             0             0              40   \n",
       "5           Wife  White  Female             0             0              40   \n",
       "6  Not-in-family  Black  Female             0             0              16   \n",
       "7        Husband  White    Male             0             0              45   \n",
       "8  Not-in-family  White  Female         14084             0              50   \n",
       "9        Husband  White    Male          5178             0              40   \n",
       "\n",
       "  native_country over_50k  \n",
       "0  United-States    <=50K  \n",
       "1  United-States    <=50K  \n",
       "2  United-States    <=50K  \n",
       "3  United-States    <=50K  \n",
       "4           Cuba    <=50K  \n",
       "5  United-States    <=50K  \n",
       "6        Jamaica    <=50K  \n",
       "7  United-States     >50K  \n",
       "8  United-States     >50K  \n",
       "9  United-States     >50K  "
      ]
     },
     "execution_count": 1,
     "metadata": {},
     "output_type": "execute_result"
    }
   ],
   "source": [
    "from scipy import stats\n",
    "import numpy as np\n",
    "import pandas as pd\n",
    "\n",
    "import pandas as pd\n",
    "import numpy as np\n",
    "import seaborn as sns\n",
    "import matplotlib.pyplot as plt\n",
    "\n",
    "#reading in csv with column names\n",
    "colnames = ['age', 'workclass','fnlwgt','education','education-num','marital_status','occupation', 'relationship', 'race', 'sex', 'capital_gain', 'capital_loss','hours_per_week','native_country','over_50k']\n",
    "adult = pd.read_csv('adult.csv', header = None, index_col = None, names = colnames)\n",
    "\n",
    "#dropping blank values and two columns\n",
    "adult.replace(' ?',np.nan,inplace=True)\n",
    "adult = adult.dropna(axis = 0, how = 'any')\n",
    "adult = adult.drop(['fnlwgt','education-num'],axis = 1)\n",
    "adult = adult.reset_index(drop = True)\n",
    "for col in ['workclass', 'education', 'marital_status','occupation','relationship','race','sex', 'native_country', 'over_50k']:\n",
    "    adult[col] = adult[col].str.strip()\n",
    "\n",
    "\n",
    "# replacing workclass groups\n",
    "adult.loc[np.logical_or(adult.loc[:,'workclass'] == 'Self-emp-not-inc', adult.loc[:,'workclass'] == 'Self-emp-inc'),'workclass'] = 'Self-Employed'\n",
    "\n",
    "#replacing education groups\n",
    "adult.loc[np.logical_or(adult.loc[:,'education'] == 'Assoc-acdm', adult.loc[:,'education'] == 'Assoc-voc'),'education'] = 'Associates'\n",
    "adult.loc[np.logical_or.reduce((adult.loc[:,'education'] == '11th', adult.loc[:,'education'] == '9th',\\\n",
    "                               adult.loc[:,'education'] == '7th-8th',adult.loc[:,'education'] == '5th-6th',\n",
    "                               adult.loc[:,'education'] == '10th', adult.loc[:,'education'] == '12th',\\\n",
    "                               adult.loc[:,'education'] == '1st-4th', adult.loc[:,'education'] == 'Preschool')),'education'] = 'Below-HS'\n",
    "adult.loc[adult.loc[:,'education'] == 'Some-college','education'] = 'HS-grad'\n",
    "\n",
    "#replacing marital status groups\n",
    "adult.loc[np.logical_or.reduce((adult.loc[:,'marital_status']== \"Divorced\",adult.loc[:,'marital_status']== 'Separated', \\\n",
    "                                adult.loc[:,'marital_status']== \"Married-spouse-absent\")),'marital_status'] = 'Not-married'\n",
    "adult.loc[np.logical_or.reduce((adult.loc[:,'marital_status']== \"Married-civ-spouse\",adult.loc[:,'marital_status']== 'Married-AF-spouse'\\\n",
    "                                )),'marital_status'] = 'Married'\n",
    "adult.head(10)"
   ]
  },
  {
   "cell_type": "code",
   "execution_count": 15,
   "metadata": {},
   "outputs": [],
   "source": [
    "totalCount = len(adult)\n",
    "under50 = len(adult.loc[adult['over_50k'] == '<=50K'])\n",
    "over50 = totalCount - under50\n",
    "fracsUnderEdu = list(adult[adult['over_50k'] == '<=50K']['education'].value_counts())\n",
    "fracsOverEdu = list(adult[adult['over_50k'] == '>50K']['education'].value_counts())\n",
    "over50prop = [x / over50 for x in fracsOverEdu]"
   ]
  },
  {
   "cell_type": "code",
   "execution_count": 16,
   "metadata": {},
   "outputs": [
    {
     "data": {
      "text/plain": [
       "Power_divergenceResult(statistic=6231.5697922216295, pvalue=0.0)"
      ]
     },
     "execution_count": 16,
     "metadata": {},
     "output_type": "execute_result"
    }
   ],
   "source": [
    "stats.chisquare(fracsOverEdu)"
   ]
  },
  {
   "cell_type": "markdown",
   "metadata": {},
   "source": [
    "As shown by the results of the chi square test, the p-value for the null hypothesis (education being evenly distributed) is extremely low (<1e-40). Therefore, we reject the null hypothesis. The under $50,000 group is even more extreme so we can also reject the null hypothesis for that group as well.\n"
   ]
  },
  {
   "cell_type": "markdown",
   "metadata": {},
   "source": [
    "### Marital Status, Relationship, Race, and Sex"
   ]
  },
  {
   "cell_type": "code",
   "execution_count": 27,
   "metadata": {},
   "outputs": [
    {
     "data": {
      "text/plain": [
       "(Power_divergenceResult(statistic=14657.147575919018, pvalue=0.0),\n",
       " Power_divergenceResult(statistic=7346.6268208704869, pvalue=0.0))"
      ]
     },
     "execution_count": 27,
     "metadata": {},
     "output_type": "execute_result"
    }
   ],
   "source": [
    "fracsUnderM = list(adult[adult['over_50k'] == '<=50K']['marital_status'].value_counts())\n",
    "fracsOverM = list(adult[adult['over_50k'] == '>50K']['marital_status'].value_counts())\n",
    "stats.chisquare(fracsOverM), stats.chisquare(fracsUnderM)"
   ]
  },
  {
   "cell_type": "code",
   "execution_count": 23,
   "metadata": {},
   "outputs": [
    {
     "data": {
      "text/plain": [
       "(Power_divergenceResult(statistic=9997.6985962743893, pvalue=0.0),\n",
       " Power_divergenceResult(statistic=19232.034096963238, pvalue=0.0))"
      ]
     },
     "execution_count": 23,
     "metadata": {},
     "output_type": "execute_result"
    }
   ],
   "source": [
    "fracsUnderRe = list(adult[adult['over_50k'] == '<=50K']['relationship'].value_counts())\n",
    "fracsOverRe = list(adult[adult['over_50k'] == '>50K']['relationship'].value_counts())\n",
    "stats.chisquare(fracsUnderRe), stats.chisquare(fracsOverRe)"
   ]
  },
  {
   "cell_type": "code",
   "execution_count": 25,
   "metadata": {},
   "outputs": [
    {
     "data": {
      "text/plain": [
       "(Power_divergenceResult(statistic=59255.254436302639, pvalue=0.0),\n",
       " Power_divergenceResult(statistic=23771.287426744802, pvalue=0.0))"
      ]
     },
     "execution_count": 25,
     "metadata": {},
     "output_type": "execute_result"
    }
   ],
   "source": [
    "fracsUnderRa = list(adult[adult['over_50k'] == '<=50K']['race'].value_counts())\n",
    "fracsOverRa = list(adult[adult['over_50k'] == '>50K']['race'].value_counts())\n",
    "stats.chisquare(fracsUnderRa), stats.chisquare(fracsOverRa)"
   ]
  },
  {
   "cell_type": "code",
   "execution_count": 26,
   "metadata": {},
   "outputs": [
    {
     "data": {
      "text/plain": [
       "(Power_divergenceResult(statistic=1246.5169947912068, pvalue=4.7426058306866789e-273),\n",
       " Power_divergenceResult(statistic=3718.7874267448055, pvalue=0.0))"
      ]
     },
     "execution_count": 26,
     "metadata": {},
     "output_type": "execute_result"
    }
   ],
   "source": [
    "fracsUnderS = list(adult[adult['over_50k'] == '<=50K']['sex'].value_counts())\n",
    "fracsOverS = list(adult[adult['over_50k'] == '>50K']['sex'].value_counts())\n",
    "stats.chisquare(fracsUnderS), stats.chisquare(fracsOverS)"
   ]
  },
  {
   "cell_type": "markdown",
   "metadata": {},
   "source": [
    "Once again, we reject the null hypothesis that marital status, relationship, race, and sex are evenly distributed."
   ]
  },
  {
   "cell_type": "markdown",
   "metadata": {},
   "source": [
    "### Mean Age and Hours Worked"
   ]
  },
  {
   "cell_type": "markdown",
   "metadata": {},
   "source": [
    "In our initial exploration, I found that the over $50,000 group was generally older while hours worked remained equal for both groups. I will not perform a statistical test to see if there is a significant difference in mean age and hours worked per week between the two groups."
   ]
  },
  {
   "cell_type": "code",
   "execution_count": 35,
   "metadata": {},
   "outputs": [
    {
     "data": {
      "text/plain": [
       "(43.95911028236548,\n",
       " 36.60806038668668,\n",
       " 10.269632835673848,\n",
       " 13.464631257161859,\n",
       " 13.134664776856338)"
      ]
     },
     "execution_count": 35,
     "metadata": {},
     "output_type": "execute_result"
    }
   ],
   "source": [
    "avgAgeOver = adult[adult['over_50k'] == '>50K'].age.mean()\n",
    "avgAgeSDOver =adult[adult['over_50k'] == '>50K'].age.std()\n",
    "avgAgeUnder = adult[adult['over_50k'] == '<=50K'].age.mean()\n",
    "avgAgeSDUnder = adult[adult['over_50k'] == '<=50K'].age.std()\n",
    "populationAgeSD = adult.age.std()\n",
    "avgAgeOver, avgAgeUnder, avgAgeSDOver, avgAgeSDUnder, populationAgeSD"
   ]
  },
  {
   "cell_type": "code",
   "execution_count": 37,
   "metadata": {},
   "outputs": [
    {
     "data": {
      "text/plain": [
       "0.14849209541492336"
      ]
     },
     "execution_count": 37,
     "metadata": {},
     "output_type": "execute_result"
    }
   ],
   "source": [
    "diffSD = np.sqrt(avgAgeSDOver**2/over50 + avgAgeSDUnder**2/under50)\n",
    "diffSD"
   ]
  },
  {
   "cell_type": "code",
   "execution_count": 41,
   "metadata": {},
   "outputs": [
    {
     "data": {
      "text/plain": [
       "49.504654608975386"
      ]
     },
     "execution_count": 41,
     "metadata": {},
     "output_type": "execute_result"
    }
   ],
   "source": [
    "ageZ = (avgAgeOver-avgAgeUnder)/diffSD\n",
    "ageZ"
   ]
  },
  {
   "cell_type": "code",
   "execution_count": 42,
   "metadata": {},
   "outputs": [
    {
     "data": {
      "text/plain": [
       "1.0"
      ]
     },
     "execution_count": 42,
     "metadata": {},
     "output_type": "execute_result"
    }
   ],
   "source": [
    "stats.norm.cdf(ageZ)"
   ]
  },
  {
   "cell_type": "markdown",
   "metadata": {},
   "source": [
    "We reject the null hypothesis that there is no difference in mean age. The p-value is less than 1e-50."
   ]
  },
  {
   "cell_type": "code",
   "execution_count": 45,
   "metadata": {},
   "outputs": [
    {
     "data": {
      "text/plain": [
       "(45.70657964837507, 39.34859186015715, 10.73698663369768, 11.95077413893298)"
      ]
     },
     "execution_count": 45,
     "metadata": {},
     "output_type": "execute_result"
    }
   ],
   "source": [
    "avgHoursOver = adult[adult['over_50k'] == '>50K'].hours_per_week.mean()\n",
    "avgHoursUnder = adult[adult['over_50k'] == '<=50K'].hours_per_week.mean()\n",
    "avgHoursOverSD = adult[adult['over_50k'] == '>50K'].hours_per_week.std()\n",
    "avgHoursUnderSD = adult[adult['over_50k'] == '<=50K'].hours_per_week.std()\n",
    "avgHoursOver,avgHoursUnder,avgHoursOverSD,avgHoursUnderSD"
   ]
  },
  {
   "cell_type": "code",
   "execution_count": 46,
   "metadata": {},
   "outputs": [
    {
     "data": {
      "text/plain": [
       "0.14717038516202069"
      ]
     },
     "execution_count": 46,
     "metadata": {},
     "output_type": "execute_result"
    }
   ],
   "source": [
    "diffHourSD = np.sqrt(avgHoursOverSD**2/over50 + avgHoursUnderSD**2/under50)\n",
    "diffHourSD"
   ]
  },
  {
   "cell_type": "code",
   "execution_count": 48,
   "metadata": {},
   "outputs": [
    {
     "data": {
      "text/plain": [
       "43.201543443800702"
      ]
     },
     "execution_count": 48,
     "metadata": {},
     "output_type": "execute_result"
    }
   ],
   "source": [
    "hoursZ = (avgHoursOver - avgHoursUnder) / diffHourSD\n",
    "hoursZ"
   ]
  },
  {
   "cell_type": "code",
   "execution_count": 49,
   "metadata": {},
   "outputs": [
    {
     "data": {
      "text/plain": [
       "1.0"
      ]
     },
     "execution_count": 49,
     "metadata": {},
     "output_type": "execute_result"
    }
   ],
   "source": [
    "stats.norm.cdf(hoursZ)"
   ]
  },
  {
   "cell_type": "markdown",
   "metadata": {},
   "source": [
    "Surprisingly we reject the null hypothesis as well and find that the individuals earning over $50,000 work longer hours per week than individuals earning less than $50,000."
   ]
  },
  {
   "cell_type": "code",
   "execution_count": null,
   "metadata": {
    "collapsed": true
   },
   "outputs": [],
   "source": []
  }
 ],
 "metadata": {
  "kernelspec": {
   "display_name": "Python 3",
   "language": "python",
   "name": "python3"
  },
  "language_info": {
   "codemirror_mode": {
    "name": "ipython",
    "version": 3
   },
   "file_extension": ".py",
   "mimetype": "text/x-python",
   "name": "python",
   "nbconvert_exporter": "python",
   "pygments_lexer": "ipython3",
   "version": "3.6.1"
  }
 },
 "nbformat": 4,
 "nbformat_minor": 2
}
